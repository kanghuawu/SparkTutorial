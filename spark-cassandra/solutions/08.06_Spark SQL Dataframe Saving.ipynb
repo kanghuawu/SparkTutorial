{
 "cells": [
  {
   "cell_type": "markdown",
   "metadata": {},
   "source": [
    "![DataStax Academy](https://s3.amazonaws.com/datastaxtraining/vq8Jr36Gk48v/datastax-academy.svg \"DataStax Academy\")"
   ]
  },
  {
   "cell_type": "markdown",
   "metadata": {},
   "source": [
    "# Exercise 08.06 - Spark SQL: Dataframe Saving"
   ]
  },
  {
   "cell_type": "markdown",
   "metadata": {},
   "source": [
    "## Background"
   ]
  },
  {
   "cell_type": "markdown",
   "metadata": {},
   "source": [
    "In this example we will be retrieving data from Cassandra, altering it and learning to save it back."
   ]
  },
  {
   "cell_type": "raw",
   "metadata": {},
   "source": [
    "CREATE TABLE videos (\n",
    "    video_id timeuuid PRIMARY KEY,\n",
    "    avg_rating float,\n",
    "    description text,\n",
    "    genres set<text>,\n",
    "    mpaa_rating text,\n",
    "    release_date timestamp,\n",
    "    release_year int,\n",
    "    title text,\n",
    "    user_id uuid)"
   ]
  },
  {
   "cell_type": "markdown",
   "metadata": {},
   "source": [
    "***"
   ]
  },
  {
   "cell_type": "markdown",
   "metadata": {},
   "source": [
    "## Directions"
   ]
  },
  {
   "cell_type": "markdown",
   "metadata": {},
   "source": [
    "We will begin by creating a dataframe based on the table `videos`."
   ]
  },
  {
   "cell_type": "code",
   "execution_count": 1,
   "metadata": {
    "collapsed": false
   },
   "outputs": [],
   "source": [
    "val movieDF = sqlContext.read.format(\"org.apache.spark.sql.cassandra\").options(Map(\"keyspace\" -> \"killr_video\", \"table\" -> \"videos\")).load"
   ]
  },
  {
   "cell_type": "markdown",
   "metadata": {
    "collapsed": false
   },
   "source": [
    "Next we will filter the dataframe data using the `col` method."
   ]
  },
  {
   "cell_type": "code",
   "execution_count": 2,
   "metadata": {
    "collapsed": false
   },
   "outputs": [
    {
     "name": "stdout",
     "output_type": "stream",
     "text": [
      "+--------------------+----------+--------------------+--------------------+-----------+--------------------+------------+--------------------+--------------------+\n",
      "|            video_id|avg_rating|         description|              genres|mpaa_rating|        release_date|release_year|               title|             user_id|\n",
      "+--------------------+----------+--------------------+--------------------+-----------+--------------------+------------+--------------------+--------------------+\n",
      "|ecf288d1-a5e2-11e...|       5.8|Paulie, an intell...| ArrayBuffer(Family)|         PG|1998-04-17 00:00:...|        1998|              Paulie|6b234a61-faa6-4b4...|\n",
      "|ece77fe6-a5e2-11e...|       6.1|After a lightning...|ArrayBuffer(Famil...|         PG|1986-05-09 00:00:...|        1986|       Short Circuit|6b234a61-faa6-4b4...|\n",
      "|ecec23e8-a5e2-11e...|       6.3|Dorothy, saved fr...|ArrayBuffer(Famil...|         PG|1985-06-21 00:00:...|        1985|        Return to Oz|6b234a61-faa6-4b4...|\n",
      "|ecf469ae-a5e2-11e...|       5.6|Maltazard, the Ev...|ArrayBuffer(Adven...|          G|2010-10-13 00:00:...|        2010|Arthur 3: The War...|6b234a61-faa6-4b4...|\n",
      "|ecf72a9c-a5e2-11e...|       6.8|A coming-of-age s...|ArrayBuffer(Drama...|         PG|2011-04-01 00:00:...|        2011|    That's What I Am|6b234a61-faa6-4b4...|\n",
      "|ecee4826-a5e2-11e...|       6.5|Musical adaptatio...|ArrayBuffer(Famil...|          G|1968-09-26 00:00:...|        1968|             Oliver!|6b234a61-faa6-4b4...|\n",
      "|ecf223a6-a5e2-11e...|       5.7|\"Cheaper by the D...| ArrayBuffer(Family)|          G|1950-03-31 00:00:...|        1950|Cheaper by the Dozen|6b234a61-faa6-4b4...|\n",
      "|ecebe61c-a5e2-11e...|       5.3|Some say that to ...| ArrayBuffer(Family)|         PG|1996-08-30 00:00:...|        1996|           First Kid|6b234a61-faa6-4b4...|\n",
      "|ece96ab8-a5e2-11e...|       5.8|Babe is a little ...|ArrayBuffer(Comed...|          G|1995-08-03 00:00:...|        1995|                Babe|6b234a61-faa6-4b4...|\n",
      "|ecee756b-a5e2-11e...|       5.9|Hapless museum ni...|ArrayBuffer(Actio...|         PG|2009-05-21 00:00:...|        2009|Night at the Muse...|6b234a61-faa6-4b4...|\n",
      "|ecf4eef5-a5e2-11e...|       5.5|A mischievous you...|ArrayBuffer(Adven...|         PG|1995-12-22 00:00:...|        1995|        Tom and Huck|6b234a61-faa6-4b4...|\n",
      "|ecea8ea1-a5e2-11e...|       5.7|A faithful adapta...|ArrayBuffer(Drama...|         PG|1994-12-23 00:00:...|        1994|     The Jungle Book|6b234a61-faa6-4b4...|\n",
      "|ecf06be3-a5e2-11e...|       4.3|A comedy/musical ...|ArrayBuffer(Comed...|         PG|1982-08-06 00:00:...|        1982|    The Pirate Movie|6b234a61-faa6-4b4...|\n",
      "|ecea0d11-a5e2-11e...|       5.9|A bored and domes...|ArrayBuffer(Adven...|         PG|2010-05-16 00:00:...|        2010| Shrek Forever After|6b234a61-faa6-4b4...|\n",
      "|eceba3a8-a5e2-11e...|       6.9|Bestowed with sup...|ArrayBuffer(Comed...|          G|1997-06-27 00:00:...|        1997|            Hercules|6b234a61-faa6-4b4...|\n",
      "|ecef1da1-a5e2-11e...|       5.9|The first story f...|ArrayBuffer(Anima...|         PG|2000-03-17 00:00:...|        2000|  Digimon: The Movie|6b234a61-faa6-4b4...|\n",
      "|ece8586b-a5e2-11e...|       6.5|Remake of the pop...|ArrayBuffer(Comed...|          G|1993-02-03 00:00:...|        1993|Homeward Bound: T...|6b234a61-faa6-4b4...|\n",
      "|ecf10175-a5e2-11e...|       4.7|When a widower wi...|ArrayBuffer(Drama...|         NR|1968-04-24 00:00:...|        1968|Yours, Mine and Ours|6b234a61-faa6-4b4...|\n",
      "|ece78d91-a5e2-11e...|       5.2|Buffalo newsman E...|ArrayBuffer(Comed...|         PG|2007-06-09 00:00:...|        2007|       Evan Almighty|6b234a61-faa6-4b4...|\n",
      "|ecec0cf0-a5e2-11e...|       6.7|Nerdy high school...|ArrayBuffer(Comed...|      PG-13|1987-08-14 00:00:...|        1987|   Can't Buy Me Love|6b234a61-faa6-4b4...|\n",
      "+--------------------+----------+--------------------+--------------------+-----------+--------------------+------------+--------------------+--------------------+\n",
      "\n"
     ]
    }
   ],
   "source": [
    "import org.apache.spark.sql.functions._\n",
    "\n",
    "val familyDF = movieDF.filter(col(\"genres\").contains(\"Family\"))\n",
    "\n",
    "familyDF.show"
   ]
  },
  {
   "cell_type": "markdown",
   "metadata": {},
   "source": [
    "To save back to Cassandra we use the `write` method and `save`. The family_video schema is identical to the videos schema making this a simple task."
   ]
  },
  {
   "cell_type": "code",
   "execution_count": 11,
   "metadata": {
    "collapsed": false
   },
   "outputs": [
    {
     "data": {
      "text/plain": [
       "Name: java.lang.UnsupportedOperationException\n",
       "Message: 'Writing to a non-empty Cassandra Table is not allowed.'\n",
       "StackTrace: org.apache.spark.sql.cassandra.DefaultSource.createRelation(DefaultSource.scala:93)\n",
       "org.apache.spark.sql.sources.ResolvedDataSource$.apply(ddl.scala:309)\n",
       "org.apache.spark.sql.DataFrameWriter.save(DataFrameWriter.scala:144)\n",
       "$line37.$read$$iwC$$iwC$$iwC$$iwC$$iwC$$iwC$$iwC$$iwC.<init>(<console>:25)\n",
       "$line37.$read$$iwC$$iwC$$iwC$$iwC$$iwC$$iwC$$iwC.<init>(<console>:30)\n",
       "$line37.$read$$iwC$$iwC$$iwC$$iwC$$iwC$$iwC.<init>(<console>:32)\n",
       "$line37.$read$$iwC$$iwC$$iwC$$iwC$$iwC.<init>(<console>:34)\n",
       "$line37.$read$$iwC$$iwC$$iwC$$iwC.<init>(<console>:36)\n",
       "$line37.$read$$iwC$$iwC$$iwC.<init>(<console>:38)\n",
       "$line37.$read$$iwC$$iwC.<init>(<console>:40)\n",
       "$line37.$read$$iwC.<init>(<console>:42)\n",
       "$line37.$read.<init>(<console>:44)\n",
       "$line37.$read$.<init>(<console>:48)\n",
       "$line37.$read$.<clinit>(<console>)\n",
       "$line37.$eval$.<init>(<console>:7)\n",
       "$line37.$eval$.<clinit>(<console>)\n",
       "$line37.$eval.$print(<console>)\n",
       "sun.reflect.NativeMethodAccessorImpl.invoke0(Native Method)\n",
       "sun.reflect.NativeMethodAccessorImpl.invoke(NativeMethodAccessorImpl.java:62)\n",
       "sun.reflect.DelegatingMethodAccessorImpl.invoke(DelegatingMethodAccessorImpl.java:43)\n",
       "java.lang.reflect.Method.invoke(Method.java:497)\n",
       "org.apache.spark.repl.SparkIMain$ReadEvalPrint.call(SparkIMain.scala:1065)\n",
       "org.apache.spark.repl.SparkIMain$Request.loadAndRun(SparkIMain.scala:1338)\n",
       "org.apache.spark.repl.SparkIMain.loadAndRunReq$1(SparkIMain.scala:840)\n",
       "org.apache.spark.repl.SparkIMain.interpret(SparkIMain.scala:871)\n",
       "org.apache.spark.repl.SparkIMain.interpret(SparkIMain.scala:819)\n",
       "com.ibm.spark.interpreter.ScalaInterpreter$$anonfun$interpretAddTask$1$$anonfun$apply$3.apply(ScalaInterpreter.scala:301)\n",
       "com.ibm.spark.interpreter.ScalaInterpreter$$anonfun$interpretAddTask$1$$anonfun$apply$3.apply(ScalaInterpreter.scala:296)\n",
       "com.ibm.spark.global.StreamState$.withStreams(StreamState.scala:80)\n",
       "com.ibm.spark.interpreter.ScalaInterpreter$$anonfun$interpretAddTask$1.apply(ScalaInterpreter.scala:295)\n",
       "com.ibm.spark.interpreter.ScalaInterpreter$$anonfun$interpretAddTask$1.apply(ScalaInterpreter.scala:295)\n",
       "com.ibm.spark.utils.TaskManager$$anonfun$add$2$$anon$1.run(TaskManager.scala:123)\n",
       "java.util.concurrent.ThreadPoolExecutor.runWorker(ThreadPoolExecutor.java:1142)\n",
       "java.util.concurrent.ThreadPoolExecutor$Worker.run(ThreadPoolExecutor.java:617)\n",
       "java.lang.Thread.run(Thread.java:745)"
      ]
     },
     "execution_count": 11,
     "metadata": {},
     "output_type": "execute_result"
    }
   ],
   "source": [
    "familyDF.write.format(\"org.apache.spark.sql.cassandra\").options(Map(\"keyspace\" -> \"killr_video\" , \"table\" -> \"family_videos\")).save"
   ]
  }
 ],
 "metadata": {
  "kernelspec": {
   "display_name": "Spark-DSE Cluster",
   "language": "scala",
   "name": "spark-dse-cluster"
  },
  "language_info": {
   "name": "scala"
  }
 },
 "nbformat": 4,
 "nbformat_minor": 0
}
