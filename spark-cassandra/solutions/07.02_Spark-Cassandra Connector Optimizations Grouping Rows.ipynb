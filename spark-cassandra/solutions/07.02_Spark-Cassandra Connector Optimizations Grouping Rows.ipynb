{
 "cells": [
  {
   "cell_type": "markdown",
   "metadata": {},
   "source": [
    "![DataStax Academy](https://s3.amazonaws.com/datastaxtraining/vq8Jr36Gk48v/datastax-academy.svg \"DataStax Academy\")"
   ]
  },
  {
   "cell_type": "markdown",
   "metadata": {},
   "source": [
    "# Exercise 07.02 - Spark-Cassandra Connector Optimizations: Grouping Rows"
   ]
  },
  {
   "cell_type": "markdown",
   "metadata": {},
   "source": [
    "## Background"
   ]
  },
  {
   "cell_type": "markdown",
   "metadata": {},
   "source": [
    "With this exercise, you will be optimizing working Spark code by using the `spanByKey` method.\n",
    "\n",
    "You'll be working with the `videos_by_two_actors` table:"
   ]
  },
  {
   "cell_type": "raw",
   "metadata": {},
   "source": [
    "CREATE TABLE killr_video.videos_by_two_actors (\n",
    "    actor1 TEXT,\n",
    "    actor2 TEXT,\n",
    "    video_id TIMEUUID,\n",
    "    release_year INT,\n",
    "    title TEXT,\n",
    "    PRIMARY KEY (actor1, actor2, video_id)\n",
    ");"
   ]
  },
  {
   "cell_type": "markdown",
   "metadata": {},
   "source": [
    "***"
   ]
  },
  {
   "cell_type": "markdown",
   "metadata": {},
   "source": [
    "## Directions"
   ]
  },
  {
   "cell_type": "markdown",
   "metadata": {},
   "source": [
    "Of the following two queries, which can be optimized using spanByKey so that Cassandra performs the grouping instead of Spark?"
   ]
  },
  {
   "cell_type": "code",
   "execution_count": 1,
   "metadata": {
    "collapsed": false
   },
   "outputs": [
    {
     "name": "stdout",
     "output_type": "stream",
     "text": [
      "\r",
      "                                                                                \r",
      "((Robert Patrick,Kurt Fuller),CompactBuffer(ece8d7c2-a5e2-11e5-b934-a45e60eb67c5))\n",
      "((Tony Curran,Gerard Butler),CompactBuffer(ece81d5c-a5e2-11e5-bb4f-a45e60eb67c5))\n",
      "((Lottie Steer,Cleo Sylvestre),CompactBuffer(ecfd32c7-a5e2-11e5-91af-a45e60eb67c5))\n"
     ]
    }
   ],
   "source": [
    "sc.cassandraTable[(String,String,java.util.UUID)](\"killr_video\", \"videos_by_two_actors\").select(\n",
    "                         \"actor1\", \"actor2\", \"video_id\").as(\n",
    "                         (actor1 : String, actor2 : String, id : java.util.UUID) => \n",
    "                         ((actor1, actor2), id)).groupByKey.take(3).foreach(println)"
   ]
  },
  {
   "cell_type": "code",
   "execution_count": 2,
   "metadata": {
    "collapsed": false
   },
   "outputs": [
    {
     "name": "stdout",
     "output_type": "stream",
     "text": [
      "\r",
      "                                                                                \r",
      "(Larry Eugene Sanders II,CompactBuffer(ecfbb3d1-a5e2-11e5-9aea-a45e60eb67c5, ecfbb3d1-a5e2-11e5-9aea-a45e60eb67c5, ecfbb3d1-a5e2-11e5-9aea-a45e60eb67c5, ecfbb3d1-a5e2-11e5-9aea-a45e60eb67c5, ecfbb3d1-a5e2-11e5-9aea-a45e60eb67c5, ecfbb3d1-a5e2-11e5-9aea-a45e60eb67c5, ecfbb3d1-a5e2-11e5-9aea-a45e60eb67c5, ecfbb3d1-a5e2-11e5-9aea-a45e60eb67c5, ecfbb3d1-a5e2-11e5-9aea-a45e60eb67c5, ecfbb3d1-a5e2-11e5-9aea-a45e60eb67c5, ecfbb3d1-a5e2-11e5-9aea-a45e60eb67c5, ecfbb3d1-a5e2-11e5-9aea-a45e60eb67c5, ecfbb3d1-a5e2-11e5-9aea-a45e60eb67c5, ecfbb3d1-a5e2-11e5-9aea-a45e60eb67c5, ecfbb3d1-a5e2-11e5-9aea-a45e60eb67c5, ecfbb3d1-a5e2-11e5-9aea-a45e60eb67c5, ecfbb3d1-a5e2-11e5-9aea-a45e60eb67c5, ecfbb3d1-a5e2-11e5-9aea-a45e60eb67c5, ecfbb3d1-a5e2-11e5-9aea-a45e60eb67c5, ecfbb3d1-a5e2-11e5-9aea-a45e60eb67c5, ecfbb3d1-a5e2-11e5-9aea-a45e60eb67c5, ecfbb3d1-a5e2-11e5-9aea-a45e60eb67c5, ecfbb3d1-a5e2-11e5-9aea-a45e60eb67c5, ecfbb3d1-a5e2-11e5-9aea-a45e60eb67c5, ecfbb3d1-a5e2-11e5-9aea-a45e60eb67c5, ecfbb3d1-a5e2-11e5-9aea-a45e60eb67c5, ecfbb3d1-a5e2-11e5-9aea-a45e60eb67c5, ecfbb3d1-a5e2-11e5-9aea-a45e60eb67c5, ecfbb3d1-a5e2-11e5-9aea-a45e60eb67c5, ecfbb3d1-a5e2-11e5-9aea-a45e60eb67c5, ecfbb3d1-a5e2-11e5-9aea-a45e60eb67c5, ecfbb3d1-a5e2-11e5-9aea-a45e60eb67c5, ecfbb3d1-a5e2-11e5-9aea-a45e60eb67c5, ecfbb3d1-a5e2-11e5-9aea-a45e60eb67c5, ecfbb3d1-a5e2-11e5-9aea-a45e60eb67c5, ecfbb3d1-a5e2-11e5-9aea-a45e60eb67c5, ecfbb3d1-a5e2-11e5-9aea-a45e60eb67c5, ecfbb3d1-a5e2-11e5-9aea-a45e60eb67c5, ecfbb3d1-a5e2-11e5-9aea-a45e60eb67c5, ecfbb3d1-a5e2-11e5-9aea-a45e60eb67c5, ecfbb3d1-a5e2-11e5-9aea-a45e60eb67c5, ecfbb3d1-a5e2-11e5-9aea-a45e60eb67c5, ecfbb3d1-a5e2-11e5-9aea-a45e60eb67c5, ecfbb3d1-a5e2-11e5-9aea-a45e60eb67c5, ecfbb3d1-a5e2-11e5-9aea-a45e60eb67c5, ecfbb3d1-a5e2-11e5-9aea-a45e60eb67c5, ecfbb3d1-a5e2-11e5-9aea-a45e60eb67c5, ecfbb3d1-a5e2-11e5-9aea-a45e60eb67c5, ecfbb3d1-a5e2-11e5-9aea-a45e60eb67c5, ecfbb3d1-a5e2-11e5-9aea-a45e60eb67c5, ecfbb3d1-a5e2-11e5-9aea-a45e60eb67c5, ecfbb3d1-a5e2-11e5-9aea-a45e60eb67c5, ecfbb3d1-a5e2-11e5-9aea-a45e60eb67c5, ecfbb3d1-a5e2-11e5-9aea-a45e60eb67c5, ecfbb3d1-a5e2-11e5-9aea-a45e60eb67c5, ecfbb3d1-a5e2-11e5-9aea-a45e60eb67c5, ecfbb3d1-a5e2-11e5-9aea-a45e60eb67c5, ecfbb3d1-a5e2-11e5-9aea-a45e60eb67c5, ecfbb3d1-a5e2-11e5-9aea-a45e60eb67c5, ecfbb3d1-a5e2-11e5-9aea-a45e60eb67c5, ecfbb3d1-a5e2-11e5-9aea-a45e60eb67c5, ecfbb3d1-a5e2-11e5-9aea-a45e60eb67c5, ecfbb3d1-a5e2-11e5-9aea-a45e60eb67c5, ecfbb3d1-a5e2-11e5-9aea-a45e60eb67c5, ecfbb3d1-a5e2-11e5-9aea-a45e60eb67c5, ecfbb3d1-a5e2-11e5-9aea-a45e60eb67c5, ecfbb3d1-a5e2-11e5-9aea-a45e60eb67c5, ecfbb3d1-a5e2-11e5-9aea-a45e60eb67c5, ecfbb3d1-a5e2-11e5-9aea-a45e60eb67c5, ecfbb3d1-a5e2-11e5-9aea-a45e60eb67c5, ecfbb3d1-a5e2-11e5-9aea-a45e60eb67c5, ecfbb3d1-a5e2-11e5-9aea-a45e60eb67c5, ecfbb3d1-a5e2-11e5-9aea-a45e60eb67c5, ecfbb3d1-a5e2-11e5-9aea-a45e60eb67c5, ecfbb3d1-a5e2-11e5-9aea-a45e60eb67c5, ecfbb3d1-a5e2-11e5-9aea-a45e60eb67c5, ecfbb3d1-a5e2-11e5-9aea-a45e60eb67c5, ecfbb3d1-a5e2-11e5-9aea-a45e60eb67c5, ecfbb3d1-a5e2-11e5-9aea-a45e60eb67c5, ecfbb3d1-a5e2-11e5-9aea-a45e60eb67c5, ecfbb3d1-a5e2-11e5-9aea-a45e60eb67c5, ecfbb3d1-a5e2-11e5-9aea-a45e60eb67c5, ecfbb3d1-a5e2-11e5-9aea-a45e60eb67c5, ecfbb3d1-a5e2-11e5-9aea-a45e60eb67c5, ecfbb3d1-a5e2-11e5-9aea-a45e60eb67c5, ecfbb3d1-a5e2-11e5-9aea-a45e60eb67c5, ecfbb3d1-a5e2-11e5-9aea-a45e60eb67c5, ecfbb3d1-a5e2-11e5-9aea-a45e60eb67c5, ecfbb3d1-a5e2-11e5-9aea-a45e60eb67c5, ecfbb3d1-a5e2-11e5-9aea-a45e60eb67c5, ecfbb3d1-a5e2-11e5-9aea-a45e60eb67c5, ecfbb3d1-a5e2-11e5-9aea-a45e60eb67c5, ecfbb3d1-a5e2-11e5-9aea-a45e60eb67c5, ecfbb3d1-a5e2-11e5-9aea-a45e60eb67c5, ecfbb3d1-a5e2-11e5-9aea-a45e60eb67c5, ecfbb3d1-a5e2-11e5-9aea-a45e60eb67c5, ecfbb3d1-a5e2-11e5-9aea-a45e60eb67c5, ecfbb3d1-a5e2-11e5-9aea-a45e60eb67c5, ecfbb3d1-a5e2-11e5-9aea-a45e60eb67c5, ecfbb3d1-a5e2-11e5-9aea-a45e60eb67c5, ecfbb3d1-a5e2-11e5-9aea-a45e60eb67c5, ecfbb3d1-a5e2-11e5-9aea-a45e60eb67c5, ecfbb3d1-a5e2-11e5-9aea-a45e60eb67c5))\n",
      "(Alexandra Berardi,CompactBuffer(ece7764a-a5e2-11e5-b221-a45e60eb67c5, ece7764a-a5e2-11e5-b221-a45e60eb67c5, ece7764a-a5e2-11e5-b221-a45e60eb67c5, ece7764a-a5e2-11e5-b221-a45e60eb67c5, ece7764a-a5e2-11e5-b221-a45e60eb67c5, ece7764a-a5e2-11e5-b221-a45e60eb67c5, ece7764a-a5e2-11e5-b221-a45e60eb67c5, ece7764a-a5e2-11e5-b221-a45e60eb67c5, ece7764a-a5e2-11e5-b221-a45e60eb67c5, ece7764a-a5e2-11e5-b221-a45e60eb67c5, ece7764a-a5e2-11e5-b221-a45e60eb67c5, ece7764a-a5e2-11e5-b221-a45e60eb67c5))\n",
      "(Enrico Lo Verso,CompactBuffer(ece991e6-a5e2-11e5-90c6-a45e60eb67c5, ece991e6-a5e2-11e5-90c6-a45e60eb67c5, ece991e6-a5e2-11e5-90c6-a45e60eb67c5, ece991e6-a5e2-11e5-90c6-a45e60eb67c5, ece991e6-a5e2-11e5-90c6-a45e60eb67c5, ece991e6-a5e2-11e5-90c6-a45e60eb67c5, ece991e6-a5e2-11e5-90c6-a45e60eb67c5, ece991e6-a5e2-11e5-90c6-a45e60eb67c5, ece991e6-a5e2-11e5-90c6-a45e60eb67c5, ece991e6-a5e2-11e5-90c6-a45e60eb67c5, ece991e6-a5e2-11e5-90c6-a45e60eb67c5, ece991e6-a5e2-11e5-90c6-a45e60eb67c5, ece991e6-a5e2-11e5-90c6-a45e60eb67c5, ece991e6-a5e2-11e5-90c6-a45e60eb67c5, ece991e6-a5e2-11e5-90c6-a45e60eb67c5))\n"
     ]
    }
   ],
   "source": [
    "sc.cassandraTable[(String,java.util.UUID)](\"killr_video\",\"videos_by_two_actors\").select(\n",
    "                  \"actor1\",\"video_id\").groupByKey.take(3).foreach(println)"
   ]
  },
  {
   "cell_type": "markdown",
   "metadata": {},
   "source": [
    "The first query because we are grouping by a primary key and a clustering column. The second query only groups by a clustering column, which would require Cassandra to gather all the added_year values from several partitions and group them together."
   ]
  },
  {
   "cell_type": "markdown",
   "metadata": {},
   "source": [
    "#### 1. Edit the query you chose in the code box below to use `spanByKey` and execute it. Was there any apparent difference in the execution time?"
   ]
  },
  {
   "cell_type": "code",
   "execution_count": 3,
   "metadata": {
    "collapsed": false
   },
   "outputs": [
    {
     "name": "stdout",
     "output_type": "stream",
     "text": [
      "((Daisy Tormé,Akbar Kurtha),ArrayBuffer(ece5f8eb-a5e2-11e5-89f5-a45e60eb67c5))\n",
      "((Daisy Tormé,Alexander Siddig),ArrayBuffer(ece5f8eb-a5e2-11e5-89f5-a45e60eb67c5))\n",
      "((Daisy Tormé,Amanda Peet),ArrayBuffer(ece5f8eb-a5e2-11e5-89f5-a45e60eb67c5))\n"
     ]
    }
   ],
   "source": [
    "sc.cassandraTable[(String,String,java.util.UUID)](\"killr_video\", \"videos_by_two_actors\").select(\n",
    "                         \"actor1\", \"actor2\", \"video_id\").as(\n",
    "                         (actor1 : String, actor2 : String, id : java.util.UUID) => \n",
    "                         ((actor1, actor2), id)).spanByKey.take(3).foreach(println)"
   ]
  },
  {
   "cell_type": "markdown",
   "metadata": {},
   "source": [
    "Remember that you can use the Spark UI at http://localhost:4040/jobs to check the execution time."
   ]
  },
  {
   "cell_type": "markdown",
   "metadata": {},
   "source": [
    "The query using `groupByKey` takes much much longer than the query using `spanByKey`."
   ]
  }
 ],
 "metadata": {
  "kernelspec": {
   "display_name": "Spark-DSE Cluster",
   "language": "scala",
   "name": "spark-dse-cluster"
  },
  "language_info": {
   "name": "scala"
  }
 },
 "nbformat": 4,
 "nbformat_minor": 0
}
