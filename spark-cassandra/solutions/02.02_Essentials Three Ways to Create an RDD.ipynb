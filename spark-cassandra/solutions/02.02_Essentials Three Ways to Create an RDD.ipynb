{
 "cells": [
  {
   "cell_type": "markdown",
   "metadata": {},
   "source": [
    "![DataStax Academy](https://s3.amazonaws.com/datastaxtraining/vq8Jr36Gk48v/datastax-academy.svg \"DataStax Academy\")"
   ]
  },
  {
   "cell_type": "markdown",
   "metadata": {},
   "source": [
    "# Exercise 02.02 - Essentials: Three Ways to Create an RDD"
   ]
  },
  {
   "cell_type": "markdown",
   "metadata": {},
   "source": [
    "## Background"
   ]
  },
  {
   "cell_type": "markdown",
   "metadata": {},
   "source": [
    "In this exercise you will practice creating an RDD from a few different data sources: \n",
    "\n",
    "1. Parallelizing a collection\n",
    "2. Load data from storage\n",
    "3. Transforming an RDD\n",
    "\n",
    "One of the data sources you'll be working with is a Cassandra table, `killr_video.videos`, with the table definition:"
   ]
  },
  {
   "cell_type": "raw",
   "metadata": {},
   "source": [
    "CREATE TABLE killr_video.videos (\n",
    "   video_id TIMEUUID,\n",
    "   avg_rating FLOAT,\n",
    "   description TEXT,\n",
    "   genres SET<TEXT>,\n",
    "   mpaa_rating TEXT,\n",
    "   release_date TIMESTAMP,\n",
    "   release_year INT,\n",
    "   title TEXT,\n",
    "   user_id UUID,\n",
    "   PRIMARY KEY (video_id)\n",
    ");"
   ]
  },
  {
   "cell_type": "markdown",
   "metadata": {},
   "source": [
    "You'll also be working with a CSV file, `/root/data/video-years.csv`, which contains columns in the following order:"
   ]
  },
  {
   "cell_type": "raw",
   "metadata": {},
   "source": [
    "video_id, title, year"
   ]
  },
  {
   "cell_type": "markdown",
   "metadata": {},
   "source": [
    "***"
   ]
  },
  {
   "cell_type": "markdown",
   "metadata": {},
   "source": [
    "## Directions"
   ]
  },
  {
   "cell_type": "markdown",
   "metadata": {},
   "source": [
    "#### 1. Create a List object with the following movie titles, and set to a `val`:"
   ]
  },
  {
   "cell_type": "raw",
   "metadata": {},
   "source": [
    "Winnie the Pooh\n",
    "The Tigger Movie\n",
    "Pirates of the Caribbean\n",
    "Apollo 13\n",
    "Mallcop\n",
    "Mockingjay - Part 1\n",
    "The Good Dinosaur\n",
    "Lava\n",
    "The Peanuts Movie"
   ]
  },
  {
   "cell_type": "code",
   "execution_count": 1,
   "metadata": {
    "collapsed": false
   },
   "outputs": [],
   "source": [
    "val list = List(\"Winnie the Pooh\", \"The Tigger Movie\", \"Pirates of the Caribbean\", \"Apollo 13\", \"Mall Cop\", \"Mockingjay - Part 1\", \"The Good Dinosaur\", \"Lava\", \"The Peanuts Movie\")"
   ]
  },
  {
   "cell_type": "markdown",
   "metadata": {},
   "source": [
    "#### 2. From the List object, create an RDD using the `parallelize` method. "
   ]
  },
  {
   "cell_type": "code",
   "execution_count": 2,
   "metadata": {
    "collapsed": false
   },
   "outputs": [
    {
     "data": {
      "text/plain": [
       "org.apache.spark.rdd.RDD[String] = ParallelCollectionRDD[1] at parallelize at <console>:20"
      ]
     },
     "execution_count": 2,
     "metadata": {},
     "output_type": "execute_result"
    }
   ],
   "source": [
    "sc.parallelize(list)"
   ]
  },
  {
   "cell_type": "markdown",
   "metadata": {},
   "source": [
    "The output should show that you now have a org.apache.spark.rdd.RDD object!"
   ]
  },
  {
   "cell_type": "markdown",
   "metadata": {},
   "source": [
    "#### 3. Create the RDD again, but use the `take` action to retrieve the first 3 elements of the RDD."
   ]
  },
  {
   "cell_type": "code",
   "execution_count": 3,
   "metadata": {
    "collapsed": false
   },
   "outputs": [
    {
     "data": {
      "text/plain": [
       "Array[String] = Array(Winnie the Pooh, The Tigger Movie, Pirates of the Caribbean)"
      ]
     },
     "execution_count": 3,
     "metadata": {},
     "output_type": "execute_result"
    }
   ],
   "source": [
    "sc.parallelize(list).take(3)"
   ]
  },
  {
   "cell_type": "markdown",
   "metadata": {},
   "source": [
    "The `take` action returns an Array with the elements from the RDD, which in this case are Strings."
   ]
  },
  {
   "cell_type": "markdown",
   "metadata": {},
   "source": [
    "#### 4. Now let's create an RDD from the Cassandra `killr_video.videos` table and set that to a `val`. Retrieve the first element in the RDD."
   ]
  },
  {
   "cell_type": "code",
   "execution_count": 4,
   "metadata": {
    "collapsed": false
   },
   "outputs": [],
   "source": [
    "val tableRDD = sc.cassandraTable(\"killr_video\", \"videos\")\n",
    "tableRDD.take(1)"
   ]
  },
  {
   "cell_type": "markdown",
   "metadata": {},
   "source": [
    "The retrieved Array should contain a CassandraRow with columns and values, the same as the table definition above."
   ]
  },
  {
   "cell_type": "markdown",
   "metadata": {},
   "source": [
    "#### 5. Finally, let's create an RDD using a transformation. Run the next code box, and then filter the resulting `csvRDD` to create an RDD with only the movies released in 2002 or later. Print out the contents of the RDD."
   ]
  },
  {
   "cell_type": "code",
   "execution_count": 5,
   "metadata": {
    "collapsed": false
   },
   "outputs": [],
   "source": [
    "val csvArray = sc.textFile(\"file:///root/data/video-years.csv\").map(line => line.split(\",\") )\n",
    "val csvRDD = csvArray collect { case Array(video_id: String, title: String, year: String) => (video_id,title,year.toInt) }"
   ]
  },
  {
   "cell_type": "code",
   "execution_count": 6,
   "metadata": {
    "collapsed": false
   },
   "outputs": [
    {
     "name": "stdout",
     "output_type": "stream",
     "text": [
      "(b6d734d1-9aea-11e5-a6ca-8b496c707234,\"Stuart Little 2\",2002)\n",
      "(b6c5cfb5-9aea-11e5-a6ca-8b496c707234,\"Piglet's Big Movie\",2003)\n",
      "(b6c31093-9aea-11e5-a6ca-8b496c707234,\"The Country Bears\",2002)\n",
      "(b6d89469-9aea-11e5-a6ca-8b496c707234,\"The Jungle Book 2\",2003)\n",
      "(b6c31095-9aea-11e5-a6ca-8b496c707234,\"Tarzan & Jane\",2002)\n",
      "(b6d9cce1-9aea-11e5-a6ca-8b496c707234,\"Finding Nemo\",2003)\n"
     ]
    }
   ],
   "source": [
    "csvRDD.filter{ case (video_id, title, year) => year >= 2002 }.collect().foreach(println)"
   ]
  }
 ],
 "metadata": {
  "kernelspec": {
   "display_name": "Spark-DSE Cluster",
   "language": "scala",
   "name": "spark-dse-cluster"
  },
  "language_info": {
   "name": "scala"
  }
 },
 "nbformat": 4,
 "nbformat_minor": 0
}
