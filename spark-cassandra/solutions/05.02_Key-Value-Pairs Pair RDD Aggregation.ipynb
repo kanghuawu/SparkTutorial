{
 "cells": [
  {
   "cell_type": "markdown",
   "metadata": {},
   "source": [
    "![DataStax Academy](https://s3.amazonaws.com/datastaxtraining/vq8Jr36Gk48v/datastax-academy.svg \"DataStax Academy\")"
   ]
  },
  {
   "cell_type": "markdown",
   "metadata": {},
   "source": [
    "# Exercise 05.02 - Key-Value Pairs: Pair RDD Aggregation"
   ]
  },
  {
   "cell_type": "markdown",
   "metadata": {},
   "source": [
    "## Background"
   ]
  },
  {
   "cell_type": "markdown",
   "metadata": {},
   "source": [
    "In this exercise, you will be computing some key-based aggregates for pair RDDs and storing the results in Cassandra. \n",
    "\n",
    "Data will be from the Cassandra `videos_by_tag` table with the following definition:"
   ]
  },
  {
   "cell_type": "raw",
   "metadata": {},
   "source": [
    "CREATE TABLE killr_video.videos_by_tag (\n",
    "    tag TEXT,\n",
    "    title TEXT,\n",
    "    video_id TIMEUUID,\n",
    "    avg_rating FLOAT,\n",
    "    description TEXT,\n",
    "    genres SET<TEXT>,\n",
    "    mpaa_rating TEXT,\n",
    "    release_date TIMESTAMP,\n",
    "    release_year INT,\n",
    "    user_id UUID,\n",
    "    PRIMARY KEY (tag, title, video_id)\n",
    ");"
   ]
  },
  {
   "cell_type": "markdown",
   "metadata": {},
   "source": [
    "Note: There are some columns which may have a null value: `avg_rating` and `description`. Be sure to use the `Option[]` data type for those columns."
   ]
  },
  {
   "cell_type": "markdown",
   "metadata": {},
   "source": [
    "***"
   ]
  },
  {
   "cell_type": "markdown",
   "metadata": {},
   "source": [
    "## Directions"
   ]
  },
  {
   "cell_type": "markdown",
   "metadata": {},
   "source": [
    "#### 1. Write a query that counts the number of videos per unique tag using the `reduceByKey()` method."
   ]
  },
  {
   "cell_type": "code",
   "execution_count": 1,
   "metadata": {
    "collapsed": false
   },
   "outputs": [
    {
     "name": "stdout",
     "output_type": "stream",
     "text": [
      "(reference to justin bieber,1)\n",
      "(children's perspectives,1)\n",
      "(reunion,4)\n",
      "(bone,1)\n",
      "(polar zone,1)\n",
      "(student mentor relationship,1)\n",
      "(old woman,1)\n",
      "(old friends,1)\n",
      "(hit with a rock,1)\n",
      "(teenage,3)\n"
     ]
    }
   ],
   "source": [
    "val videos = sc.cassandraTable(\"killr_video\", \"videos_by_tag\").select(\"tag\")\n",
    "\n",
    "videos.map(record => (record.getString(\"tag\"), 1)).reduceByKey(_ + _).collect.take(10).foreach(println)"
   ]
  },
  {
   "cell_type": "markdown",
   "metadata": {},
   "source": [
    "#### 2. Write a query that counts the number of videos per unique tag using the `countByKey()` method."
   ]
  },
  {
   "cell_type": "code",
   "execution_count": 2,
   "metadata": {
    "collapsed": false
   },
   "outputs": [
    {
     "name": "stdout",
     "output_type": "stream",
     "text": [
      "(burn victim,1)\n",
      "(dulles international airport,1)\n",
      "(meteorologist,1)\n",
      "(public relations,2)\n",
      "(hit with a frying pan,1)\n",
      "(ehepaar,2)\n",
      "(secret mission,13)\n",
      "(lover,5)\n",
      "(salesperson,1)\n",
      "(los angeles,32)\n"
     ]
    }
   ],
   "source": [
    "val videos = sc.cassandraTable(\"killr_video\", \"videos_by_tag\").select(\"tag\")\n",
    "\n",
    "videos.map(record => (record.getString(\"tag\"), 1)).countByKey.take(10).foreach(println)"
   ]
  }
 ],
 "metadata": {
  "kernelspec": {
   "display_name": "Spark-DSE Cluster",
   "language": "scala",
   "name": "spark-dse-cluster"
  },
  "language_info": {
   "name": "scala"
  }
 },
 "nbformat": 4,
 "nbformat_minor": 0
}
