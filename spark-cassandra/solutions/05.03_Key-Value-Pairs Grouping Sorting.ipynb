{
 "cells": [
  {
   "cell_type": "markdown",
   "metadata": {},
   "source": [
    "![DataStax Academy](https://s3.amazonaws.com/datastaxtraining/vq8Jr36Gk48v/datastax-academy.svg \"DataStax Academy\")"
   ]
  },
  {
   "cell_type": "markdown",
   "metadata": {},
   "source": [
    "# Exercise 05.03 - Key-Value Pairs: Grouping-Sorting"
   ]
  },
  {
   "cell_type": "markdown",
   "metadata": {},
   "source": [
    "## Background"
   ]
  },
  {
   "cell_type": "markdown",
   "metadata": {},
   "source": [
    "This exercise will have you practicing grouping and sorting a dataset.\n",
    "\n",
    "Data will be from the Cassandra `videos_by_tag` table with the following definition:"
   ]
  },
  {
   "cell_type": "raw",
   "metadata": {},
   "source": [
    "CREATE TABLE killr_video.videos_by_tag (\n",
    "    tag TEXT,\n",
    "    title TEXT,\n",
    "    video_id TIMEUUID,\n",
    "    avg_rating FLOAT,\n",
    "    description TEXT,\n",
    "    genres SET<TEXT>,\n",
    "    mpaa_rating TEXT,\n",
    "    release_date TIMESTAMP,\n",
    "    release_year INT,\n",
    "    user_id UUID,\n",
    "    PRIMARY KEY (tag, title, video_id)\n",
    ");"
   ]
  },
  {
   "cell_type": "markdown",
   "metadata": {},
   "source": [
    "Note: There are some columns which may have a null value: `avg_rating` and `description`. Be sure to use the `Option[]` data type for those columns."
   ]
  },
  {
   "cell_type": "markdown",
   "metadata": {},
   "source": [
    "***"
   ]
  },
  {
   "cell_type": "markdown",
   "metadata": {},
   "source": [
    "## Directions"
   ]
  },
  {
   "cell_type": "markdown",
   "metadata": {},
   "source": [
    "#### 1. Query the `videos_by_tag` table grouping the records into groups of (tag, year), storing the title of the videos within the group. Display at least one result."
   ]
  },
  {
   "cell_type": "code",
   "execution_count": 1,
   "metadata": {
    "collapsed": false
   },
   "outputs": [
    {
     "name": "stdout",
     "output_type": "stream",
     "text": [
      "((high tech,1996),CompactBuffer(Independence Day))\n",
      "((contractor,1989),CompactBuffer(Loverboy))\n",
      "((plant in title,2011),CompactBuffer(The Best Exotic Marigold Hotel))\n",
      "((best friends,2004),CompactBuffer(Envy))\n",
      "((president elections,2008),CompactBuffer(Swing Vote))\n"
     ]
    }
   ],
   "source": [
    "val videos = sc.cassandraTable[(String, Int, String)](\"killr_video\", \n",
    "                                                      \"videos_by_tag\").select(\"tag\", \"release_year\", \"title\")\n",
    "\n",
    "videos.map(r => ((r._1, r._2), r._3)).groupByKey().take(5).foreach(println)"
   ]
  },
  {
   "cell_type": "markdown",
   "metadata": {},
   "source": [
    "#### 2. Write a variation of the previous query to count the number of items in each group."
   ]
  },
  {
   "cell_type": "code",
   "execution_count": 2,
   "metadata": {
    "collapsed": false
   },
   "outputs": [
    {
     "name": "stdout",
     "output_type": "stream",
     "text": [
      "((high tech,1996),1)\n",
      "((contractor,1989),1)\n",
      "((plant in title,2011),1)\n",
      "((best friends,2004),1)\n",
      "((president elections,2008),1)\n"
     ]
    }
   ],
   "source": [
    "val videos = sc.cassandraTable[(String, Int, String)](\"killr_video\", \n",
    "                                                      \"videos_by_tag\").select(\"tag\", \"release_year\", \"title\")\n",
    "\n",
    "videos.map(r => ((r._1, r._2), 1)).reduceByKey(_ + _).take(5).foreach(println)"
   ]
  },
  {
   "cell_type": "markdown",
   "metadata": {},
   "source": [
    "#### 3. Sort the results of your previous query to list the groups with the highest number of videos first."
   ]
  },
  {
   "cell_type": "code",
   "execution_count": 3,
   "metadata": {
    "collapsed": false
   },
   "outputs": [
    {
     "name": "stdout",
     "output_type": "stream",
     "text": [
      "(34,(duringcreditsstinger,2009))\n",
      "(28,(duringcreditsstinger,2011))\n",
      "(27,(duringcreditsstinger,2010))\n",
      "(16,(duringcreditsstinger,2008))\n",
      "(14,(aftercreditsstinger,2010))\n"
     ]
    }
   ],
   "source": [
    "val videos = sc.cassandraTable[(String, Int, String)](\"killr_video\", \n",
    "                                                      \"videos_by_tag\").select(\"tag\", \"release_year\", \"title\")\n",
    "\n",
    "videos.map(r => ((r._1, r._2), 1)).reduceByKey(_ + _).map(r => \n",
    "                                                      (r._2, r._1)).sortByKey(false).take(5).foreach(println)"
   ]
  }
 ],
 "metadata": {
  "kernelspec": {
   "display_name": "Spark-DSE Cluster",
   "language": "scala",
   "name": "spark-dse-cluster"
  },
  "language_info": {
   "name": "scala"
  }
 },
 "nbformat": 4,
 "nbformat_minor": 0
}
