{
 "cells": [
  {
   "cell_type": "markdown",
   "metadata": {},
   "source": [
    "![DataStax Academy](https://s3.amazonaws.com/datastaxtraining/vq8Jr36Gk48v/datastax-academy.svg \"DataStax Academy\")"
   ]
  },
  {
   "cell_type": "markdown",
   "metadata": {},
   "source": [
    "# Exercise 07.04 - Spark-Cassandra Connector Optimizations: Cassandra Aware Partitioning"
   ]
  },
  {
   "cell_type": "markdown",
   "metadata": {},
   "source": [
    "## Background"
   ]
  },
  {
   "cell_type": "markdown",
   "metadata": {},
   "source": [
    "With this exercise, you will be optimizing working Spark code by using the `repartitionByCassandraReplica` method.\n",
    "\n",
    "You'll be working with the `videos_by_actor` table:"
   ]
  },
  {
   "cell_type": "raw",
   "metadata": {},
   "source": [
    "CREATE TABLE videos_by_actor (\n",
    "  actor_name TEXT,\n",
    "  release_year INT,\n",
    "  character_name TEXT,\n",
    "  video_id TIMEUUID,\n",
    "  title TEXT,\n",
    "  PRIMARY KEY (actor_name, release_year)\n",
    ") ;"
   ]
  },
  {
   "cell_type": "markdown",
   "metadata": {},
   "source": [
    "***"
   ]
  },
  {
   "cell_type": "markdown",
   "metadata": {},
   "source": [
    "## Directions"
   ]
  },
  {
   "cell_type": "markdown",
   "metadata": {},
   "source": [
    "Similar to the previous exercise, we will begin by paralellizing a list of two actors, creating an RDD, but this time we will use the `repartitionByCassandraReplica` method. This will kick off shuffling of the partition data to optimize future joins."
   ]
  },
  {
   "cell_type": "code",
   "execution_count": 1,
   "metadata": {
    "collapsed": false
   },
   "outputs": [],
   "source": [
    "case class ActorYear(actor_name: String, release_year: Int)\n",
    "\n",
    "val actors2014 = sc.parallelize(List(ActorYear(\"Johnny Depp\",2014),ActorYear(\"Bruce Willis\",2014))).repartitionByCassandraReplica(\"killr_video\", \"videos_by_actor\")"
   ]
  },
  {
   "cell_type": "markdown",
   "metadata": {},
   "source": [
    "Next we will use `joinWithCassandraTable` method to return the same data in the previous exercise. Did you notice that this returned the data faster?"
   ]
  },
  {
   "cell_type": "code",
   "execution_count": 3,
   "metadata": {
    "collapsed": false
   },
   "outputs": [
    {
     "name": "stdout",
     "output_type": "stream",
     "text": [
      "(ActorYear(Johnny Depp,2014),CassandraRow{actor_name: Johnny Depp, release_year: 2006, character_name: Captain Jack Sparrow, title: Pirates of the Caribbean: Dead Man's Chest, video_id: ece5c4b0-a5e2-11e5-8be9-a45e60eb67c5})\n",
      "(ActorYear(Bruce Willis,2014),CassandraRow{actor_name: Bruce Willis, release_year: 2005, character_name: Jeff Talley, title: Sin City, video_id: ece7418f-a5e2-11e5-b811-a45e60eb67c5})\n",
      "(ActorYear(Johnny Depp,2014),CassandraRow{actor_name: Johnny Depp, release_year: 2005, character_name: Willy Wonka, title: Charlie and the Chocolate Factory, video_id: ece5d84f-a5e2-11e5-9334-a45e60eb67c5})\n",
      "(ActorYear(Bruce Willis,2014),CassandraRow{actor_name: Bruce Willis, release_year: 1990, character_name: Peter Fallow, title: The Bonfire of the Vanities, video_id: ece966ba-a5e2-11e5-bca9-a45e60eb67c5})\n",
      "(ActorYear(Bruce Willis,2014),CassandraRow{actor_name: Bruce Willis, release_year: 2007, character_name: Lieutenant Muldoon, title: Planet Terror, video_id: ece864e3-a5e2-11e5-9f55-a45e60eb67c5})\n",
      "(ActorYear(Johnny Depp,2014),CassandraRow{actor_name: Johnny Depp, release_year: 2015, character_name: James 'Whitey' Bulger, title: Black Mass, video_id: ed02326e-a5e2-11e5-9554-a45e60eb67c5})\n",
      "(ActorYear(Bruce Willis,2014),CassandraRow{actor_name: Bruce Willis, release_year: 1991, character_name: James Urbanski, title: Mortal Thoughts, video_id: ecf18d87-a5e2-11e5-b5e6-a45e60eb67c5})\n",
      "(ActorYear(Johnny Depp,2014),CassandraRow{actor_name: Johnny Depp, release_year: 2000, character_name: Lieutenant Victor, title: Before Night Falls, video_id: ece80a23-a5e2-11e5-89b5-a45e60eb67c5})\n",
      "(ActorYear(Johnny Depp,2014),CassandraRow{actor_name: Johnny Depp, release_year: 1986, character_name: Private Gator Lerner, title: Platoon, video_id: ece67eca-a5e2-11e5-888e-a45e60eb67c5})\n",
      "(ActorYear(Johnny Depp,2014),CassandraRow{actor_name: Johnny Depp, release_year: 1997, character_name: Donnie Brasco / Joseph D. 'Joe' Pistone, title: Donnie Brasco, video_id: ece929cc-a5e2-11e5-a029-a45e60eb67c5})\n",
      "(ActorYear(Bruce Willis,2014),CassandraRow{actor_name: Bruce Willis, release_year: 1999, character_name: Malcolm Crowe, title: The Sixth Sense, video_id: ece6738a-a5e2-11e5-a1a0-a45e60eb67c5})\n",
      "(ActorYear(Bruce Willis,2014),CassandraRow{actor_name: Bruce Willis, release_year: 2009, character_name: Agent Greer, title: Surrogates, video_id: eceefad1-a5e2-11e5-858f-a45e60eb67c5})\n",
      "(ActorYear(Bruce Willis,2014),CassandraRow{actor_name: Bruce Willis, release_year: 2002, character_name: Col. William A. McNamara, title: Hart's War, video_id: ecea6c0f-a5e2-11e5-a1e0-a45e60eb67c5})\n",
      "(ActorYear(Bruce Willis,2014),CassandraRow{actor_name: Bruce Willis, release_year: 2006, character_name: Sonny Truelove, title: Fast Food Nation, video_id: ece8740a-a5e2-11e5-ae24-a45e60eb67c5})\n",
      "(ActorYear(Bruce Willis,2014),CassandraRow{actor_name: Bruce Willis, release_year: 2013, character_name: John McClane, title: A Good Day to Die Hard, video_id: ecf58f1e-a5e2-11e5-a494-a45e60eb67c5})\n",
      "(ActorYear(Johnny Depp,2014),CassandraRow{actor_name: Johnny Depp, release_year: 2011, character_name: Paul Kemp, title: The Rum Diary, video_id: ecefcb57-a5e2-11e5-901e-a45e60eb67c5})\n",
      "(ActorYear(Johnny Depp,2014),CassandraRow{actor_name: Johnny Depp, release_year: 2001, character_name: Inspector Frederick Abberline, title: From Hell, video_id: ece7cd28-a5e2-11e5-baca-a45e60eb67c5})\n",
      "(ActorYear(Johnny Depp,2014),CassandraRow{actor_name: Johnny Depp, release_year: 2014, character_name: Guy Lapointe, title: Tusk, video_id: ed01abe6-a5e2-11e5-89d1-a45e60eb67c5})\n",
      "(ActorYear(Johnny Depp,2014),CassandraRow{actor_name: Johnny Depp, release_year: 1999, character_name: Ichabod Crane, title: The Ninth Gate, video_id: ece79a57-a5e2-11e5-b895-a45e60eb67c5})\n",
      "(ActorYear(Bruce Willis,2014),CassandraRow{actor_name: Bruce Willis, release_year: 1994, character_name: Narrator, title: Pulp Fiction, video_id: ecf1b97a-a5e2-11e5-9119-a45e60eb67c5})\n"
     ]
    }
   ],
   "source": [
    "actors2014.joinWithCassandraTable(\"killr_video\",\"videos_by_actor\").takeSample(false,10).foreach(println)"
   ]
  }
 ],
 "metadata": {
  "kernelspec": {
   "display_name": "Spark-DSE Cluster",
   "language": "scala",
   "name": "spark-dse-cluster"
  },
  "language_info": {
   "name": "scala"
  }
 },
 "nbformat": 4,
 "nbformat_minor": 0
}
