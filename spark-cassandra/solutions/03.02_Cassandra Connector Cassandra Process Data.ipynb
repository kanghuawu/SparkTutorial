{
 "cells": [
  {
   "cell_type": "markdown",
   "metadata": {},
   "source": [
    "![DataStax Academy](https://s3.amazonaws.com/datastaxtraining/vq8Jr36Gk48v/datastax-academy.svg \"DataStax Academy\")"
   ]
  },
  {
   "cell_type": "markdown",
   "metadata": {},
   "source": [
    "# Exercise 03.02 - Cassandra Connector: Cassandra Process Data"
   ]
  },
  {
   "cell_type": "markdown",
   "metadata": {},
   "source": [
    "## Background"
   ]
  },
  {
   "cell_type": "markdown",
   "metadata": {},
   "source": [
    "This exercise will take a look at using the Cassandra API to extract values from CassandraRows and to do some processing.\n",
    "\n",
    "You'll be making use of the `videos` table, which again is:"
   ]
  },
  {
   "cell_type": "raw",
   "metadata": {},
   "source": [
    "CREATE TABLE killr_video.videos (\n",
    "   video_id TIMEUUID,\n",
    "   avg_rating FLOAT,\n",
    "   description TEXT,\n",
    "   genres SET<TEXT>,\n",
    "   mpaa_rating TEXT,\n",
    "   release_date TIMESTAMP,\n",
    "   release_year INT,\n",
    "   title TEXT,\n",
    "   user_id UUID,\n",
    "   PRIMARY KEY (video_id)\n",
    ");"
   ]
  },
  {
   "cell_type": "markdown",
   "metadata": {},
   "source": [
    "Since the primary key is the `video_id`, you'll need to do all of your filtering using the Spark API."
   ]
  },
  {
   "cell_type": "markdown",
   "metadata": {},
   "source": [
    "***"
   ]
  },
  {
   "cell_type": "markdown",
   "metadata": {},
   "source": [
    "## Directions"
   ]
  },
  {
   "cell_type": "markdown",
   "metadata": {},
   "source": [
    "#### 1. Pull all of the movies from the `videos` table in the Animation genre and from the year 2014, and then have it display as:"
   ]
  },
  {
   "cell_type": "raw",
   "metadata": {},
   "source": [
    "Title: The Lego Movie                Year: 2014\n",
    "Title: How to Train Your Dragon 2    Year: 2014\n",
    "Title: The Book of Life              Year: 2014\n",
    ".\n",
    ".\n",
    "."
   ]
  },
  {
   "cell_type": "code",
   "execution_count": 1,
   "metadata": {
    "collapsed": false
   },
   "outputs": [
    {
     "name": "stdout",
     "output_type": "stream",
     "text": [
      "Title: The Lego Movie               Year: 2014\n",
      "Title: How to Train Your Dragon 2   Year: 2014\n",
      "Title: The Book of Life             Year: 2014\n",
      "Title: Penguins of Madagascar       Year: 2014\n",
      "Title: The Boxtrolls                Year: 2014\n",
      "Title: Big Hero 6                   Year: 2014\n"
     ]
    }
   ],
   "source": [
    "val rows = sc.cassandraTable(\"killr_video\", \"videos\").select(\"title\",\"genres\",\"release_year\")\n",
    "val filterGenre = rows.filter(movie => movie.getList[String](\"genres\").contains(\"Animation\"))\n",
    "val filterYear = filterGenre.filter(movie => movie.getInt(\"release_year\") == 2014)\n",
    "val output = filterYear.map( movie => \"Title: \" + String.format(\"%1$-26s\", movie.getString(\"title\")) + \"   \" +\n",
    "                                      \"Year: \" + movie.getInt(\"release_year\"))\n",
    "output.collect.foreach(println)"
   ]
  },
  {
   "cell_type": "markdown",
   "metadata": {},
   "source": [
    "#### 2. Using the `mpaa_rating` from the `videos` table, find the percentage of movies that are rated G, PG, PG-13, R, and NR."
   ]
  },
  {
   "cell_type": "code",
   "execution_count": 2,
   "metadata": {
    "collapsed": false
   },
   "outputs": [
    {
     "name": "stdout",
     "output_type": "stream",
     "text": [
      "Percentage of movies rated G     : 3.92%\n",
      "Percentage of movies rated PG    : 15.98%\n",
      "Percentage of movies rated PG-13 : 25.64%\n",
      "Percentage of movies rated R     : 49.43%\n",
      "Percentage of movies rated NR    : 5.03%\n"
     ]
    }
   ],
   "source": [
    "val rows = sc.cassandraTable(\"killr_video\", \"videos\").select(\"mpaa_rating\")\n",
    "val numRows = rows.count\n",
    "val numRatedG = rows.filter(row => row.getString(\"mpaa_rating\") == \"G\").count\n",
    "val numRatedPG = rows.filter(row => row.getString(\"mpaa_rating\") == \"PG\").count\n",
    "val numRatedPG13 = rows.filter(row => row.getString(\"mpaa_rating\") == \"PG-13\").count\n",
    "val numRatedR = rows.filter(row => row.getString(\"mpaa_rating\") == \"R\").count\n",
    "val numRatedNR = rows.filter(row => row.getString(\"mpaa_rating\") == \"NR\").count\n",
    "printf(\"Percentage of movies rated G     : %.2f%%\\n\", (100.0 * numRatedG / numRows))\n",
    "printf(\"Percentage of movies rated PG    : %.2f%%\\n\", (100.0 * numRatedPG / numRows))\n",
    "printf(\"Percentage of movies rated PG-13 : %.2f%%\\n\", (100.0 * numRatedPG13 / numRows))\n",
    "printf(\"Percentage of movies rated R     : %.2f%%\\n\", (100.0 * numRatedR / numRows))\n",
    "printf(\"Percentage of movies rated NR    : %.2f%%\\n\", (100.0 * numRatedNR / numRows))"
   ]
  }
 ],
 "metadata": {
  "kernelspec": {
   "display_name": "Spark-DSE Cluster",
   "language": "scala",
   "name": "spark-dse-cluster"
  },
  "language_info": {
   "name": "scala"
  }
 },
 "nbformat": 4,
 "nbformat_minor": 0
}
