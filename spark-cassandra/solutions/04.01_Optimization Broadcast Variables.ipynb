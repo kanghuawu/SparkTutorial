{
 "cells": [
  {
   "cell_type": "markdown",
   "metadata": {},
   "source": [
    "![DataStax Academy](https://s3.amazonaws.com/datastaxtraining/vq8Jr36Gk48v/datastax-academy.svg \"DataStax Academy\")"
   ]
  },
  {
   "cell_type": "markdown",
   "metadata": {},
   "source": [
    "# Exercise 04.01 - Optimization: Broadcast Variables"
   ]
  },
  {
   "cell_type": "markdown",
   "metadata": {},
   "source": [
    "## Background"
   ]
  },
  {
   "cell_type": "markdown",
   "metadata": {},
   "source": [
    "In this exercise, you will be making use of broadcast variables to optimize your Spark code. The exercise is being done in a single-node VM, which should not have any noticeable performance gains, but becomes more useful the larger a cluster gets.\n",
    "\n",
    "The `killr_video.videos` table will be used in this exercise, which has the following definition:"
   ]
  },
  {
   "cell_type": "raw",
   "metadata": {},
   "source": [
    "CREATE TABLE killr_video.videos (\n",
    "    video_id TIMEUUID PRIMARY KEY,\n",
    "    avg_rating FLOAT,\n",
    "    description TEXT,\n",
    "    genres SET<TEXT>,\n",
    "    mpaa_rating TEXT,\n",
    "    release_date TIMESTAMP,\n",
    "    release_year INT,\n",
    "    title TEXT,\n",
    "    user_id UUID\n",
    ")"
   ]
  },
  {
   "cell_type": "markdown",
   "metadata": {},
   "source": [
    "Note: There are some columns which may have a null value: `avg_rating` and `description`. Be sure to use the `Option[]` data type for those columns."
   ]
  },
  {
   "cell_type": "markdown",
   "metadata": {},
   "source": [
    "***"
   ]
  },
  {
   "cell_type": "markdown",
   "metadata": {},
   "source": [
    "## Directions"
   ]
  },
  {
   "cell_type": "markdown",
   "metadata": {},
   "source": [
    "The code below searches for movies that contain the name of a particular superhero in the description. The names are saved in a Set object."
   ]
  },
  {
   "cell_type": "raw",
   "metadata": {
    "collapsed": false
   },
   "source": [
    "val superheroes = Set(\"Batman\", \"Superman\", \"Wolverine\")\n",
    "\n",
    "case class Video(title : String, description : Option[String])\n",
    "\n",
    "def descriptionContainsSuperhero(vid : Video) : Boolean =\n",
    "{\n",
    "   for(w <- vid.description.getOrElse(\"\").split(' '))\n",
    "   {\n",
    "      if(superheroes.contains(w))\n",
    "      {\n",
    "         return true;\n",
    "      }\n",
    "   }\n",
    "   return false;\n",
    "}\n",
    "\n",
    "val videos = sc.cassandraTable[Video](\"killr_video\", \"videos\")\n",
    "videos.filter(descriptionContainsSuperhero).collect.foreach(record => println(record + \"\\n\")) "
   ]
  },
  {
   "cell_type": "markdown",
   "metadata": {},
   "source": [
    "#### 1. Re-write the above code to make use of broadcast variable(s)."
   ]
  },
  {
   "cell_type": "code",
   "execution_count": 2,
   "metadata": {
    "collapsed": false
   },
   "outputs": [
    {
     "name": "stdout",
     "output_type": "stream",
     "text": [
      "Video(The Dark Knight,Some(Batman raises the stakes in his war on crime. With the help of Lt. Jim Gordon and District Attorney Harvey Dent, Batman sets out to dismantle the remaining criminal organizations that plague the streets. The partnership proves to be effective, but they soon find themselves prey to a reign of chaos unleashed by a rising criminal mastermind known to the terrified citizens of Gotham as the Joker.))\n",
      "\n",
      "Video(X2: X-Men United,Some(Professor Charles Xavier and his team of genetically gifted superheroes face a rising tide of anti-mutant sentiment led by Col. William Stryker in this sequel to the Marvel Comics-based blockbuster X-Men. Storm, Wolverine and Jean Grey must join their usual nemeses Magneto and Mystique to unhinge Stryker's scheme to exterminate all mutants.))\n",
      "\n",
      "Video(Superman III,Some(Aiming to defeat the Man of Steel, wealthy executive Ross Webster hires bumbling but brilliant Gus Gorman to develop synthetic kryptonite, which yields some unexpected psychological effects in the third installment of the 1980s Superman franchise. Between rekindling romance with his high school sweetheart and saving himself, Superman must contend with a powerful supercomputer.))\n",
      "\n",
      "Video(Superman II,Some(Three escaped criminals from the planet Krypton test the Man of Steel's mettle. Led by Gen. Zod, the Kryptonians take control of the White House and partner with Lex Luthor to destroy Superman and rule the world. But Superman, who attempts to make himself human in order to get closer to Lois, realizes he has a responsibility to save the planet.))\n",
      "\n",
      "Video(The Dark Knight Rises,Some(Following the death of District Attorney Harvey Dent, Batman assumes responsibility for Dent's crimes to protect the late attorney's reputation and is subsequently hunted by the Gotham City Police Department. Eight years later, Batman encounters the mysterious Selina Kyle and the villainous Bane, a new terrorist leader who overwhelms Gotham's finest. The Dark Knight resurfaces to protect a city that has branded him an enemy.))\n",
      "\n",
      "Video(Superman Returns,Some(Set 5 years after the end of Superman II, the film begins when Superman returns to discover his absence allowed Lex Luthor to walk free, and that those he was closest too felt abandoned and have moved on. Luthor plots his ultimate revenge that could see millions killed and change the face of the planet forever, as well as ridding himself of the Man Of Steel.))\n",
      "\n",
      "Video(Batman: Mask of the Phantasm,Some(An old flame of Bruce Wayne's strolls into town, re-heating up the romance between the two. At the same time, a mass murderer with an axe for one hand begins systematically eliminating Gotham's crime bosses. Due to the person's dark appearance, he is mistaken for Batman. Now on the run, Batman must solve the mystery and deal with the romance between him and Andrea Beaumont.))\n",
      "\n",
      "Video(Batman & Robin,Some(Along with crime-fighting partner Robin and new recruit Batgirl, Batman battles the dual threat of frosty genius Mr. Freeze and homicidal horticulturalist Poison Ivy. Freeze plans to put Gotham City on ice, while Ivy tries to drive a wedge between the dynamic duo.))\n",
      "\n",
      "Video(The Wolverine,Some(Wolverine faces his ultimate nemesis - and tests of his physical, emotional, and mortal limits - in a life-changing voyage to modern-day Japan.))\n",
      "\n",
      "Video(Batman Forever,Some(The Dark Knight of Gotham City confronts a dastardly duo: Two-Face and the Riddler. Formerly District Attorney Harvey Dent, Two-Face believes Batman caused the courtroom accident which left him disfigured on one side. And Edward Nygma, computer-genius and former employee of millionaire Bruce Wayne, is out to get the philanthropist; as The Riddler. Former circus acrobat Dick Grayson, his family killed by Two-Face, becomes Wayne's ward and Batman's new partner Robin.))\n",
      "\n",
      "Video(Batman Returns,Some(Having defeated the Joker, Batman now faces the Penguin - a warped and deformed individual who is intent on being accepted into Gotham society. Crooked businessman Max Schreck is coerced into helping him become Mayor of Gotham and they both attempt to expose Batman in a different light. Selina Kyle, Max's secretary, is thrown from the top of a building and is transformed into Catwoman - a mysterious figure who has the same personality disorder as Batman. Batman must attempt to clear his name, all the time deciding just what must be done with the Catwoman.))\n",
      "\n",
      "Video(Superman IV: The Quest for Peace,Some(With global superpowers engaged in an increasingly hostile arms race, Superman leads a crusade to rid the world of nuclear weapons. But Lex Luthor, recently sprung from jail, is declaring war on the Man of Steel and his quest to save the planet. Using a strand of Superman's hair, Luthor synthesizes a powerful ally known as Nuclear Man and ignites an epic battle spanning Earth and space.))\n",
      "\n"
     ]
    }
   ],
   "source": [
    "val superheroesBroadcast = sc.broadcast( Set(\"Batman\", \"Superman\", \"Wolverine\") )\n",
    "\n",
    "case class Video(title : String, description : Option[String])\n",
    "\n",
    "def descriptionContainsSuperhero(vid : Video) : Boolean =\n",
    "{\n",
    "   for(w <- vid.description.getOrElse(\"\").split(' '))\n",
    "   {\n",
    "      if(superheroesBroadcast.value.contains(w))\n",
    "      {\n",
    "         return true;\n",
    "      }\n",
    "   }\n",
    "   return false;\n",
    "}\n",
    "\n",
    "val videos = sc.cassandraTable[Video](\"killr_video\", \"videos\")\n",
    "videos.filter(descriptionContainsSuperhero).collect.foreach(record => println(record + \"\\n\")) "
   ]
  }
 ],
 "metadata": {
  "kernelspec": {
   "display_name": "Spark-DSE Cluster",
   "language": "scala",
   "name": "spark-dse-cluster"
  },
  "language_info": {
   "name": "scala"
  }
 },
 "nbformat": 4,
 "nbformat_minor": 0
}
