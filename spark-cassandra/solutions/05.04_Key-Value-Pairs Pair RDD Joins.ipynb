{
 "cells": [
  {
   "cell_type": "markdown",
   "metadata": {},
   "source": [
    "![DataStax Academy](https://s3.amazonaws.com/datastaxtraining/vq8Jr36Gk48v/datastax-academy.svg \"DataStax Academy\")"
   ]
  },
  {
   "cell_type": "markdown",
   "metadata": {},
   "source": [
    "# Exercise 05.04 - Key-Value Pairs: Pair RDD Joins"
   ]
  },
  {
   "cell_type": "markdown",
   "metadata": {},
   "source": [
    "## Background"
   ]
  },
  {
   "cell_type": "markdown",
   "metadata": {},
   "source": [
    "This exercise will look at using pair RDD joins to validate that the data in two separate tables are consistent. \n",
    "\n",
    "Data will be from the Cassandra `videos` table:"
   ]
  },
  {
   "cell_type": "raw",
   "metadata": {},
   "source": [
    "CREATE TABLE killr_video.videos (\n",
    "    video_id TIMEUUID,\n",
    "    avg_rating FLOAT,\n",
    "    description TEXT,\n",
    "    genres SET<TEXT>,\n",
    "    mpaa_rating TEXT,\n",
    "    release_date TIMESTAMP,\n",
    "    release_year INT,\n",
    "    title TEXT,\n",
    "    user_id UUID,\n",
    "    PRIMARY KEY (video_id)\n",
    ");"
   ]
  },
  {
   "cell_type": "markdown",
   "metadata": {},
   "source": [
    "and the `videos_by_tag` table:"
   ]
  },
  {
   "cell_type": "raw",
   "metadata": {},
   "source": [
    "CREATE TABLE killr_video.videos_by_tag (\n",
    "    tag TEXT,\n",
    "    title TEXT,\n",
    "    video_id TIMEUUID,\n",
    "    avg_rating FLOAT,\n",
    "    description TEXT,\n",
    "    genres SET<TEXT>,\n",
    "    mpaa_rating TEXT,\n",
    "    release_date TIMESTAMP,\n",
    "    release_year INT,\n",
    "    user_id UUID,\n",
    "    PRIMARY KEY (tag, title, video_id)\n",
    ");"
   ]
  },
  {
   "cell_type": "markdown",
   "metadata": {},
   "source": [
    "Note: There are some columns which may have a null value: `avg_rating` and `description`. Be sure to use the `Option[]` data type for those columns.\n",
    "\n",
    "Keep in mind that there is a 1-n relationship between the `videos` table and the `videos_by_tag` table, i.e. there are multiple instances of the same video in `videos_by_tag`. "
   ]
  },
  {
   "cell_type": "markdown",
   "metadata": {},
   "source": [
    "***"
   ]
  },
  {
   "cell_type": "markdown",
   "metadata": {},
   "source": [
    "## Directions"
   ]
  },
  {
   "cell_type": "markdown",
   "metadata": {},
   "source": [
    "#### 1. Use a pair RDD join to check that the `title` for videos are consistent between the `videos` table and the `videos_by_tag` table. The output should list the video id and the title of the videos that are not consistent."
   ]
  },
  {
   "cell_type": "code",
   "execution_count": 1,
   "metadata": {
    "collapsed": false
   },
   "outputs": [
    {
     "name": "stdout",
     "output_type": "stream",
     "text": [
      "(5ac5ce38-ad94-11e5-bf7f-feff819cdc9f,(Finding Dory,Some(Finding Nemo 2)))\n",
      "(7c22eb38-ad94-11e5-bf7f-feff819cdc9f,(The Lego Movie 2,Some(The Lego Batman Movie)))\n",
      "(7c22eb38-ad94-11e5-bf7f-feff819cdc9f,(The Lego Movie 2,Some(The Lego Batman Movie)))\n"
     ]
    }
   ],
   "source": [
    "val taggedVideos = sc.cassandraTable[(java.util.UUID, String)](\n",
    "                                      \"killr_video\", \"videos_by_tag\").select(\"video_id\",\"title\")\n",
    "val allVideos = sc.cassandraTable[(java.util.UUID, String)](\n",
    "                                      \"killr_video\", \"videos\").select(\"video_id\",\"title\")\n",
    "\n",
    "taggedVideos.leftOuterJoin(allVideos).filter{case (k,v) => v._1 != v._2.get}.collect.foreach(println)"
   ]
  },
  {
   "cell_type": "markdown",
   "metadata": {},
   "source": [
    "There should not be any inconsistent titles in the current data set."
   ]
  },
  {
   "cell_type": "markdown",
   "metadata": {},
   "source": [
    "#### 2. Run the following code box to insert some addtional videos in the two tables. These videos will have inconsistent titles."
   ]
  },
  {
   "cell_type": "code",
   "execution_count": 2,
   "metadata": {
    "collapsed": false
   },
   "outputs": [],
   "source": [
    "val inconsistentVideos = sc.parallelize(Seq((\"5ac5ce38-ad94-11e5-bf7f-feff819cdc9f\", \"Finding Nemo 2\", 2017), \n",
    "                                            (\"7c22eb38-ad94-11e5-bf7f-feff819cdc9f\", \"The Lego Batman Movie\", 2017)))\n",
    "\n",
    "val inconsistentVideosByTag = sc.parallelize(Seq((\"nemo\",\"5ac5ce38-ad94-11e5-bf7f-feff819cdc9f\", \"Finding Dory\"), \n",
    "                                                 (\"legos\",\"7c22eb38-ad94-11e5-bf7f-feff819cdc9f\", \"The Lego Movie 2\"),\n",
    "                                                 (\"batman\",\"7c22eb38-ad94-11e5-bf7f-feff819cdc9f\", \"The Lego Movie 2\")))                           \n",
    "                              \n",
    "inconsistentVideos.saveToCassandra(\"killr_video\", \"videos\", SomeColumns(\"video_id\",\"title\",\"release_year\"))\n",
    "inconsistentVideosByTag.saveToCassandra(\"killr_video\", \"videos_by_tag\", SomeColumns(\"tag\",\"video_id\",\"title\"))"
   ]
  },
  {
   "cell_type": "markdown",
   "metadata": {},
   "source": [
    "#### 3. Try running your code again."
   ]
  },
  {
   "cell_type": "code",
   "execution_count": 3,
   "metadata": {
    "collapsed": false
   },
   "outputs": [
    {
     "name": "stdout",
     "output_type": "stream",
     "text": [
      "(5ac5ce38-ad94-11e5-bf7f-feff819cdc9f,(Finding Dory,Some(Finding Nemo 2)))\n",
      "(7c22eb38-ad94-11e5-bf7f-feff819cdc9f,(The Lego Movie 2,Some(The Lego Batman Movie)))\n",
      "(7c22eb38-ad94-11e5-bf7f-feff819cdc9f,(The Lego Movie 2,Some(The Lego Batman Movie)))\n"
     ]
    }
   ],
   "source": [
    "val taggedVideos = sc.cassandraTable[(java.util.UUID, String)](\n",
    "                                      \"killr_video\", \"videos_by_tag\").select(\"video_id\",\"title\")\n",
    "val allVideos = sc.cassandraTable[(java.util.UUID, String)](\n",
    "                                      \"killr_video\", \"videos\").select(\"video_id\",\"title\")\n",
    "\n",
    "taggedVideos.leftOuterJoin(allVideos).filter{case (k,v) => v._1 != v._2.get}.collect.foreach(println)"
   ]
  }
 ],
 "metadata": {
  "kernelspec": {
   "display_name": "Spark-DSE Cluster",
   "language": "scala",
   "name": "spark-dse-cluster"
  },
  "language_info": {
   "name": "scala"
  }
 },
 "nbformat": 4,
 "nbformat_minor": 0
}
