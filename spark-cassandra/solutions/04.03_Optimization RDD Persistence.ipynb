{
 "cells": [
  {
   "cell_type": "markdown",
   "metadata": {},
   "source": [
    "![DataStax Academy](https://s3.amazonaws.com/datastaxtraining/vq8Jr36Gk48v/datastax-academy.svg \"DataStax Academy\")"
   ]
  },
  {
   "cell_type": "markdown",
   "metadata": {},
   "source": [
    "# Exercise 04.03 - Optimization: RDD Persistence"
   ]
  },
  {
   "cell_type": "markdown",
   "metadata": {},
   "source": [
    "## Background"
   ]
  },
  {
   "cell_type": "markdown",
   "metadata": {},
   "source": [
    "In this exercise you will be taking a look at how to best make use of the `cache` action to persist frequently used RDDs. \n",
    "\n",
    "Data will be from the Cassandra `videos` table with the following definition:"
   ]
  },
  {
   "cell_type": "raw",
   "metadata": {},
   "source": [
    "CREATE TABLE killr_video.videos_by_tag (\n",
    "    tag TEXT,\n",
    "    title TEXT,\n",
    "    video_id TIMEUUID,\n",
    "    avg_rating FLOAT,\n",
    "    description TEXT,\n",
    "    genres SET<TEXT>,\n",
    "    mpaa_rating TEXT,\n",
    "    release_date TIMESTAMP,\n",
    "    release_year INT,\n",
    "    user_id UUID,\n",
    "    PRIMARY KEY (tag, title, video_id)\n",
    ");"
   ]
  },
  {
   "cell_type": "markdown",
   "metadata": {},
   "source": [
    "Note: There are some columns which may have a null value: `avg_rating` and `description`. Be sure to use the `Option[]` data type for those columns."
   ]
  },
  {
   "cell_type": "markdown",
   "metadata": {},
   "source": [
    "***"
   ]
  },
  {
   "cell_type": "markdown",
   "metadata": {},
   "source": [
    "## Directions"
   ]
  },
  {
   "cell_type": "markdown",
   "metadata": {},
   "source": [
    "#### 1. Write the following queries to:"
   ]
  },
  {
   "cell_type": "raw",
   "metadata": {},
   "source": [
    "- Count of the number of movies tagged with \"christmas\" and have \"Santa\" in description\n",
    "- Count of the number of movies tagged with \"christmas\" and have \"gift\" in description"
   ]
  },
  {
   "cell_type": "code",
   "execution_count": 2,
   "metadata": {
    "collapsed": false
   },
   "outputs": [
    {
     "name": "stdout",
     "output_type": "stream",
     "text": [
      "7\n",
      "6\n"
     ]
    }
   ],
   "source": [
    "case class Video(title : String, description : Option[String])\n",
    "\n",
    "println(sc.cassandraTable[Video](\"killr_video\", \"videos_by_tag\").where(\"tag = 'christmas'\").filter(vid => vid.description.getOrElse(\"\").contains(\"Santa\")).count)\n",
    "\n",
    "println(sc.cassandraTable[Video](\"killr_video\", \"videos_by_tag\").where(\"tag = 'christmas'\").filter(vid => vid.description.getOrElse(\"\").contains(\"gift\")).count)"
   ]
  },
  {
   "cell_type": "markdown",
   "metadata": {},
   "source": [
    "#### 2. Open the \"Storage\" tab of the application UI (http://localhost:4040/storage). "
   ]
  },
  {
   "cell_type": "markdown",
   "metadata": {},
   "source": [
    "Note how Spark did not persist any results. "
   ]
  },
  {
   "cell_type": "markdown",
   "metadata": {},
   "source": [
    "#### 3. Now, optimize your solution by caching intermediate steps in your query. "
   ]
  },
  {
   "cell_type": "code",
   "execution_count": 3,
   "metadata": {
    "collapsed": false
   },
   "outputs": [
    {
     "name": "stdout",
     "output_type": "stream",
     "text": [
      "7\n",
      "6\n"
     ]
    }
   ],
   "source": [
    "val cassandraVideos = sc.cassandraTable[Video](\"killr_video\", \"videos_by_tag\").where(\"tag = 'christmas'\").cache;\n",
    "\n",
    "println(cassandraVideos.filter(vid => vid.description.getOrElse(\"\").contains(\"Santa\")).count)\n",
    "\n",
    "println(cassandraVideos.filter(vid => vid.description.getOrElse(\"\").contains(\"gift\")).count)"
   ]
  },
  {
   "cell_type": "markdown",
   "metadata": {},
   "source": [
    "#### 4. Refresh the \"Storage\" tab and observe how Spark persisted your cached results."
   ]
  }
 ],
 "metadata": {
  "kernelspec": {
   "display_name": "Spark-DSE Cluster",
   "language": "scala",
   "name": "spark-dse-cluster"
  },
  "language_info": {
   "name": "scala"
  }
 },
 "nbformat": 4,
 "nbformat_minor": 0
}
