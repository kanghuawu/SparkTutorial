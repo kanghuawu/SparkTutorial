{
 "cells": [
  {
   "cell_type": "markdown",
   "metadata": {},
   "source": [
    "![DataStax Academy](https://s3.amazonaws.com/datastaxtraining/vq8Jr36Gk48v/datastax-academy.svg \"DataStax Academy\")"
   ]
  },
  {
   "cell_type": "markdown",
   "metadata": {},
   "source": [
    "# Exercise 08.02 - Spark SQL: Creating Dataframes"
   ]
  },
  {
   "cell_type": "markdown",
   "metadata": {},
   "source": [
    "## Background"
   ]
  },
  {
   "cell_type": "markdown",
   "metadata": {},
   "source": [
    "We will be reviewing several ways to create a dataframe."
   ]
  },
  {
   "cell_type": "markdown",
   "metadata": {},
   "source": [
    "***"
   ]
  },
  {
   "cell_type": "markdown",
   "metadata": {},
   "source": [
    "## Directions"
   ]
  },
  {
   "cell_type": "markdown",
   "metadata": {},
   "source": [
    "Let's begin by creating an dataframe using the `toDF` method and inferring the schema using reflection"
   ]
  },
  {
   "cell_type": "code",
   "execution_count": 7,
   "metadata": {
    "collapsed": false
   },
   "outputs": [
    {
     "name": "stdout",
     "output_type": "stream",
     "text": [
      "+--------------------+----+\n",
      "|               title|year|\n",
      "+--------------------+----+\n",
      "|Pirates of the Ca...|2011|\n",
      "+--------------------+----+\n",
      "\n"
     ]
    }
   ],
   "source": [
    "import sqlContext.implicits._\n",
    "\n",
    "case class Movie(title:String, year:Int)\n",
    "val rdd = sc.parallelize(Array( Movie(\"Pirates of the Caribbean: On Stranger Tides\", 2011)))\n",
    "val df = rdd.toDF(\"title\", \"year\")\n",
    "df.show()"
   ]
  },
  {
   "cell_type": "markdown",
   "metadata": {},
   "source": [
    "Now let's create a dataframe specifying the schema programmatically."
   ]
  },
  {
   "cell_type": "code",
   "execution_count": 12,
   "metadata": {
    "collapsed": false,
    "scrolled": true
   },
   "outputs": [
    {
     "name": "stdout",
     "output_type": "stream",
     "text": [
      "+--------------------+----+\n",
      "|               title|year|\n",
      "+--------------------+----+\n",
      "|Pirates of the Ca...|2011|\n",
      "+--------------------+----+\n",
      "\n"
     ]
    }
   ],
   "source": [
    "import org.apache.spark.sql.Row\n",
    "import org.apache.spark.sql.types._\n",
    "\n",
    "val rdd = sc.parallelize(Array( (\"Pirates of the Caribbean: On Stranger Tides\", 2011))).map{case(t,y) => Row(t,y)}\n",
    "\n",
    "val schema = StructType ( List (\n",
    "StructField(\"title\", StringType, false),\n",
    "StructField(\"year\", IntegerType, false)\n",
    "))\n",
    "\n",
    "val df = sqlContext.createDataFrame(rdd, schema)\n",
    "df.show()"
   ]
  },
  {
   "cell_type": "markdown",
   "metadata": {},
   "source": [
    "Create a dataframe specifying a SQL query. The types will be inferred from the table and this is an optimal method to use."
   ]
  },
  {
   "cell_type": "code",
   "execution_count": 18,
   "metadata": {
    "collapsed": false
   },
   "outputs": [
    {
     "name": "stdout",
     "output_type": "stream",
     "text": [
      "+-----------+----------+--------------------+--------------------+-----------+--------------------+------------+--------------------+-----------+\n",
      "|   video_id|avg_rating|         description|              genres|mpaa_rating|        release_date|release_year|               title|    user_id|\n",
      "+-----------+----------+--------------------+--------------------+-----------+--------------------+------------+--------------------+-----------+\n",
      "|[B@310da662|       7.0|After being wrong...|  ArrayBuffer(Crime)|          R|2005-09-09 00:00:...|        2005|Green Street Hool...|[B@7d7c83b0|\n",
      "|[B@1a3e2122|       5.8|Paulie, an intell...| ArrayBuffer(Family)|         PG|1998-04-17 00:00:...|        1998|              Paulie|[B@3665e379|\n",
      "|[B@6a876d61|       6.0|A Reno singer wit...| ArrayBuffer(Comedy)|         PG|1992-05-28 00:00:...|        1992|          Sister Act|[B@737f1282|\n",
      "|[B@18a31afe|       6.1|After a lightning...|ArrayBuffer(Famil...|         PG|1986-05-09 00:00:...|        1986|       Short Circuit| [B@1c45cb8|\n",
      "|[B@50f9c584|       5.4|A medieval tale w...| ArrayBuffer(Comedy)|         PG|1977-03-28 00:00:...|        1977|         Jabberwocky|[B@5b99261b|\n",
      "|[B@5b6da37c|       5.6|A parolee battles...|  ArrayBuffer(Crime)|          R|2010-11-10 00:00:...|        2010|    London Boulevard|[B@78ef1535|\n",
      "|[B@66a43a49|       6.1|A Shakespearean a...| ArrayBuffer(Horror)|          R|1973-04-05 00:00:...|        1973|    Theatre of Blood|[B@741f6178|\n",
      "|[B@425f5ac4|       6.3|Dorothy, saved fr...|ArrayBuffer(Famil...|         PG|1985-06-21 00:00:...|        1985|        Return to Oz|[B@4299a907|\n",
      "| [B@5a8b56f|       6.0|Ninja Assassin fo...|ArrayBuffer(Crime...|          R|2009-09-29 00:00:...|        2009|      Ninja Assassin| [B@a331003|\n",
      "|[B@3202e2fb|       5.6|Al Stump is a fam...|       ArrayBuffer()|          R|1994-12-02 00:00:...|        1994|                Cobb|[B@3ddcb42d|\n",
      "|[B@7d1f6d34|       6.1|A tough bouncer i...|ArrayBuffer(Thril...|          R|1989-05-19 00:00:...|        1989|          Road House|[B@6f3ed99c|\n",
      "|[B@4a8eebba|       6.5|When plans with h...|ArrayBuffer(Adven...|      PG-13|1987-07-01 00:00:...|        1987|Adventures in Bab...|[B@12ab431a|\n",
      "|[B@145bfab6|       5.7|A woman finds a r...|       ArrayBuffer()|      PG-13|1999-02-22 00:00:...|        1999| Message in a Bottle| [B@db02398|\n",
      "|[B@305edaaf|       4.2|A young man havin...|ArrayBuffer(Drama...|         NR|2008-01-18 00:00:...|        2008|           How to Be|[B@78a5ec2d|\n",
      "|[B@336037c5|       5.0|Earl and Baby, tw...|  ArrayBuffer(Crime)|      PG-13|2002-04-23 00:00:...|        2002|Lone Star State o...|[B@3fc06ed2|\n",
      "|[B@790d5027|       4.3|Determined to win...|       ArrayBuffer()|      PG-13|2000-09-10 00:00:...|        2000|           Beautiful|[B@2e1e0faf|\n",
      "|[B@1c72cbb6|       4.6|An idealistic, mo...|ArrayBuffer(Comed...|         PG|1980-06-11 00:00:...|        1980|        Bronco Billy|[B@20789014|\n",
      "|[B@33677054|       6.6|Multi-platinum ra...|       ArrayBuffer()|          R|2001-12-17 00:00:...|        2001|            How High|[B@6dda72e0|\n",
      "|[B@67ff2b96|       6.1|A sumptuous and s...|       ArrayBuffer()|      PG-13|2008-02-28 00:00:...|        2008|The Other Boleyn ...| [B@3e3ef4d|\n",
      "| [B@b8ecab5|       5.4|The Fantastic Fou...|ArrayBuffer(Actio...|      PG-13|2007-06-15 00:00:...|        2007|Fantastic 4: Rise...|[B@357df456|\n",
      "+-----------+----------+--------------------+--------------------+-----------+--------------------+------------+--------------------+-----------+\n",
      "\n"
     ]
    }
   ],
   "source": [
    "val df = sqlContext.sql(\"SELECT * from killr_video.videos\")\n",
    "df.show()"
   ]
  },
  {
   "cell_type": "markdown",
   "metadata": {},
   "source": [
    "Lastly, let's create a dataframe using the dataframe reader method. `sqlContext.read`"
   ]
  },
  {
   "cell_type": "code",
   "execution_count": 22,
   "metadata": {
    "collapsed": false
   },
   "outputs": [
    {
     "name": "stdout",
     "output_type": "stream",
     "text": [
      "+--------------------+----------+--------------------+--------------------+-----------+--------------------+------------+--------------------+--------------------+\n",
      "|            video_id|avg_rating|         description|              genres|mpaa_rating|        release_date|release_year|               title|             user_id|\n",
      "+--------------------+----------+--------------------+--------------------+-----------+--------------------+------------+--------------------+--------------------+\n",
      "|ece8de8f-a5e2-11e...|       7.0|After being wrong...|  ArrayBuffer(Crime)|          R|2005-09-09 00:00:...|        2005|Green Street Hool...|6b234a61-faa6-4b4...|\n",
      "|ecf288d1-a5e2-11e...|       5.8|Paulie, an intell...| ArrayBuffer(Family)|         PG|1998-04-17 00:00:...|        1998|              Paulie|6b234a61-faa6-4b4...|\n",
      "|ece73c02-a5e2-11e...|       6.0|A Reno singer wit...| ArrayBuffer(Comedy)|         PG|1992-05-28 00:00:...|        1992|          Sister Act|6b234a61-faa6-4b4...|\n",
      "|ece77fe6-a5e2-11e...|       6.1|After a lightning...|ArrayBuffer(Famil...|         PG|1986-05-09 00:00:...|        1986|       Short Circuit|6b234a61-faa6-4b4...|\n",
      "|eceb8257-a5e2-11e...|       5.4|A medieval tale w...| ArrayBuffer(Comedy)|         PG|1977-03-28 00:00:...|        1977|         Jabberwocky|6b234a61-faa6-4b4...|\n",
      "|ecf5adbd-a5e2-11e...|       5.6|A parolee battles...|  ArrayBuffer(Crime)|          R|2010-11-10 00:00:...|        2010|    London Boulevard|6b234a61-faa6-4b4...|\n",
      "|ecf1210f-a5e2-11e...|       6.1|A Shakespearean a...| ArrayBuffer(Horror)|          R|1973-04-05 00:00:...|        1973|    Theatre of Blood|6b234a61-faa6-4b4...|\n",
      "|ecec23e8-a5e2-11e...|       6.3|Dorothy, saved fr...|ArrayBuffer(Famil...|         PG|1985-06-21 00:00:...|        1985|        Return to Oz|6b234a61-faa6-4b4...|\n",
      "|ecefae51-a5e2-11e...|       6.0|Ninja Assassin fo...|ArrayBuffer(Crime...|          R|2009-09-29 00:00:...|        2009|      Ninja Assassin|6b234a61-faa6-4b4...|\n",
      "|ecf1689e-a5e2-11e...|       5.6|Al Stump is a fam...|                null|          R|1994-12-02 00:00:...|        1994|                Cobb|6b234a61-faa6-4b4...|\n",
      "|ece9fb21-a5e2-11e...|       6.1|A tough bouncer i...|ArrayBuffer(Thril...|          R|1989-05-19 00:00:...|        1989|          Road House|6b234a61-faa6-4b4...|\n",
      "|ecece966-a5e2-11e...|       6.5|When plans with h...|ArrayBuffer(Adven...|      PG-13|1987-07-01 00:00:...|        1987|Adventures in Bab...|6b234a61-faa6-4b4...|\n",
      "|ecea11f3-a5e2-11e...|       5.7|A woman finds a r...|                null|      PG-13|1999-02-22 00:00:...|        1999| Message in a Bottle|6b234a61-faa6-4b4...|\n",
      "|eceee9e8-a5e2-11e...|       4.2|A young man havin...|ArrayBuffer(Drama...|         NR|2008-01-18 00:00:...|        2008|           How to Be|6b234a61-faa6-4b4...|\n",
      "|ecf25997-a5e2-11e...|       5.0|Earl and Baby, tw...|  ArrayBuffer(Crime)|      PG-13|2002-04-23 00:00:...|        2002|Lone Star State o...|6b234a61-faa6-4b4...|\n",
      "|ecf231b5-a5e2-11e...|       4.3|Determined to win...|                null|      PG-13|2000-09-10 00:00:...|        2000|           Beautiful|6b234a61-faa6-4b4...|\n",
      "|ecef7714-a5e2-11e...|       4.6|An idealistic, mo...|ArrayBuffer(Comed...|         PG|1980-06-11 00:00:...|        1980|        Bronco Billy|6b234a61-faa6-4b4...|\n",
      "|ece8aa75-a5e2-11e...|       6.6|Multi-platinum ra...|                null|          R|2001-12-17 00:00:...|        2001|            How High|6b234a61-faa6-4b4...|\n",
      "|ecebbf17-a5e2-11e...|       6.1|A sumptuous and s...|                null|      PG-13|2008-02-28 00:00:...|        2008|The Other Boleyn ...|6b234a61-faa6-4b4...|\n",
      "|ece736c5-a5e2-11e...|       5.4|The Fantastic Fou...|ArrayBuffer(Actio...|      PG-13|2007-06-15 00:00:...|        2007|Fantastic 4: Rise...|6b234a61-faa6-4b4...|\n",
      "+--------------------+----------+--------------------+--------------------+-----------+--------------------+------------+--------------------+--------------------+\n",
      "\n"
     ]
    }
   ],
   "source": [
    "val df = sqlContext.read.format(\"org.apache.spark.sql.cassandra\").options(Map(\"keyspace\" -> \"killr_video\", \"table\" -> \"videos\")).load\n",
    "\n",
    "df.show()"
   ]
  }
 ],
 "metadata": {
  "kernelspec": {
   "display_name": "Spark-DSE Cluster",
   "language": "scala",
   "name": "spark-dse-cluster"
  },
  "language_info": {
   "name": "scala"
  }
 },
 "nbformat": 4,
 "nbformat_minor": 0
}
