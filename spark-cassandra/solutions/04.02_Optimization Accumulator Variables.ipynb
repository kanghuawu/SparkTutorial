{
 "cells": [
  {
   "cell_type": "markdown",
   "metadata": {},
   "source": [
    "![DataStax Academy](https://s3.amazonaws.com/datastaxtraining/vq8Jr36Gk48v/datastax-academy.svg \"DataStax Academy\")"
   ]
  },
  {
   "cell_type": "markdown",
   "metadata": {},
   "source": [
    "# Exercise 04.02 - Optimization: Accumulator Variables"
   ]
  },
  {
   "cell_type": "markdown",
   "metadata": {},
   "source": [
    "## Background"
   ]
  },
  {
   "cell_type": "markdown",
   "metadata": {},
   "source": [
    "With this exercise, you'll be practicing making use of accumulator variables. The exercise is being done in a single-node VM, which should not have any noticeable performance gains, but becomes more useful the larger a cluster gets.\n",
    "\n",
    "Data will be from a Cassandra table with the following definition:"
   ]
  },
  {
   "cell_type": "raw",
   "metadata": {},
   "source": [
    "CREATE TABLE killr_video.videos (\n",
    "    video_id TIMEUUID PRIMARY KEY,\n",
    "    avg_rating FLOAT,\n",
    "    description TEXT,\n",
    "    genres SET<TEXT>,\n",
    "    mpaa_rating TEXT,\n",
    "    release_date TIMESTAMP,\n",
    "    release_year INT,\n",
    "    title TEXT,\n",
    "    user_id UUID\n",
    ");"
   ]
  },
  {
   "cell_type": "markdown",
   "metadata": {},
   "source": [
    "Note: There are some columns which may have a null value: `avg_rating` and `description`. Be sure to use the `Option[]` data type for those columns."
   ]
  },
  {
   "cell_type": "markdown",
   "metadata": {},
   "source": [
    "***"
   ]
  },
  {
   "cell_type": "markdown",
   "metadata": {},
   "source": [
    "## Directions"
   ]
  },
  {
   "cell_type": "markdown",
   "metadata": {},
   "source": [
    "Below is the code that is used to determine the percentage of videos that do not have a description."
   ]
  },
  {
   "cell_type": "raw",
   "metadata": {
    "collapsed": false
   },
   "source": [
    "case class Video( description : Option[String] )\n",
    "\n",
    "val videos = sc.cassandraTable[Video](\"killr_video\", \"videos\").select(\"description\")\n",
    "\n",
    "val numVideos = videos.count\n",
    "val numVideosWithoutComments = videos.filter(v => v.description.isEmpty).count\n",
    "\n",
    "printf( \"%.2f%%\", 100.0 * numVideosWithoutComments.asInstanceOf[Float] / numVideos.asInstanceOf[Float] )"
   ]
  },
  {
   "cell_type": "markdown",
   "metadata": {},
   "source": [
    "#### 1. Optimize the above code by making use of accumulators."
   ]
  },
  {
   "cell_type": "code",
   "execution_count": 2,
   "metadata": {
    "collapsed": false
   },
   "outputs": [
    {
     "name": "stdout",
     "output_type": "stream",
     "text": [
      "0.01%"
     ]
    }
   ],
   "source": [
    "var numVideos = sc.accumulator(0)\n",
    "var numVideosWithoutComments = sc.accumulator(0)\n",
    "\n",
    "sc.cassandraTable(\"killr_video\", \"videos\").foreach{ v => \n",
    "                                 numVideos += 1\n",
    "                                 if ( v.getStringOption(\"description\").isEmpty ) numVideosWithoutComments += 1 }\n",
    "\n",
    "printf( \"%.2f%%\", 100.0 * numVideosWithoutComments.value.asInstanceOf[Float] / numVideos.value.asInstanceOf[Float] )"
   ]
  }
 ],
 "metadata": {
  "kernelspec": {
   "display_name": "Spark-DSE Cluster",
   "language": "scala",
   "name": "spark-dse-cluster"
  },
  "language_info": {
   "name": "scala"
  }
 },
 "nbformat": 4,
 "nbformat_minor": 0
}
