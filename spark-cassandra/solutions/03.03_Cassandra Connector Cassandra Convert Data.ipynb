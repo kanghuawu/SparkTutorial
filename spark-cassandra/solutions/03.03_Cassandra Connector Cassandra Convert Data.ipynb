{
 "cells": [
  {
   "cell_type": "markdown",
   "metadata": {},
   "source": [
    "![DataStax Academy](https://s3.amazonaws.com/datastaxtraining/vq8Jr36Gk48v/datastax-academy.svg \"DataStax Academy\")"
   ]
  },
  {
   "cell_type": "markdown",
   "metadata": {},
   "source": [
    "# Exercise 8 - Cassandra Connector: Cassandra Convert Data"
   ]
  },
  {
   "cell_type": "markdown",
   "metadata": {},
   "source": [
    "## Background"
   ]
  },
  {
   "cell_type": "markdown",
   "metadata": {},
   "source": [
    "This exercise will look at the different methods for retrieving and converting rows from Cassandra into different objects, such as tuples and case classes.\n",
    "\n",
    "You'll be making use of the `videos_by_year_title` table, which is:"
   ]
  },
  {
   "cell_type": "raw",
   "metadata": {},
   "source": [
    "CREATE TABLE killr_video.videos_by_year_title (\n",
    "    added_year INT,\n",
    "    title TEXT,\n",
    "    video_id TIMEUUID,\n",
    "    added_date TIMESTAMP,\n",
    "    avg_rating FLOAT,\n",
    "    description TEXT,\n",
    "    user_id UUID,\n",
    "    PRIMARY KEY (added_year, title, video_id)\n",
    ");"
   ]
  },
  {
   "cell_type": "markdown",
   "metadata": {},
   "source": [
    "There are certain columns, such as `avg_rating`, where the value can be null."
   ]
  },
  {
   "cell_type": "markdown",
   "metadata": {},
   "source": [
    "***"
   ]
  },
  {
   "cell_type": "markdown",
   "metadata": {},
   "source": [
    "## Directions"
   ]
  },
  {
   "cell_type": "markdown",
   "metadata": {},
   "source": [
    "#### 1. Create a case class for the `videos_by_year_title` table and use that to retrieve all of the movies added in 2009 whose description include the word 'dog'. Print out the title and description for each movie."
   ]
  },
  {
   "cell_type": "code",
   "execution_count": 1,
   "metadata": {
    "collapsed": false
   },
   "outputs": [
    {
     "name": "stdout",
     "output_type": "stream",
     "text": [
      "Title: A Dog Year                \n",
      "Description: Jon Katz is close to burnout. He's a writer with writer's block; his wife has left for her sister's because he's emotionally distant; he rarely answers his phone. A kennel sends him a border collie that's undisciplined because of abuse. Despite a series of mishaps, Jon decides to keep trying with the dog, and he rents a dilapidated farm house to give the dog room to run. A local handyman refers Jon to a woman who might be able to help him train the dog. Reluctantly, Jon gives her a try. Is the dog the problem, or the owner?\n",
      "\n",
      "Title: Hachi: A Dog's Tale       \n",
      "Description: A drama based on the true story of a college professor's bond with the abandoned dog he takes into his home.\n",
      "\n",
      "Title: Hotel for Dogs            \n",
      "Description: Placed in a foster home that doesn't allow pets, 16-year-old Andi and her younger brother, Bruce, turn an abandoned hotel into a home for their dog. Soon other strays arrive, and the hotel becomes a haven for every orphaned canine in town. But the kids have to do some quick thinking to keep the cops off their tails.\n",
      "\n"
     ]
    }
   ],
   "source": [
    "case class Video( added_year : Int, title : String, description : String ) \n",
    "\n",
    "val rows = sc.cassandraTable[Video](\"killr_video\", \"videos_by_year_title\").where(\"added_year=2009\")\n",
    "val filter = rows.filter(movie => movie.description.toLowerCase.contains(\"dog\"))\n",
    "val output = filter.map( movie => \"Title: \" + String.format(\"%1$-26s\", movie.title) + \"\\n\" +\n",
    "                                  \"Description: \" + movie.description + \"\\n\")\n",
    "output.collect.foreach(println)"
   ]
  },
  {
   "cell_type": "markdown",
   "metadata": {},
   "source": [
    "#### 2. Using one of the methods to convert Cassandra rows to tuples, determine the percentage of movies in 2014 that do not have a user rating."
   ]
  },
  {
   "cell_type": "code",
   "execution_count": 3,
   "metadata": {
    "collapsed": false
   },
   "outputs": [
    {
     "name": "stdout",
     "output_type": "stream",
     "text": [
      "309 2\n",
      "Percentage: 0.65%"
     ]
    }
   ],
   "source": [
    "val qry1 = sc.cassandraTable[(String,Option[Float])](\"killr_video\", \"videos_by_year_title\").where(\"added_year=2014\")\n",
    "val qry2 = qry1.select(\"title\", \"avg_rating\")\n",
    "val movieCount = qry2.count\n",
    "val ratedCount = qry2.filter(movie => movie._2.isEmpty).count\n",
    "\n",
    "printf(\"Percentage: %.2f%%\", 100.0 * ratedCount / movieCount)"
   ]
  },
  {
   "cell_type": "markdown",
   "metadata": {},
   "source": [
    "Notice we keep the `where()` clause instead of moving the condition into `filter()` so that Cassandra natively queries the partition directly instead of pulling all the data into Scala and then filtering."
   ]
  }
 ],
 "metadata": {
  "kernelspec": {
   "display_name": "Spark-DSE Local",
   "language": "scala",
   "name": "spark-dse-local"
  },
  "language_info": {
   "name": "scala"
  }
 },
 "nbformat": 4,
 "nbformat_minor": 0
}
