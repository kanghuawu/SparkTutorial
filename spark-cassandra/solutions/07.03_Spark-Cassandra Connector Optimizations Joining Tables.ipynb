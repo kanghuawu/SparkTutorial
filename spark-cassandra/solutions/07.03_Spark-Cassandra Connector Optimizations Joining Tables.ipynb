{
 "cells": [
  {
   "cell_type": "markdown",
   "metadata": {},
   "source": [
    "![DataStax Academy](https://s3.amazonaws.com/datastaxtraining/vq8Jr36Gk48v/datastax-academy.svg \"DataStax Academy\")"
   ]
  },
  {
   "cell_type": "markdown",
   "metadata": {},
   "source": [
    "# Exercise 07.03 - Spark-Cassandra Connector Optimizations: Joining Tables"
   ]
  },
  {
   "cell_type": "markdown",
   "metadata": {},
   "source": [
    "## Background"
   ]
  },
  {
   "cell_type": "markdown",
   "metadata": {},
   "source": [
    "With this exercise, you will be optimizing working Spark code by using the `joinWithCassandraTable` method.\n",
    "\n",
    "You'll be working with the `videos_by_actor` table and the `actor` table:"
   ]
  },
  {
   "cell_type": "raw",
   "metadata": {},
   "source": [
    "CREATE TABLE videos_by_actor (\n",
    "  actor_name TEXT,\n",
    "  release_year INT,\n",
    "  character_name TEXT,\n",
    "  video_id TIMEUUID,\n",
    "  title TEXT,\n",
    "  PRIMARY KEY (actor_name, release_year)\n",
    ") ;\n",
    "\n",
    "\n",
    "CREATE TABLE actor (\n",
    "  actor_name PRIMARY KEY\n",
    ") ;"
   ]
  },
  {
   "cell_type": "markdown",
   "metadata": {},
   "source": [
    "***"
   ]
  },
  {
   "cell_type": "markdown",
   "metadata": {},
   "source": [
    "## Directions"
   ]
  },
  {
   "cell_type": "markdown",
   "metadata": {},
   "source": [
    "Begin by creating a locally initialized list of two actors and parallelize it, or make it an RDD."
   ]
  },
  {
   "cell_type": "code",
   "execution_count": 14,
   "metadata": {
    "collapsed": false
   },
   "outputs": [],
   "source": [
    "case class ActorYear(actor_name: String, release_year: Int)\n",
    "\n",
    "val actors2014 = sc.parallelize(List(ActorYear(\"Johnny Depp\",2014), \n",
    "                                    ActorYear(\"Bruce Willis\",2014)))"
   ]
  },
  {
   "cell_type": "markdown",
   "metadata": {
    "collapsed": false
   },
   "source": [
    "Next join to the `videos by actor` table using the new method `joinWithCassandraTable`. Using this method will automatically join on the partition key by default."
   ]
  },
  {
   "cell_type": "code",
   "execution_count": 15,
   "metadata": {
    "collapsed": false,
    "scrolled": false
   },
   "outputs": [
    {
     "name": "stdout",
     "output_type": "stream",
     "text": [
      "(ActorYear(Bruce Willis,2014),CassandraRow{actor_name: Bruce Willis, character_name: Russell Duritz, video_id: ece7d611-a5e2-11e5-8504-a45e60eb67c5, release_year: 2000, title: The Kid})\n",
      "(ActorYear(Bruce Willis,2014),CassandraRow{actor_name: Bruce Willis, character_name: Harrison Hill, video_id: ece864e3-a5e2-11e5-9f55-a45e60eb67c5, release_year: 2007, title: Perfect Stranger})\n",
      "(ActorYear(Bruce Willis,2014),CassandraRow{actor_name: Bruce Willis, character_name: Frank Moses, video_id: ecfe78f3-a5e2-11e5-89af-a45e60eb67c5, release_year: 2013, title: RED 2})\n",
      "(ActorYear(Johnny Depp,2014),CassandraRow{actor_name: Johnny Depp, character_name: Axel Blackmar, video_id: eceaddee-a5e2-11e5-ab2f-a45e60eb67c5, release_year: 1992, title: Arizona Dream})\n",
      "(ActorYear(Johnny Depp,2014),CassandraRow{actor_name: Johnny Depp, character_name: Rochester, video_id: ece87a0f-a5e2-11e5-b1be-a45e60eb67c5, release_year: 2004, title: The Libertine})\n",
      "(ActorYear(Johnny Depp,2014),CassandraRow{actor_name: Johnny Depp, character_name: Imaginarium Tony 1, video_id: ece888e6-a5e2-11e5-a661-a45e60eb67c5, release_year: 2009, title: The Imaginarium of Doctor Parnassus})\n",
      "(ActorYear(Bruce Willis,2014),CassandraRow{actor_name: Bruce Willis, character_name: Jimmy, video_id: ece75461-a5e2-11e5-b0d1-a45e60eb67c5, release_year: 2004, title: The Whole Ten Yards})\n",
      "(ActorYear(Johnny Depp,2014),CassandraRow{actor_name: Johnny Depp, character_name: Guy on TV (as Oprah Noodlemantra), video_id: eceb0ea3-a5e2-11e5-8591-a45e60eb67c5, release_year: 1991, title: Freddy's Dead: The Final Nightmare})\n",
      "(ActorYear(Bruce Willis,2014),CassandraRow{actor_name: Bruce Willis, character_name: John McClane, video_id: ecf58f1e-a5e2-11e5-a494-a45e60eb67c5, release_year: 2013, title: A Good Day to Die Hard})\n",
      "(ActorYear(Johnny Depp,2014),CassandraRow{actor_name: Johnny Depp, character_name: Frank Tupelo, video_id: ecf2ed68-a5e2-11e5-8136-a45e60eb67c5, release_year: 2010, title: The Tourist})\n"
     ]
    }
   ],
   "source": [
    "actors2014.joinWithCassandraTable(\"killr_video\",\"videos_by_actor\").takeSample(false,10).foreach(println)"
   ]
  },
  {
   "cell_type": "markdown",
   "metadata": {},
   "source": [
    "Now lets change the where condition. We can use the `on` condition, provided we are limiting the result set by a column that is part of the clustering column."
   ]
  },
  {
   "cell_type": "code",
   "execution_count": 18,
   "metadata": {
    "collapsed": false
   },
   "outputs": [
    {
     "name": "stdout",
     "output_type": "stream",
     "text": [
      "(ActorYear(Bruce Willis,2014),CassandraRow{actor_name: Bruce Willis, release_year: 2014, character_name: Omar, title: The Prince, video_id: ed01818c-a5e2-11e5-8efd-a45e60eb67c5})\n",
      "(ActorYear(Johnny Depp,2014),CassandraRow{actor_name: Johnny Depp, release_year: 2014, character_name: Guy Lapointe, title: Tusk, video_id: ed01abe6-a5e2-11e5-89d1-a45e60eb67c5})\n"
     ]
    }
   ],
   "source": [
    "actors2014.joinWithCassandraTable(\"killr_video\",\"videos_by_actor\").on(SomeColumns(\"actor_name\",\"release_year\")).takeSample(false,10).foreach(println)"
   ]
  },
  {
   "cell_type": "markdown",
   "metadata": {},
   "source": [
    "Join two cassandra tables using the `joinWithCassandra` method. You will want to make a point to start with the table with a higher cardinality. In this case there are more videos than there are actors, so we will want to start with the actors table."
   ]
  },
  {
   "cell_type": "code",
   "execution_count": 2,
   "metadata": {
    "collapsed": false
   },
   "outputs": [
    {
     "name": "stdout",
     "output_type": "stream",
     "text": [
      "(CassandraRow{actor_name: Jaime King},CassandraRow{actor_name: Jaime King, release_year: 2005, character_name: Kathy Joyce, title: Pretty Persuasion, video_id: ececc4cc-a5e2-11e5-8f15-a45e60eb67c5})\n",
      "(CassandraRow{actor_name: Jim Doughan},CassandraRow{actor_name: Jim Doughan, release_year: 2003, character_name: Mr. Coleman, title: The Haunted Mansion, video_id: ecea9a1e-a5e2-11e5-b56c-a45e60eb67c5})\n",
      "(CassandraRow{actor_name: Chris Ellis},CassandraRow{actor_name: Chris Ellis, release_year: 1997, character_name: Det. Butler, title: Bean, video_id: ece6cad7-a5e2-11e5-a01b-a45e60eb67c5})\n",
      "(CassandraRow{actor_name: Harry Morgan},CassandraRow{actor_name: Harry Morgan, release_year: 1945, character_name: Barker (as Henry Morgan), title: State Fair, video_id: ecf0f007-a5e2-11e5-aec7-a45e60eb67c5})\n",
      "(CassandraRow{actor_name: Ian McKellen},CassandraRow{actor_name: Ian McKellen, release_year: 2001, character_name: Gandalf the Grey, title: The Lord of the Rings: The Fellowship of the Ring, video_id: ece5d8bd-a5e2-11e5-84b9-a45e60eb67c5})\n",
      "(CassandraRow{actor_name: Emma Stone},CassandraRow{actor_name: Emma Stone, release_year: 2008, character_name: Natalie, title: The Rocker, video_id: ecebf0a8-a5e2-11e5-a733-a45e60eb67c5})\n",
      "(CassandraRow{actor_name: Ola Rapace},CassandraRow{actor_name: Ola Rapace, release_year: 2012, character_name: Patrice, title: Skyfall, video_id: ecf2efca-a5e2-11e5-8e61-a45e60eb67c5})\n",
      "(CassandraRow{actor_name: Alexander Siddig},CassandraRow{actor_name: Alexander Siddig, release_year: 2008, character_name: Prime Minister John Hatcher, title: Doomsday, video_id: ecec56c5-a5e2-11e5-8284-a45e60eb67c5})\n",
      "(CassandraRow{actor_name: Edward Norton},CassandraRow{actor_name: Edward Norton, release_year: 2012, character_name: Scout Master Ward, title: Moonrise Kingdom, video_id: ecfb0f14-a5e2-11e5-90e4-a45e60eb67c5})\n",
      "(CassandraRow{actor_name: Ernie Hudson},CassandraRow{actor_name: Ernie Hudson, release_year: 2009, character_name: Master Mutaito, title: Dragonball Evolution, video_id: ececc468-a5e2-11e5-8599-a45e60eb67c5})\n"
     ]
    }
   ],
   "source": [
    "sc.cassandraTable(\"killr_video\", \"actor\").joinWithCassandraTable(\"killr_video\",\"videos_by_actor\").takeSample(false, 10).foreach(println)"
   ]
  }
 ],
 "metadata": {
  "kernelspec": {
   "display_name": "Spark-DSE Cluster",
   "language": "scala",
   "name": "spark-dse-cluster"
  },
  "language_info": {
   "name": "scala"
  }
 },
 "nbformat": 4,
 "nbformat_minor": 0
}
