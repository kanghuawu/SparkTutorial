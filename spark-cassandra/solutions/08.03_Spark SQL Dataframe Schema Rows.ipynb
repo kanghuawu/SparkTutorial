{
 "cells": [
  {
   "cell_type": "markdown",
   "metadata": {},
   "source": [
    "![DataStax Academy](https://s3.amazonaws.com/datastaxtraining/vq8Jr36Gk48v/datastax-academy.svg \"DataStax Academy\")"
   ]
  },
  {
   "cell_type": "markdown",
   "metadata": {},
   "source": [
    "# Exercise 08.03 - Spark SQL: Dataframe Schema Rows"
   ]
  },
  {
   "cell_type": "markdown",
   "metadata": {},
   "source": [
    "## Background"
   ]
  },
  {
   "cell_type": "markdown",
   "metadata": {},
   "source": [
    "We will be reviewing several of the methods available to access the information contained in a dataframe."
   ]
  },
  {
   "cell_type": "markdown",
   "metadata": {},
   "source": [
    "***"
   ]
  },
  {
   "cell_type": "markdown",
   "metadata": {},
   "source": [
    "## Directions"
   ]
  },
  {
   "cell_type": "markdown",
   "metadata": {},
   "source": [
    "Let's begin by using the `printSchema' method to view the schema in a \"human-readable output\"."
   ]
  },
  {
   "cell_type": "code",
   "execution_count": 3,
   "metadata": {
    "collapsed": false
   },
   "outputs": [
    {
     "name": "stdout",
     "output_type": "stream",
     "text": [
      "root\n",
      " |-- video_id: binary (nullable = true)\n",
      " |-- avg_rating: float (nullable = true)\n",
      " |-- description: string (nullable = true)\n",
      " |-- genres: array (nullable = true)\n",
      " |    |-- element: string (containsNull = true)\n",
      " |-- mpaa_rating: string (nullable = true)\n",
      " |-- release_date: timestamp (nullable = true)\n",
      " |-- release_year: integer (nullable = true)\n",
      " |-- title: string (nullable = true)\n",
      " |-- user_id: binary (nullable = true)\n",
      "\n"
     ]
    }
   ],
   "source": [
    "val df = sqlContext.sql(\"SELECT * FROM killr_video.videos\")\n",
    "\n",
    "df.printSchema()"
   ]
  },
  {
   "cell_type": "markdown",
   "metadata": {},
   "source": [
    "Using the `dtypes` method, get the column names and types."
   ]
  },
  {
   "cell_type": "code",
   "execution_count": 19,
   "metadata": {
    "collapsed": false,
    "scrolled": true
   },
   "outputs": [
    {
     "data": {
      "text/plain": [
       "Array[(String, String)] = Array((video_id,BinaryType), (avg_rating,FloatType), (description,StringType), (genres,ArrayType(StringType,true)), (mpaa_rating,StringType), (release_date,TimestampType), (release_year,IntegerType), (title,StringType), (user_id,BinaryType))"
      ]
     },
     "execution_count": 19,
     "metadata": {},
     "output_type": "execute_result"
    }
   ],
   "source": [
    "val df = sqlContext.sql(\"SELECT * FROM killr_video.videos\")\n",
    "\n",
    "val schema = df.dtypes\n",
    "\n",
    "schema"
   ]
  },
  {
   "cell_type": "markdown",
   "metadata": {},
   "source": [
    "Try using the `first` method to interrogate the row. Try referencing the results by index, see if the value is null (`isNullAt`) and return the row by data type (`getInt`)."
   ]
  },
  {
   "cell_type": "code",
   "execution_count": 20,
   "metadata": {
    "collapsed": false
   },
   "outputs": [
    {
     "name": "stdout",
     "output_type": "stream",
     "text": [
      "Pirates of the Caribbean: On Stranger Tides\n",
      "false\n",
      "2011\n"
     ]
    }
   ],
   "source": [
    "val df = sqlContext.sql(\"SELECT title, release_year FROM killr_video.videos WHERE title = 'Pirates of the Caribbean: On Stranger Tides'\")\n",
    "\n",
    "val row = df.first\n",
    "\n",
    "row\n",
    "\n",
    "println(row(0))\n",
    "println(row.isNullAt(1))\n",
    "println(row.getInt(1))"
   ]
  },
  {
   "cell_type": "markdown",
   "metadata": {},
   "source": [
    "Let's select a column from `videos` table for our selected title and using the `asInstanceOf` method, parse the values."
   ]
  },
  {
   "cell_type": "code",
   "execution_count": 24,
   "metadata": {
    "collapsed": false
   },
   "outputs": [
    {
     "name": "stdout",
     "output_type": "stream",
     "text": [
      "Action\n",
      "Fantasy\n"
     ]
    }
   ],
   "source": [
    "val df = sqlContext.sql(\"SELECT genres FROM killr_video.videos WHERE title = 'Pirates of the Caribbean: On Stranger Tides'\")\n",
    "val row = df.first\n",
    "\n",
    "row(0).asInstanceOf[Seq[String]].foreach(println)"
   ]
  }
 ],
 "metadata": {
  "kernelspec": {
   "display_name": "Spark-DSE Cluster",
   "language": "scala",
   "name": "spark-dse-cluster"
  },
  "language_info": {
   "name": "scala"
  }
 },
 "nbformat": 4,
 "nbformat_minor": 0
}
