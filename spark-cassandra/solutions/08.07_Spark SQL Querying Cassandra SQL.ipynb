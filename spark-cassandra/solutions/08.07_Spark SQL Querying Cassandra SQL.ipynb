{
 "cells": [
  {
   "cell_type": "markdown",
   "metadata": {},
   "source": [
    "![DataStax Academy](https://s3.amazonaws.com/datastaxtraining/vq8Jr36Gk48v/datastax-academy.svg \"DataStax Academy\")"
   ]
  },
  {
   "cell_type": "markdown",
   "metadata": {},
   "source": [
    "# Exercise 08.07 - Spark SQL: Dataframe Language Integrated"
   ]
  },
  {
   "cell_type": "markdown",
   "metadata": {},
   "source": [
    "## Background"
   ]
  },
  {
   "cell_type": "markdown",
   "metadata": {},
   "source": [
    "In this example we will execute some additional examples of SQL queries."
   ]
  },
  {
   "cell_type": "raw",
   "metadata": {},
   "source": [
    "CREATE TABLE videos_by_actor (\n",
    "  actor_name TEXT,\n",
    "  release_year INT,\n",
    "  character_name TEXT,\n",
    "  video_id TIMEUUID,\n",
    "  title TEXT,\n",
    "  PRIMARY KEY (actor_name, release_year)\n",
    ") ;"
   ]
  },
  {
   "cell_type": "markdown",
   "metadata": {},
   "source": [
    "***"
   ]
  },
  {
   "cell_type": "markdown",
   "metadata": {},
   "source": [
    "## Directions"
   ]
  },
  {
   "cell_type": "markdown",
   "metadata": {
    "collapsed": false
   },
   "source": [
    "A useful tool is the `registerTempTable` method. We will begin by creating a dataframe."
   ]
  },
  {
   "cell_type": "code",
   "execution_count": 31,
   "metadata": {
    "collapsed": false
   },
   "outputs": [
    {
     "name": "stdout",
     "output_type": "stream",
     "text": [
      "\r",
      "                                                                                \r",
      "+-----------+--------+\n",
      "| actor_name|max_year|\n",
      "+-----------+--------+\n",
      "|Johnny Depp|    2015|\n",
      "+-----------+--------+\n",
      "\n"
     ]
    }
   ],
   "source": [
    "val maxDF = sqlContext.sql(\"SELECT actor_name, MAX(release_year) as max_year FROM killr_video.videos_by_actor WHERE actor_name = 'Johnny Depp' GROUP BY actor_name\")\n",
    "\n",
    "maxDF.show"
   ]
  },
  {
   "cell_type": "markdown",
   "metadata": {},
   "source": [
    "Now we will register that information as a temp table and use it in a SQL join."
   ]
  },
  {
   "cell_type": "code",
   "execution_count": 32,
   "metadata": {
    "collapsed": false
   },
   "outputs": [],
   "source": [
    "maxDF.registerTempTable(\"max_year\")"
   ]
  },
  {
   "cell_type": "code",
   "execution_count": 33,
   "metadata": {
    "collapsed": false,
    "scrolled": true
   },
   "outputs": [
    {
     "name": "stdout",
     "output_type": "stream",
     "text": [
      "\r",
      "                                                                                \r",
      "+-----------+----------+------------+\n",
      "| actor_name|     title|release_year|\n",
      "+-----------+----------+------------+\n",
      "|Johnny Depp|Black Mass|        2015|\n",
      "+-----------+----------+------------+\n",
      "\n"
     ]
    }
   ],
   "source": [
    "val movieDF = sqlContext.sql(\"SELECT M.actor_name, title, release_year FROM max_year as R JOIN killr_video.videos_by_actor as M ON (R.actor_name = M.actor_name) WHERE release_year > max_year - 1 ORDER BY release_year DESC\")\n",
    "movieDF.show"
   ]
  },
  {
   "cell_type": "markdown",
   "metadata": {},
   "source": [
    "Another interesting method you can use is the `explain` method. This will output the query execution plan, so you can follow the steps Spark is using to complete the task."
   ]
  },
  {
   "cell_type": "code",
   "execution_count": 26,
   "metadata": {
    "collapsed": false,
    "scrolled": true
   },
   "outputs": [
    {
     "name": "stdout",
     "output_type": "stream",
     "text": [
      "== Physical Plan ==\n",
      "Sort [release_year#46 DESC], true\n",
      " Exchange (RangePartitioning 200)\n",
      "  Project [actor_name#43,title#47,release_year#46]\n",
      "   Filter (release_year#46 > (max_year#21 - 1))\n",
      "    ShuffledHashJoin [actor_name#22], [actor_name#43], BuildRight\n",
      "     Aggregate false, [actor_name#22], [actor_name#22,MAX(PartialMax#49) AS max_year#21]\n",
      "      Exchange (HashPartitioning 200)\n",
      "       Aggregate true, [actor_name#22], [actor_name#22,MAX(release_year#25) AS PartialMax#49]\n",
      "        Filter (actor_name#22 = Johnny Depp)\n",
      "         HiveTableScan [actor_name#22,release_year#25], (MetastoreRelation killr_video, videos_by_actor, None), None\n",
      "     Exchange (HashPartitioning 200)\n",
      "      HiveTableScan [title#47,release_year#46,actor_name#43], (MetastoreRelation killr_video, videos_by_actor, Some(M)), None\n"
     ]
    }
   ],
   "source": [
    "movieDF.explain"
   ]
  }
 ],
 "metadata": {
  "kernelspec": {
   "display_name": "Spark-DSE Cluster",
   "language": "scala",
   "name": "spark-dse-cluster"
  },
  "language_info": {
   "name": "scala"
  }
 },
 "nbformat": 4,
 "nbformat_minor": 0
}
