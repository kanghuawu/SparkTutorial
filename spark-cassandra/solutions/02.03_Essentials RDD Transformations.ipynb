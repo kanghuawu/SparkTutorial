{
 "cells": [
  {
   "cell_type": "markdown",
   "metadata": {},
   "source": [
    "![DataStax Academy](https://s3.amazonaws.com/datastaxtraining/vq8Jr36Gk48v/datastax-academy.svg \"DataStax Academy\")"
   ]
  },
  {
   "cell_type": "markdown",
   "metadata": {},
   "source": [
    "# Exercise 02.03 - Essentials: RDD Transformations"
   ]
  },
  {
   "cell_type": "markdown",
   "metadata": {},
   "source": [
    "## Background"
   ]
  },
  {
   "cell_type": "markdown",
   "metadata": {},
   "source": [
    "We'll be taking a look at the unary transformations that were covered in the video. \n",
    "\n",
    "Two users, Jim and Jane, each have a CSV file that contains their favorite movies. You will create RDDs from these two files, and then use different unary transformations to \"compare\" the movies.\n",
    "\n",
    "Jim's list, at `/root/data/jims-favorite-movies.csv`, contains:"
   ]
  },
  {
   "cell_type": "raw",
   "metadata": {},
   "source": [
    "Winnie the Pooh\n",
    "The Tigger Movie"
   ]
  },
  {
   "cell_type": "markdown",
   "metadata": {},
   "source": [
    "Jane's list, in `/root/data/janes-favorite-movies.csv` contains:"
   ]
  },
  {
   "cell_type": "raw",
   "metadata": {},
   "source": [
    "The Tigger Movie\n",
    "Pirates"
   ]
  },
  {
   "cell_type": "markdown",
   "metadata": {},
   "source": [
    "***"
   ]
  },
  {
   "cell_type": "markdown",
   "metadata": {},
   "source": [
    "## Directions"
   ]
  },
  {
   "cell_type": "markdown",
   "metadata": {},
   "source": [
    "#### 1. Load the two CSV files, `jims-favorite-movies.csv` and `janes-favorite-movies.csv` into RDDs."
   ]
  },
  {
   "cell_type": "code",
   "execution_count": 1,
   "metadata": {
    "collapsed": true
   },
   "outputs": [],
   "source": [
    "val jimMovies = sc.textFile(\"file:///root/data/jims-favorite-movies.csv\")\n",
    "val janeMovies = sc.textFile(\"file:///root/data/janes-favorite-movies.csv\")"
   ]
  },
  {
   "cell_type": "markdown",
   "metadata": {},
   "source": [
    "#### 2. Use the `intersection` method to create an RDD that contains the movies Jim and Jane have in common. Print the contents of this RDD."
   ]
  },
  {
   "cell_type": "code",
   "execution_count": 2,
   "metadata": {
    "collapsed": false
   },
   "outputs": [
    {
     "name": "stdout",
     "output_type": "stream",
     "text": [
      "\r",
      "                                                                                \r",
      "The Tigger Movie\n"
     ]
    }
   ],
   "source": [
    "jimMovies.intersection(janeMovies).collect.foreach(println)"
   ]
  },
  {
   "cell_type": "markdown",
   "metadata": {},
   "source": [
    "#### 3. Use the `union` method to create an RDD with all of the *distinct* movies in the two lists and print the contents."
   ]
  },
  {
   "cell_type": "code",
   "execution_count": 3,
   "metadata": {
    "collapsed": false
   },
   "outputs": [
    {
     "name": "stdout",
     "output_type": "stream",
     "text": [
      "\r",
      "                                                                                \r",
      "The Tigger Movie\n",
      "Winnie the Pooh\n",
      "Pirates\n"
     ]
    }
   ],
   "source": [
    "jimMovies.union(janeMovies).distinct.collect.foreach(println)"
   ]
  },
  {
   "cell_type": "markdown",
   "metadata": {},
   "source": [
    "#### 4. Finally, use the `subtract` method to make an RDD with the movies that are in Jane's list, but not in Jim's list, and print it out."
   ]
  },
  {
   "cell_type": "code",
   "execution_count": 4,
   "metadata": {
    "collapsed": false
   },
   "outputs": [
    {
     "name": "stdout",
     "output_type": "stream",
     "text": [
      "Pirates\n"
     ]
    }
   ],
   "source": [
    "janeMovies.subtract(jimMovies).collect.foreach(println)"
   ]
  }
 ],
 "metadata": {
  "kernelspec": {
   "display_name": "Spark-DSE Cluster",
   "language": "scala",
   "name": "spark-dse-cluster"
  },
  "language_info": {
   "name": "scala"
  }
 },
 "nbformat": 4,
 "nbformat_minor": 0
}
