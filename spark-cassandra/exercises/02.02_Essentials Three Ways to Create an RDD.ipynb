{
 "cells": [
  {
   "cell_type": "markdown",
   "metadata": {},
   "source": [
    "![DataStax Academy](https://s3.amazonaws.com/datastaxtraining/vq8Jr36Gk48v/datastax-academy.svg \"DataStax Academy\")"
   ]
  },
  {
   "cell_type": "markdown",
   "metadata": {},
   "source": [
    "# Exercise 02.02 - Essentials: Three Ways to Create an RDD"
   ]
  },
  {
   "cell_type": "markdown",
   "metadata": {},
   "source": [
    "## Background"
   ]
  },
  {
   "cell_type": "markdown",
   "metadata": {},
   "source": [
    "In this exercise you will practice creating an RDD from a few different data sources: \n",
    "\n",
    "1. Parallelizing a collection\n",
    "2. Load data from storage\n",
    "3. Transforming an RDD\n",
    "\n",
    "One of the data sources you'll be working with is a Cassandra table, `killr_video.videos`, with the table definition:"
   ]
  },
  {
   "cell_type": "raw",
   "metadata": {},
   "source": [
    "CREATE TABLE killr_video.videos (\n",
    "   video_id TIMEUUID,\n",
    "   avg_rating FLOAT,\n",
    "   description TEXT,\n",
    "   genres SET<TEXT>,\n",
    "   mpaa_rating TEXT,\n",
    "   release_date TIMESTAMP,\n",
    "   release_year INT,\n",
    "   title TEXT,\n",
    "   user_id UUID,\n",
    "   PRIMARY KEY (video_id)\n",
    ");"
   ]
  },
  {
   "cell_type": "markdown",
   "metadata": {},
   "source": [
    "You'll also be working with a CSV file, `/root/data/video-years.csv`, which contains columns in the following order:"
   ]
  },
  {
   "cell_type": "raw",
   "metadata": {},
   "source": [
    "video_id, title, year"
   ]
  },
  {
   "cell_type": "markdown",
   "metadata": {},
   "source": [
    "***"
   ]
  },
  {
   "cell_type": "markdown",
   "metadata": {},
   "source": [
    "## Directions"
   ]
  },
  {
   "cell_type": "markdown",
   "metadata": {},
   "source": [
    "#### 1. Create a List object with the following movie titles, and set to a `val`:"
   ]
  },
  {
   "cell_type": "raw",
   "metadata": {},
   "source": [
    "Winnie the Pooh\n",
    "The Tigger Movie\n",
    "Pirates of the Caribbean\n",
    "Apollo 13\n",
    "Mallcop\n",
    "Mockingjay - Part 1\n",
    "The Good Dinosaur\n",
    "Lava\n",
    "The Peanuts Movie"
   ]
  },
  {
   "cell_type": "code",
   "execution_count": null,
   "metadata": {
    "collapsed": false
   },
   "outputs": [],
   "source": []
  },
  {
   "cell_type": "markdown",
   "metadata": {},
   "source": [
    "#### 2. From the List object, create an RDD using the `parallelize` method. "
   ]
  },
  {
   "cell_type": "code",
   "execution_count": null,
   "metadata": {
    "collapsed": false
   },
   "outputs": [],
   "source": []
  },
  {
   "cell_type": "markdown",
   "metadata": {},
   "source": [
    "The output should show that you now have a org.apache.spark.rdd.RDD object!"
   ]
  },
  {
   "cell_type": "markdown",
   "metadata": {},
   "source": [
    "#### 3. Create the RDD again, but use the `take` action to retrieve the first 3 elements of the RDD."
   ]
  },
  {
   "cell_type": "code",
   "execution_count": null,
   "metadata": {
    "collapsed": false
   },
   "outputs": [],
   "source": []
  },
  {
   "cell_type": "markdown",
   "metadata": {},
   "source": [
    "The `take` action returns an Array with the elements from the RDD, which in this case are Strings."
   ]
  },
  {
   "cell_type": "markdown",
   "metadata": {},
   "source": [
    "#### 4. Now let's create an RDD from the Cassandra `killr_video.videos` table and set that to a `val`. Retrieve the first element in the RDD."
   ]
  },
  {
   "cell_type": "code",
   "execution_count": null,
   "metadata": {
    "collapsed": false
   },
   "outputs": [],
   "source": []
  },
  {
   "cell_type": "markdown",
   "metadata": {},
   "source": [
    "The retrieved Array should contain a CassandraRow with columns and values, the same as the table definition above."
   ]
  },
  {
   "cell_type": "markdown",
   "metadata": {},
   "source": [
    "#### 5. Finally, let's create an RDD using a transformation. Run the next code box, and then filter the resulting `csvRDD` to create an RDD with only the movies released in 2002 or later. Print out the contents of the RDD."
   ]
  },
  {
   "cell_type": "code",
   "execution_count": null,
   "metadata": {
    "collapsed": false
   },
   "outputs": [],
   "source": [
    "val csvArray = sc.textFile(\"file:///root/data/video-years.csv\").map(line => line.split(\",\") )\n",
    "val csvRDD = csvArray collect { case Array(video_id: String, title: String, year: String) => (video_id,title,year.toInt) }"
   ]
  },
  {
   "cell_type": "code",
   "execution_count": null,
   "metadata": {
    "collapsed": false
   },
   "outputs": [],
   "source": []
  }
 ],
 "metadata": {
  "kernelspec": {
   "display_name": "Spark-DSE Cluster",
   "language": "scala",
   "name": "spark-dse-cluster"
  },
  "language_info": {
   "name": "scala"
  }
 },
 "nbformat": 4,
 "nbformat_minor": 0
}
