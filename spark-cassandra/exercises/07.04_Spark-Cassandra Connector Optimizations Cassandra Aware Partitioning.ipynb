{
 "cells": [
  {
   "cell_type": "markdown",
   "metadata": {},
   "source": [
    "![DataStax Academy](https://s3.amazonaws.com/datastaxtraining/vq8Jr36Gk48v/datastax-academy.svg \"DataStax Academy\")"
   ]
  },
  {
   "cell_type": "markdown",
   "metadata": {},
   "source": [
    "# Exercise 07.04 - Spark-Cassandra Connector Optimizations: Cassandra Aware Partitioning"
   ]
  },
  {
   "cell_type": "markdown",
   "metadata": {},
   "source": [
    "## Background"
   ]
  },
  {
   "cell_type": "markdown",
   "metadata": {},
   "source": [
    "With this exercise, you will be optimizing working Spark code by using the `repartitionByCassandraReplica` method.\n",
    "\n",
    "You'll be working with the `videos_by_actor` table:"
   ]
  },
  {
   "cell_type": "raw",
   "metadata": {},
   "source": [
    "CREATE TABLE videos_by_actor (\n",
    "  actor_name TEXT,\n",
    "  release_year INT,\n",
    "  character_name TEXT,\n",
    "  video_id TIMEUUID,\n",
    "  title TEXT,\n",
    "  PRIMARY KEY (actor_name, release_year)\n",
    ") ;"
   ]
  },
  {
   "cell_type": "markdown",
   "metadata": {},
   "source": [
    "***"
   ]
  },
  {
   "cell_type": "markdown",
   "metadata": {},
   "source": [
    "## Directions"
   ]
  },
  {
   "cell_type": "markdown",
   "metadata": {},
   "source": [
    "Similar to the previous exercise, we will begin by paralellizing a list of two actors, creating an RDD, but this time we will use the `repartitionByCassandraReplica` method. This will kick off shuffling of the partition data to optimize future joins."
   ]
  },
  {
   "cell_type": "code",
   "execution_count": 1,
   "metadata": {
    "collapsed": false
   },
   "outputs": [],
   "source": [
    "case class ActorYear(actor_name: String, release_year: Int)\n",
    "\n",
    "val actors2014 = sc.parallelize(List(ActorYear(\"Johnny Depp\",2014), \n",
    "                                    ActorYear(\"Bruce Willis\",2014)))\n",
    "    .repartitionByCassandraReplica(\"killr_video\", \"videos_by_actor\")"
   ]
  },
  {
   "cell_type": "markdown",
   "metadata": {},
   "source": [
    "Next we will use `joinWithCassandraTable` method to return the same data in the previous exercise. Did you notice that this returned the data faster?"
   ]
  },
  {
   "cell_type": "code",
   "execution_count": 3,
   "metadata": {
    "collapsed": false
   },
   "outputs": [
    {
     "name": "stdout",
     "output_type": "stream",
     "text": [
      "(ActorYear(Bruce Willis,2014),CassandraRow{actor_name: Bruce Willis, release_year: 1998, character_name: Major-General William Devereaux, title: The Siege, video_id: ece9b497-a5e2-11e5-95a0-a45e60eb67c5})\n",
      "(ActorYear(Johnny Depp,2014),CassandraRow{actor_name: Johnny Depp, release_year: 2011, character_name: Paul Kemp, title: The Rum Diary, video_id: ecefcb57-a5e2-11e5-901e-a45e60eb67c5})\n",
      "(ActorYear(Bruce Willis,2014),CassandraRow{actor_name: Bruce Willis, release_year: 1992, character_name: Dr. Ernest Menville, title: Death Becomes Her, video_id: ece92b66-a5e2-11e5-90e6-a45e60eb67c5})\n",
      "(ActorYear(Johnny Depp,2014),CassandraRow{actor_name: Johnny Depp, release_year: 1992, character_name: Axel Blackmar, title: Arizona Dream, video_id: eceaddee-a5e2-11e5-ab2f-a45e60eb67c5})\n",
      "(ActorYear(Johnny Depp,2014),CassandraRow{actor_name: Johnny Depp, release_year: 2006, character_name: Captain Jack Sparrow, title: Pirates of the Caribbean: Dead Man's Chest, video_id: ece5c4b0-a5e2-11e5-8be9-a45e60eb67c5})\n",
      "(ActorYear(Bruce Willis,2014),CassandraRow{actor_name: Bruce Willis, release_year: 2013, character_name: John McClane, title: A Good Day to Die Hard, video_id: ecf58f1e-a5e2-11e5-a494-a45e60eb67c5})\n",
      "(ActorYear(Johnny Depp,2014),CassandraRow{actor_name: Johnny Depp, release_year: 1999, character_name: Ichabod Crane, title: The Ninth Gate, video_id: ece79a57-a5e2-11e5-b895-a45e60eb67c5})\n",
      "(ActorYear(Bruce Willis,2014),CassandraRow{actor_name: Bruce Willis, release_year: 2002, character_name: Col. William A. McNamara, title: Hart's War, video_id: ecea6c0f-a5e2-11e5-a1e0-a45e60eb67c5})\n",
      "(ActorYear(Bruce Willis,2014),CassandraRow{actor_name: Bruce Willis, release_year: 1996, character_name: Muddy Grimes (voice), title: Beavis and Butt-Head Do America, video_id: ece7b4ca-a5e2-11e5-895e-a45e60eb67c5})\n",
      "(ActorYear(Bruce Willis,2014),CassandraRow{actor_name: Bruce Willis, release_year: 2014, character_name: Omar, title: The Prince, video_id: ed01818c-a5e2-11e5-8efd-a45e60eb67c5})\n"
     ]
    }
   ],
   "source": [
    "actors2014.joinWithCassandraTable(\"killr_video\", \"videos_by_actor\")\n",
    "    .takeSample(false, 10)\n",
    "    .foreach(println)"
   ]
  },
  {
   "cell_type": "code",
   "execution_count": null,
   "metadata": {
    "collapsed": true
   },
   "outputs": [],
   "source": []
  }
 ],
 "metadata": {
  "kernelspec": {
   "display_name": "Spark-DSE Cluster",
   "language": "scala",
   "name": "spark-dse-cluster"
  },
  "language_info": {
   "name": "scala"
  }
 },
 "nbformat": 4,
 "nbformat_minor": 0
}
