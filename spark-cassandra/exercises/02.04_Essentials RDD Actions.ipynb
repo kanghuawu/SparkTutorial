{
 "cells": [
  {
   "cell_type": "markdown",
   "metadata": {},
   "source": [
    "![DataStax Academy](https://s3.amazonaws.com/datastaxtraining/vq8Jr36Gk48v/datastax-academy.svg \"DataStax Academy\")"
   ]
  },
  {
   "cell_type": "markdown",
   "metadata": {},
   "source": [
    "# Exercise 02.04 - Essentials: RDD Actions"
   ]
  },
  {
   "cell_type": "markdown",
   "metadata": {},
   "source": [
    "## Background"
   ]
  },
  {
   "cell_type": "markdown",
   "metadata": {},
   "source": [
    "This exercise will be reviewing RDD actions by computing some statistics for a user's playlist, which is a list of movies and its attributes.\n",
    "\n",
    "The contents of the playlist include the following:"
   ]
  },
  {
   "cell_type": "raw",
   "metadata": {},
   "source": [
    "Title                        Duration (mins)          User Rating\n",
    "\n",
    "The Martian                              141                  7.6\n",
    "Bridge of Spies                          141                  8.0 \n",
    "The Imitation Game                       113                  8.0          \n",
    "The Wolf of Wall Street                  180                  7.9\n",
    "Creed                                    132                  8.6\n",
    "John Wick                                101                  7.2\n",
    "The Hundred-Foot Journey                 122                  7.3"
   ]
  },
  {
   "cell_type": "markdown",
   "metadata": {},
   "source": [
    "***"
   ]
  },
  {
   "cell_type": "markdown",
   "metadata": {},
   "source": [
    "## Directions"
   ]
  },
  {
   "cell_type": "markdown",
   "metadata": {},
   "source": [
    "#### 1. Run the following code box to load the playlist content as a list of tuples."
   ]
  },
  {
   "cell_type": "code",
   "execution_count": null,
   "metadata": {
    "collapsed": false
   },
   "outputs": [],
   "source": [
    "val playlist = List((\"The Martian\", 141, 7.6),\n",
    "                    (\"Bridge of Spies\", 141, 8.0),\n",
    "                    (\"The Imitation Game\", 113, 8.0),\n",
    "                    (\"The Wolf of Wall Street\", 180, 7.9),\n",
    "                    (\"Creed\", 132, 8.6),\n",
    "                    (\"John Wick\", 101, 7.2),\n",
    "                    (\"The Hundred-Foot Journey\", 122, 7.3))"
   ]
  },
  {
   "cell_type": "markdown",
   "metadata": {},
   "source": [
    "#### 2. Use the `parallelize` action to create an RDD and set to a `val`."
   ]
  },
  {
   "cell_type": "code",
   "execution_count": null,
   "metadata": {
    "collapsed": false
   },
   "outputs": [],
   "source": []
  },
  {
   "cell_type": "markdown",
   "metadata": {},
   "source": [
    "The parallelize method is used to divide the data into a number of partitions which can then be distributed and worked on in parallel across Spark workers. It may not have much meaning in a VM with only one Spark node, but it is an important action to get in the habit of using."
   ]
  },
  {
   "cell_type": "markdown",
   "metadata": {},
   "source": [
    "#### 3. Count the number of movies in the playlist."
   ]
  },
  {
   "cell_type": "code",
   "execution_count": null,
   "metadata": {
    "collapsed": false
   },
   "outputs": [],
   "source": []
  },
  {
   "cell_type": "markdown",
   "metadata": {},
   "source": [
    "#### 4. Calculate the total duration of all of the movies in the playlist."
   ]
  },
  {
   "cell_type": "code",
   "execution_count": null,
   "metadata": {
    "collapsed": false
   },
   "outputs": [],
   "source": []
  },
  {
   "cell_type": "markdown",
   "metadata": {},
   "source": [
    "#### 5. Calculate the average user rating for the movies in this playlist."
   ]
  },
  {
   "cell_type": "code",
   "execution_count": null,
   "metadata": {
    "collapsed": false
   },
   "outputs": [],
   "source": []
  }
 ],
 "metadata": {
  "kernelspec": {
   "display_name": "Spark-DSE Cluster",
   "language": "scala",
   "name": "spark-dse-cluster"
  },
  "language_info": {
   "name": "scala"
  }
 },
 "nbformat": 4,
 "nbformat_minor": 0
}
