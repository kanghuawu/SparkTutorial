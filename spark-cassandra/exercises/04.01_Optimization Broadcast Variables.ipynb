{
 "cells": [
  {
   "cell_type": "markdown",
   "metadata": {},
   "source": [
    "![DataStax Academy](https://s3.amazonaws.com/datastaxtraining/vq8Jr36Gk48v/datastax-academy.svg \"DataStax Academy\")"
   ]
  },
  {
   "cell_type": "markdown",
   "metadata": {},
   "source": [
    "# Exercise 04.01 - Optimization: Broadcast Variables"
   ]
  },
  {
   "cell_type": "markdown",
   "metadata": {},
   "source": [
    "## Background"
   ]
  },
  {
   "cell_type": "markdown",
   "metadata": {},
   "source": [
    "In this exercise, you will be making use of broadcast variables to optimize your Spark code. The exercise is being done in a single-node VM, which should not have any noticeable performance gains, but becomes more useful the larger a cluster gets.\n",
    "\n",
    "The `killr_video.videos` table will be used in this exercise, which has the following definition:"
   ]
  },
  {
   "cell_type": "raw",
   "metadata": {},
   "source": [
    "CREATE TABLE killr_video.videos (\n",
    "    video_id TIMEUUID PRIMARY KEY,\n",
    "    avg_rating FLOAT,\n",
    "    description TEXT,\n",
    "    genres SET<TEXT>,\n",
    "    mpaa_rating TEXT,\n",
    "    release_date TIMESTAMP,\n",
    "    release_year INT,\n",
    "    title TEXT,\n",
    "    user_id UUID\n",
    ")"
   ]
  },
  {
   "cell_type": "markdown",
   "metadata": {},
   "source": [
    "Note: There are some columns which may have a null value: `avg_rating` and `description`. Be sure to use the `Option[]` data type for those columns."
   ]
  },
  {
   "cell_type": "markdown",
   "metadata": {},
   "source": [
    "***"
   ]
  },
  {
   "cell_type": "markdown",
   "metadata": {},
   "source": [
    "## Directions"
   ]
  },
  {
   "cell_type": "markdown",
   "metadata": {},
   "source": [
    "The code below searches for movies that contain the name of a particular superhero in the description. The names are saved in a Set object."
   ]
  },
  {
   "cell_type": "raw",
   "metadata": {
    "collapsed": false
   },
   "source": [
    "val superheroes = Set(\"Batman\", \"Superman\", \"Wolverine\")\n",
    "\n",
    "case class Video(title : String, description : Option[String])\n",
    "\n",
    "def descriptionContainsSuperhero(vid : Video) : Boolean =\n",
    "{\n",
    "   for(w <- vid.description.getOrElse(\"\").split(' '))\n",
    "   {\n",
    "      if(superheroes.contains(w))\n",
    "      {\n",
    "         return true;\n",
    "      }\n",
    "   }\n",
    "   return false;\n",
    "}\n",
    "\n",
    "val videos = sc.cassandraTable[Video](\"killrvideo\", \"videos\")\n",
    "videos.filter(descriptionContainsSuperhero).collect.foreach(record => println(record + \"\\n\")) "
   ]
  },
  {
   "cell_type": "markdown",
   "metadata": {},
   "source": [
    "#### 1. Re-write the above code to make use of broadcast variable(s)."
   ]
  },
  {
   "cell_type": "code",
   "execution_count": 8,
   "metadata": {
    "collapsed": false
   },
   "outputs": [],
   "source": [
    "case class Video(title : String, description : Option[String])\n",
    "def descriptionContainsSuperhero(vid : Video) : Boolean =\n",
    "{\n",
    "   for(w <- vid.description.getOrElse(\"\").split(' '))\n",
    "   {\n",
    "      if(superheroes.contains(w))\n",
    "      {\n",
    "         return true;\n",
    "      }\n",
    "   }\n",
    "   return false;\n",
    "}\n",
    "val superheroes = sc.broadcast(Set(\"Batman\", \"Superman\", \"Wolverine\"))\n",
    "\n",
    "sc.cassandraTable(\"killr_video\", \"videos\")\n",
    "    .filter(descriptionContainsSuperhero)\n",
    "    .foreach(println)"
   ]
  },
  {
   "cell_type": "code",
   "execution_count": null,
   "metadata": {
    "collapsed": true
   },
   "outputs": [],
   "source": []
  }
 ],
 "metadata": {
  "kernelspec": {
   "display_name": "Spark-DSE Cluster",
   "language": "scala",
   "name": "spark-dse-cluster"
  },
  "language_info": {
   "name": "scala"
  }
 },
 "nbformat": 4,
 "nbformat_minor": 0
}
