{
 "cells": [
  {
   "cell_type": "markdown",
   "metadata": {},
   "source": [
    "![DataStax Academy](https://s3.amazonaws.com/datastaxtraining/vq8Jr36Gk48v/datastax-academy.svg \"DataStax Academy\")"
   ]
  },
  {
   "cell_type": "markdown",
   "metadata": {},
   "source": [
    "# Exercise 07.03 - Spark-Cassandra Connector Optimizations: Joining Tables"
   ]
  },
  {
   "cell_type": "markdown",
   "metadata": {},
   "source": [
    "## Background"
   ]
  },
  {
   "cell_type": "markdown",
   "metadata": {},
   "source": [
    "With this exercise, you will be optimizing working Spark code by using the `joinWithCassandraTable` method.\n",
    "\n",
    "You'll be working with the `videos_by_actor` table and the `actor` table:"
   ]
  },
  {
   "cell_type": "raw",
   "metadata": {},
   "source": [
    "CREATE TABLE videos_by_actor (\n",
    "  actor_name TEXT,\n",
    "  release_year INT,\n",
    "  character_name TEXT,\n",
    "  video_id TIMEUUID,\n",
    "  title TEXT,\n",
    "  PRIMARY KEY (actor_name, release_year)\n",
    ") ;\n",
    "\n",
    "\n",
    "CREATE TABLE actor (\n",
    "  actor_name PRIMARY KEY\n",
    ") ;"
   ]
  },
  {
   "cell_type": "markdown",
   "metadata": {},
   "source": [
    "***"
   ]
  },
  {
   "cell_type": "markdown",
   "metadata": {},
   "source": [
    "## Directions"
   ]
  },
  {
   "cell_type": "markdown",
   "metadata": {},
   "source": [
    "Begin by creating a locally initialized list of two actors and parallelize it, or make it an RDD."
   ]
  },
  {
   "cell_type": "code",
   "execution_count": 2,
   "metadata": {
    "collapsed": false
   },
   "outputs": [],
   "source": [
    "case class ActorYear(actor_name: String, release_year: Int)\n",
    "\n",
    "val actors2014 = sc.parallelize(List(ActorYear(\"Johnny Depp\",2014), \n",
    "                                    ActorYear(\"Bruce Willis\",2014)))"
   ]
  },
  {
   "cell_type": "markdown",
   "metadata": {
    "collapsed": false
   },
   "source": [
    "Next join to the `videos by actor` table using the new method `joinWithCassandraTable`. Using this method will automatically join on the partition key by default."
   ]
  },
  {
   "cell_type": "code",
   "execution_count": 3,
   "metadata": {
    "collapsed": false,
    "scrolled": false
   },
   "outputs": [
    {
     "name": "stdout",
     "output_type": "stream",
     "text": [
      "(ActorYear(Bruce Willis,2014),CassandraRow{actor_name: Bruce Willis, release_year: 2003, character_name: William Rose Bailey, title: Tears of the Sun, video_id: ece961ee-a5e2-11e5-af15-a45e60eb67c5})\n",
      "(ActorYear(Bruce Willis,2014),CassandraRow{actor_name: Bruce Willis, release_year: 1991, character_name: James Urbanski, title: Mortal Thoughts, video_id: ecf18d87-a5e2-11e5-b5e6-a45e60eb67c5})\n",
      "(ActorYear(Bruce Willis,2014),CassandraRow{actor_name: Bruce Willis, release_year: 2010, character_name: Mr. Church, title: The Expendables, video_id: ecf38335-a5e2-11e5-a8d5-a45e60eb67c5})\n",
      "(ActorYear(Bruce Willis,2014),CassandraRow{actor_name: Bruce Willis, release_year: 1992, character_name: Dr. Ernest Menville, title: Death Becomes Her, video_id: ece92b66-a5e2-11e5-90e6-a45e60eb67c5})\n",
      "(ActorYear(Bruce Willis,2014),CassandraRow{actor_name: Bruce Willis, release_year: 2013, character_name: John McClane, title: A Good Day to Die Hard, video_id: ecf58f1e-a5e2-11e5-a494-a45e60eb67c5})\n",
      "(ActorYear(Bruce Willis,2014),CassandraRow{actor_name: Bruce Willis, release_year: 1998, character_name: Major-General William Devereaux, title: The Siege, video_id: ece9b497-a5e2-11e5-95a0-a45e60eb67c5})\n",
      "(ActorYear(Johnny Depp,2014),CassandraRow{actor_name: Johnny Depp, release_year: 1995, character_name: William Blake, title: Nick of Time, video_id: ece74d26-a5e2-11e5-b50c-a45e60eb67c5})\n",
      "(ActorYear(Bruce Willis,2014),CassandraRow{actor_name: Bruce Willis, release_year: 1989, character_name: Mikey (voice), title: Look Who's Talking, video_id: ece950b5-a5e2-11e5-a7f3-a45e60eb67c5})\n",
      "(ActorYear(Johnny Depp,2014),CassandraRow{actor_name: Johnny Depp, release_year: 1986, character_name: Private Gator Lerner, title: Platoon, video_id: ece67eca-a5e2-11e5-888e-a45e60eb67c5})\n",
      "(ActorYear(Bruce Willis,2014),CassandraRow{actor_name: Bruce Willis, release_year: 1994, character_name: Narrator, title: Pulp Fiction, video_id: ecf1b97a-a5e2-11e5-9119-a45e60eb67c5})\n"
     ]
    }
   ],
   "source": [
    "actors2014.joinWithCassandraTable(\"killr_video\",\"videos_by_actor\").takeSample(false,10).foreach(println)"
   ]
  },
  {
   "cell_type": "markdown",
   "metadata": {},
   "source": [
    "Now lets change the where condition. We can use the `on` condition, provided we are limiting the result set by a column that is part of the clustering column."
   ]
  },
  {
   "cell_type": "code",
   "execution_count": 7,
   "metadata": {
    "collapsed": false
   },
   "outputs": [
    {
     "name": "stdout",
     "output_type": "stream",
     "text": [
      "(ActorYear(Bruce Willis,2014),CassandraRow{actor_name: Bruce Willis, release_year: 2014, character_name: Omar, title: The Prince, video_id: ed01818c-a5e2-11e5-8efd-a45e60eb67c5})\n",
      "(ActorYear(Johnny Depp,2014),CassandraRow{actor_name: Johnny Depp, release_year: 2014, character_name: Guy Lapointe, title: Tusk, video_id: ed01abe6-a5e2-11e5-89d1-a45e60eb67c5})\n"
     ]
    }
   ],
   "source": [
    "actors2014.joinWithCassandraTable(\"killr_video\",\"videos_by_actor\")\n",
    "    .on(SomeColumns(\"actor_name\", \"release_year\"))\n",
    "    .takeSample(false,10)\n",
    "    .foreach(println)"
   ]
  },
  {
   "cell_type": "markdown",
   "metadata": {},
   "source": [
    "Join two cassandra tables using the `joinWithCassandra` method. You will want to make a point to start with the table with a higher cardinality. In this case there are more videos than there are actors, so we will want to start with the actors table."
   ]
  },
  {
   "cell_type": "code",
   "execution_count": 11,
   "metadata": {
    "collapsed": false
   },
   "outputs": [
    {
     "name": "stdout",
     "output_type": "stream",
     "text": [
      "(CassandraRow{actor_name: Tom Hardy},CassandraRow{actor_name: Tom Hardy, release_year: 2009, character_name: Michaels, title: Thick as Thieves, video_id: eced3f30-a5e2-11e5-abf1-a45e60eb67c5})\n",
      "(CassandraRow{actor_name: Kim Darby},CassandraRow{actor_name: Kim Darby, release_year: 1969, character_name: Mattie Ross, title: True Grit, video_id: ecee2cd7-a5e2-11e5-a5a1-a45e60eb67c5})\n",
      "(CassandraRow{actor_name: Mackenzie Crook},CassandraRow{actor_name: Mackenzie Crook, release_year: 2003, character_name: Ragetti, title: Pirates of the Caribbean: The Curse of the Black Pearl, video_id: ece5c0de-a5e2-11e5-9271-a45e60eb67c5})\n",
      "(CassandraRow{actor_name: John Goodman},CassandraRow{actor_name: John Goodman, release_year: 2009, character_name: Julie 'Baby Feet' Balboni, title: The Princess and the Frog, video_id: ecef014c-a5e2-11e5-a7de-a45e60eb67c5})\n",
      "(CassandraRow{actor_name: Burt Reynolds},CassandraRow{actor_name: Burt Reynolds, release_year: 1976, character_name: Gator McKlusky, title: Gator, video_id: ecef7a47-a5e2-11e5-8388-a45e60eb67c5})\n",
      "(CassandraRow{actor_name: Gerry Bamman},CassandraRow{actor_name: Gerry Bamman, release_year: 1999, character_name: Father John, title: Superstar, video_id: ecec90a8-a5e2-11e5-8ab0-a45e60eb67c5})\n",
      "(CassandraRow{actor_name: Alan Cumming},CassandraRow{actor_name: Alan Cumming, release_year: 2001, character_name: Joe Therrian, title: The Anniversary Party, video_id: ecf094c7-a5e2-11e5-a3fb-a45e60eb67c5})\n",
      "(CassandraRow{actor_name: Kevin Bacon},CassandraRow{actor_name: Kevin Bacon, release_year: 2001, character_name: Actor Lance Phelps, title: Novocaine, video_id: ecef370c-a5e2-11e5-9b51-a45e60eb67c5})\n",
      "(CassandraRow{actor_name: Liv Tyler},CassandraRow{actor_name: Liv Tyler, release_year: 1999, character_name: Emma Duvall, title: Cookie's Fortune, video_id: ece947e1-a5e2-11e5-978e-a45e60eb67c5})\n",
      "(CassandraRow{actor_name: Rashida Jones},CassandraRow{actor_name: Rashida Jones, release_year: 2014, character_name: Julia, title: Cuban Fury, video_id: ed0046b5-a5e2-11e5-ab26-a45e60eb67c5})\n"
     ]
    }
   ],
   "source": [
    "sc.cassandraTable(\"killr_video\", \"actor\")\n",
    "    .joinWithCassandraTable(\"killr_video\",\"videos_by_actor\")\n",
    "    .on(SomeColumns(\"actor_name\"))\n",
    "    .takeSample(false,10)\n",
    "    .foreach(println)"
   ]
  },
  {
   "cell_type": "code",
   "execution_count": null,
   "metadata": {
    "collapsed": true
   },
   "outputs": [],
   "source": []
  }
 ],
 "metadata": {
  "kernelspec": {
   "display_name": "Spark-DSE Cluster",
   "language": "scala",
   "name": "spark-dse-cluster"
  },
  "language_info": {
   "name": "scala"
  }
 },
 "nbformat": 4,
 "nbformat_minor": 0
}
