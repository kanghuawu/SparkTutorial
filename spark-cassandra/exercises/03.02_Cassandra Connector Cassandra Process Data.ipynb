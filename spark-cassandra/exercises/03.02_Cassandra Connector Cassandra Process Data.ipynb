{
 "cells": [
  {
   "cell_type": "markdown",
   "metadata": {},
   "source": [
    "![DataStax Academy](https://s3.amazonaws.com/datastaxtraining/vq8Jr36Gk48v/datastax-academy.svg \"DataStax Academy\")"
   ]
  },
  {
   "cell_type": "markdown",
   "metadata": {},
   "source": [
    "# Exercise 7 - Cassandra Connector: Cassandra Process Data"
   ]
  },
  {
   "cell_type": "markdown",
   "metadata": {},
   "source": [
    "## Background"
   ]
  },
  {
   "cell_type": "markdown",
   "metadata": {},
   "source": [
    "This exercise will take a look at using the Cassandra API to extract values from CassandraRows and to do some processing.\n",
    "\n",
    "You'll be making use of the `videos` table, which again is:"
   ]
  },
  {
   "cell_type": "raw",
   "metadata": {},
   "source": [
    "CREATE TABLE killr_video.videos (\n",
    "   video_id TIMEUUID,\n",
    "   avg_rating FLOAT,\n",
    "   description TEXT,\n",
    "   genres SET<TEXT>,\n",
    "   mpaa_rating TEXT,\n",
    "   release_date TIMESTAMP,\n",
    "   release_year INT,\n",
    "   title TEXT,\n",
    "   user_id UUID,\n",
    "   PRIMARY KEY (video_id)\n",
    ");"
   ]
  },
  {
   "cell_type": "markdown",
   "metadata": {},
   "source": [
    "Since the primary key is the `video_id`, you'll need to do all of your filtering using the Spark API."
   ]
  },
  {
   "cell_type": "markdown",
   "metadata": {},
   "source": [
    "***"
   ]
  },
  {
   "cell_type": "markdown",
   "metadata": {},
   "source": [
    "## Directions"
   ]
  },
  {
   "cell_type": "markdown",
   "metadata": {},
   "source": [
    "#### 1. Pull all of the movies from the `videos` table in the Animation genre and from the year 2014, and then have it display as:"
   ]
  },
  {
   "cell_type": "raw",
   "metadata": {},
   "source": [
    "Title: The Lego Movie                Year: 2014\n",
    "Title: How to Train Your Dragon 2    Year: 2014\n",
    "Title: The Book of Life              Year: 2014\n",
    ".\n",
    ".\n",
    "."
   ]
  },
  {
   "cell_type": "code",
   "execution_count": 8,
   "metadata": {
    "collapsed": false
   },
   "outputs": [
    {
     "name": "stdout",
     "output_type": "stream",
     "text": [
      "Title: Penguins of Madagascar Year: 2014\n",
      "Title: The Boxtrolls Year: 2014\n",
      "Title: The Lego Movie Year: 2014\n",
      "Title: Big Hero 6 Year: 2014\n",
      "Title: How to Train Your Dragon 2 Year: 2014\n",
      "Title: The Book of Life Year: 2014\n"
     ]
    }
   ],
   "source": [
    "sc.cassandraTable(\"killr_video\", \"videos\")\n",
    "    .select(\"title\",\"genres\",\"release_year\")\n",
    "    .filter(row => row.getInt(\"release_year\") == 2014 && row.getList[String](\"genres\").contains(\"Animation\"))\n",
    "    .collect\n",
    "    .foreach(row => println(\"Title: %s Year: %d\".format(row.getString(\"title\"), row.getInt(\"release_year\"))))"
   ]
  },
  {
   "cell_type": "markdown",
   "metadata": {},
   "source": [
    "#### 2. Using the `mpaa_rating` from the `videos` table, find the percentage of movies that are rated G, PG, PG-13, R, and NR."
   ]
  },
  {
   "cell_type": "code",
   "execution_count": 13,
   "metadata": {
    "collapsed": false
   },
   "outputs": [
    {
     "name": "stdout",
     "output_type": "stream",
     "text": [
      "(G,292)\n",
      "(PG-13,1907)\n",
      "(R,3678)\n",
      "(NR,374)\n",
      "(PG,1188)\n"
     ]
    }
   ],
   "source": [
    "sc.cassandraTable(\"killr_video\", \"videos\")\n",
    "    .select(\"mpaa_rating\")\n",
    "    .map(row => (row.getString(\"mpaa_rating\"), 1))\n",
    "    .reduceByKey{case (x, y) => x + y}\n",
    "    .collect\n",
    "    .foreach(println)"
   ]
  },
  {
   "cell_type": "code",
   "execution_count": null,
   "metadata": {
    "collapsed": true
   },
   "outputs": [],
   "source": []
  }
 ],
 "metadata": {
  "kernelspec": {
   "display_name": "Spark-DSE Cluster",
   "language": "scala",
   "name": "spark-dse-cluster"
  },
  "language_info": {
   "name": "scala"
  }
 },
 "nbformat": 4,
 "nbformat_minor": 0
}
