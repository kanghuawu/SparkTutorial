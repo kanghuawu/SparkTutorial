{
 "cells": [
  {
   "cell_type": "markdown",
   "metadata": {},
   "source": [
    "![DataStax Academy](https://s3.amazonaws.com/datastaxtraining/vq8Jr36Gk48v/datastax-academy.svg \"DataStax Academy\")"
   ]
  },
  {
   "cell_type": "markdown",
   "metadata": {},
   "source": [
    "# Exercise 17 - Key-Value Pairs: Pair RDD Set Operations"
   ]
  },
  {
   "cell_type": "markdown",
   "metadata": {},
   "source": [
    "## Background"
   ]
  },
  {
   "cell_type": "markdown",
   "metadata": {},
   "source": [
    "In this exercise, we'll be working with pair RDDs using key-based set operations to implement some queries.\n",
    "\n",
    "Data will be from the Cassandra `videos` table:"
   ]
  },
  {
   "cell_type": "raw",
   "metadata": {},
   "source": [
    "CREATE TABLE killr_video.videos (\n",
    "    video_id TIMEUUID,\n",
    "    avg_rating FLOAT,\n",
    "    description TEXT,\n",
    "    genres SET<TEXT>,\n",
    "    mpaa_rating TEXT,\n",
    "    release_date TIMESTAMP,\n",
    "    release_year INT,\n",
    "    title TEXT,\n",
    "    user_id UUID,\n",
    "    PRIMARY KEY (video_id)\n",
    ");"
   ]
  },
  {
   "cell_type": "markdown",
   "metadata": {},
   "source": [
    "and the `videos_by_tag` table:"
   ]
  },
  {
   "cell_type": "raw",
   "metadata": {},
   "source": [
    "CREATE TABLE killr_video.videos_by_tag (\n",
    "    tag TEXT,\n",
    "    title TEXT,\n",
    "    video_id TIMEUUID,\n",
    "    avg_rating FLOAT,\n",
    "    description TEXT,\n",
    "    genres SET<TEXT>,\n",
    "    mpaa_rating TEXT,\n",
    "    release_date TIMESTAMP,\n",
    "    release_year INT,\n",
    "    user_id UUID,\n",
    "    PRIMARY KEY (tag, title, video_id)\n",
    ");"
   ]
  },
  {
   "cell_type": "markdown",
   "metadata": {},
   "source": [
    "Note: There are some columns which may have a null value: `avg_rating` and `description`. Be sure to use the `Option[]` data type for those columns.\n",
    "\n",
    "Keep in mind that there is a 1-n relationship between the `videos` table and the `videos_by_tag` table, i.e. there are multiple instances of the same video in `videos_by_tag`. "
   ]
  },
  {
   "cell_type": "markdown",
   "metadata": {},
   "source": [
    "***"
   ]
  },
  {
   "cell_type": "markdown",
   "metadata": {},
   "source": [
    "## Directions"
   ]
  },
  {
   "cell_type": "markdown",
   "metadata": {},
   "source": [
    "#### 1. Use a pair RDD set operation to find the count of videos that do not have a tag. "
   ]
  },
  {
   "cell_type": "code",
   "execution_count": 8,
   "metadata": {
    "collapsed": false
   },
   "outputs": [
    {
     "name": "stdout",
     "output_type": "stream",
     "text": [
      "4359\n"
     ]
    }
   ],
   "source": [
    "val video = sc.cassandraTable[(java.util.UUID, String)](\"killr_video\", \"videos\")\n",
    "    .select(\"video_id\", \"title\")\n",
    "\n",
    "val videoByTag = sc.cassandraTable[(java.util.UUID, String)](\"killr_video\", \"videos_by_tag\")\n",
    "    .select(\"video_id\", \"title\")\n",
    "\n",
    "val count = video.subtractByKey(videoByTag)\n",
    "    .count\n",
    "\n",
    "println(count)"
   ]
  },
  {
   "cell_type": "markdown",
   "metadata": {},
   "source": [
    "#### 2. Write another query that finds videos that are tagged but do not exist in the `videos` table."
   ]
  },
  {
   "cell_type": "code",
   "execution_count": 9,
   "metadata": {
    "collapsed": false
   },
   "outputs": [
    {
     "name": "stdout",
     "output_type": "stream",
     "text": [
      "0\n"
     ]
    }
   ],
   "source": [
    "println(videoByTag.subtractByKey(video).count)"
   ]
  },
  {
   "cell_type": "markdown",
   "metadata": {},
   "source": [
    "In this case, there are actually no tagged videos that do not exist in the `videos` tables."
   ]
  }
 ],
 "metadata": {
  "kernelspec": {
   "display_name": "Spark-DSE Cluster",
   "language": "scala",
   "name": "spark-dse-cluster"
  },
  "language_info": {
   "name": "scala"
  }
 },
 "nbformat": 4,
 "nbformat_minor": 0
}
