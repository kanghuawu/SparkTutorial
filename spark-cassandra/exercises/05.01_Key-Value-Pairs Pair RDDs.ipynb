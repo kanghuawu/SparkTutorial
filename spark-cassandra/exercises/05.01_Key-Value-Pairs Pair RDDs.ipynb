{
 "cells": [
  {
   "cell_type": "markdown",
   "metadata": {},
   "source": [
    "![DataStax Academy](https://s3.amazonaws.com/datastaxtraining/vq8Jr36Gk48v/datastax-academy.svg \"DataStax Academy\")"
   ]
  },
  {
   "cell_type": "markdown",
   "metadata": {},
   "source": [
    "# Exercise 05.01 - Key-Value Pairs: Pair RDDs"
   ]
  },
  {
   "cell_type": "markdown",
   "metadata": {},
   "source": [
    "## Background"
   ]
  },
  {
   "cell_type": "markdown",
   "metadata": {},
   "source": [
    "Here you will be working with pair RDDs using the `mapValues()` method.\n",
    "\n",
    "Data will be from the Cassandra `videos` table with the following definition:"
   ]
  },
  {
   "cell_type": "raw",
   "metadata": {},
   "source": [
    "CREATE TABLE killr_video.videos (\n",
    "    video_id TIMEUUID,\n",
    "    avg_rating FLOAT,\n",
    "    description TEXT,\n",
    "    genres SET<TEXT>,\n",
    "    mpaa_rating TEXT,\n",
    "    release_date TIMESTAMP,\n",
    "    release_year INT,\n",
    "    title TEXT,\n",
    "    user_id UUID,\n",
    "    PRIMARY KEY (video_id)\n",
    ");"
   ]
  },
  {
   "cell_type": "markdown",
   "metadata": {},
   "source": [
    "Note: There are some columns which may have a null value: `avg_rating` and `description`. Be sure to use the `Option[]` data type for those columns."
   ]
  },
  {
   "cell_type": "markdown",
   "metadata": {},
   "source": [
    "***"
   ]
  },
  {
   "cell_type": "markdown",
   "metadata": {},
   "source": [
    "## Directions"
   ]
  },
  {
   "cell_type": "markdown",
   "metadata": {},
   "source": [
    "Below follows some code that retrieves pair RDDs which map the `video_id` to abbreviated titles. Optimize it using the `mapValues()`."
   ]
  },
  {
   "cell_type": "raw",
   "metadata": {
    "collapsed": false
   },
   "source": [
    "val maxLength = 10\n",
    "val videos = sc.cassandraTable[(java.util.UUID, String)](\"killr_video\", \"videos\").select(\"video_id\", \"title\")\n",
    "\n",
    "videos.map(record => (\n",
    "                        record._1,\n",
    "                        if(record._2.length < maxLength)\n",
    "                           record._2 \n",
    "                        else\n",
    "                           record._2.substring(0, maxLength)\n",
    "                     )\n",
    "          ).collect.foreach(println)"
   ]
  },
  {
   "cell_type": "markdown",
   "metadata": {},
   "source": [
    "#### 1. Optimize the above code using `mapValues()`."
   ]
  },
  {
   "cell_type": "code",
   "execution_count": 3,
   "metadata": {
    "collapsed": false
   },
   "outputs": [
    {
     "name": "stdout",
     "output_type": "stream",
     "text": [
      "(ece8de8f-a5e2-11e5-ba92-a45e60eb67c5,Green Stre)\n",
      "(ecf288d1-a5e2-11e5-a020-a45e60eb67c5,Paulie)\n",
      "(ece73c02-a5e2-11e5-afb0-a45e60eb67c5,Sister Act)\n",
      "(ece77fe6-a5e2-11e5-ba79-a45e60eb67c5,Short Circ)\n",
      "(eceb8257-a5e2-11e5-a7af-a45e60eb67c5,Jabberwock)\n",
      "(ecf5adbd-a5e2-11e5-b077-a45e60eb67c5,London Bou)\n",
      "(ecf1210f-a5e2-11e5-9209-a45e60eb67c5,Theatre of)\n",
      "(ecec23e8-a5e2-11e5-99da-a45e60eb67c5,Return to )\n",
      "(ecefae51-a5e2-11e5-90c0-a45e60eb67c5,Ninja Assa)\n",
      "(ecf1689e-a5e2-11e5-9417-a45e60eb67c5,Cobb)\n"
     ]
    }
   ],
   "source": [
    "val maxLength = 10\n",
    "val videos = sc.cassandraTable[(java.util.UUID, String)](\"killr_video\", \"videos\").select(\"video_id\", \"title\")\n",
    "\n",
    "videos.mapValues(record => if(record.length < maxLength) record else record.substring(0, maxLength))\n",
    "    .take(10).foreach(println)"
   ]
  },
  {
   "cell_type": "code",
   "execution_count": null,
   "metadata": {
    "collapsed": true
   },
   "outputs": [],
   "source": []
  }
 ],
 "metadata": {
  "kernelspec": {
   "display_name": "Spark-DSE Cluster",
   "language": "scala",
   "name": "spark-dse-cluster"
  },
  "language_info": {
   "name": "scala"
  }
 },
 "nbformat": 4,
 "nbformat_minor": 0
}
