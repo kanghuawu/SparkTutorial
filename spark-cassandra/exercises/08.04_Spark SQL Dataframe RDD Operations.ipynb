{
 "cells": [
  {
   "cell_type": "markdown",
   "metadata": {},
   "source": [
    "![DataStax Academy](https://s3.amazonaws.com/datastaxtraining/vq8Jr36Gk48v/datastax-academy.svg \"DataStax Academy\")"
   ]
  },
  {
   "cell_type": "markdown",
   "metadata": {},
   "source": [
    "# Exercise 08.04 - Spark SQL: RDD Operations on Dataframes"
   ]
  },
  {
   "cell_type": "markdown",
   "metadata": {},
   "source": [
    "## Background"
   ]
  },
  {
   "cell_type": "markdown",
   "metadata": {},
   "source": [
    "We will be working with the `coalesce` method which is RDD like in nature."
   ]
  },
  {
   "cell_type": "raw",
   "metadata": {},
   "source": [
    "CREATE TABLE killr_video.videos_by_actor (\n",
    "    actor_name text,\n",
    "    release_year int,\n",
    "    character_name text,\n",
    "    title text,\n",
    "    video_id timeuuid,\n",
    "    PRIMARY KEY (actor_name, release_year)\n",
    ")"
   ]
  },
  {
   "cell_type": "markdown",
   "metadata": {},
   "source": [
    "***"
   ]
  },
  {
   "cell_type": "markdown",
   "metadata": {},
   "source": [
    "## Directions"
   ]
  },
  {
   "cell_type": "markdown",
   "metadata": {},
   "source": [
    "Use the `coalesce` method to save the results of the query where the actor name is Johnny Depp on one partition. Cache the results and then select the count and show the results."
   ]
  },
  {
   "cell_type": "code",
   "execution_count": 3,
   "metadata": {
    "collapsed": false
   },
   "outputs": [
    {
     "name": "stdout",
     "output_type": "stream",
     "text": [
      "26\n",
      "+--------------------+------------+\n",
      "|               title|release_year|\n",
      "+--------------------+------------+\n",
      "|A Nightmare on El...|        1984|\n",
      "|      Private Resort|        1985|\n",
      "|             Platoon|        1986|\n",
      "| Edward Scissorhands|        1990|\n",
      "+--------------------+------------+\n",
      "\n",
      "()\n"
     ]
    }
   ],
   "source": [
    "val movies = sqlContext\n",
    "    .sql(\"SELECT title, release_year FROM killr_video.videos_by_actor WHERE actor_name = 'Johnny Depp'\")\n",
    "    .coalesce(1)\n",
    "\n",
    "println(movies.count())\n",
    "println(movies.show(4))"
   ]
  },
  {
   "cell_type": "code",
   "execution_count": null,
   "metadata": {
    "collapsed": true
   },
   "outputs": [],
   "source": []
  }
 ],
 "metadata": {
  "kernelspec": {
   "display_name": "Spark-DSE Cluster",
   "language": "scala",
   "name": "spark-dse-cluster"
  },
  "language_info": {
   "name": "scala"
  }
 },
 "nbformat": 4,
 "nbformat_minor": 0
}
