{
 "cells": [
  {
   "cell_type": "markdown",
   "metadata": {},
   "source": [
    "![DataStax Academy](https://s3.amazonaws.com/datastaxtraining/vq8Jr36Gk48v/datastax-academy.svg \"DataStax Academy\")"
   ]
  },
  {
   "cell_type": "markdown",
   "metadata": {},
   "source": [
    "# Exercise 08.05 - Spark SQL: Dataframe Language Integrated"
   ]
  },
  {
   "cell_type": "markdown",
   "metadata": {},
   "source": [
    "## Background"
   ]
  },
  {
   "cell_type": "markdown",
   "metadata": {},
   "source": [
    "We will be expressing several language-integrated queries."
   ]
  },
  {
   "cell_type": "raw",
   "metadata": {},
   "source": [
    "CREATE TABLE videos_by_actor (\n",
    "  actor_name TEXT,\n",
    "  release_year INT,\n",
    "  character_name TEXT,\n",
    "  video_id TIMEUUID,\n",
    "  title TEXT,\n",
    "  PRIMARY KEY (actor_name, release_year)\n",
    ") ;"
   ]
  },
  {
   "cell_type": "markdown",
   "metadata": {},
   "source": [
    "***"
   ]
  },
  {
   "cell_type": "markdown",
   "metadata": {},
   "source": [
    "## Directions"
   ]
  },
  {
   "cell_type": "markdown",
   "metadata": {},
   "source": [
    "Let's begin by creating a dataframe based on the data from `videos_by_actor` table."
   ]
  },
  {
   "cell_type": "code",
   "execution_count": 3,
   "metadata": {
    "collapsed": false
   },
   "outputs": [],
   "source": [
    "val df = sqlContext.read\n",
    "    .format(\"org.apache.spark.sql.cassandra\")\n",
    "    .options(Map(\"keyspace\" -> \"killr_video\", \"table\" -> \"videos_by_actor\"))\n",
    "    .load()"
   ]
  },
  {
   "cell_type": "markdown",
   "metadata": {},
   "source": [
    "Now let's use several of the  methods available to us and limit the results to number of movies, by release year where Johnny Depp is an actor."
   ]
  },
  {
   "cell_type": "code",
   "execution_count": 17,
   "metadata": {
    "collapsed": false,
    "scrolled": true
   },
   "outputs": [
    {
     "name": "stdout",
     "output_type": "stream",
     "text": [
      "\r",
      "                                                                                \r",
      "+------------+------------+\n",
      "|release_year|total_movies|\n",
      "+------------+------------+\n",
      "|        1984|           1|\n",
      "|        1985|           1|\n",
      "|        1986|           1|\n",
      "|        1990|           1|\n",
      "|        1991|           1|\n",
      "|        1993|           1|\n",
      "|        1992|           1|\n",
      "|        1995|           1|\n",
      "|        1994|           1|\n",
      "|        1999|           1|\n",
      "+------------+------------+\n",
      "\n"
     ]
    }
   ],
   "source": [
    "import org.apache.spark.sql.functions._\n",
    "import sqlContext.implicits._ \n",
    "\n",
    "df.filter(\"actor_name = 'Johnny Depp'\")\n",
    "    .groupBy(\"release_year\")\n",
    "    .agg(Map(\"*\" -> \"count\"))\n",
    "    .withColumnRenamed(\"COUNT(1)\", \"total_movies\")\n",
    "    .select(\"release_year\", \"total_movies\")\n",
    "    .orderBy(desc(\"total_movies\"))\n",
    "    .show(10)"
   ]
  },
  {
   "cell_type": "code",
   "execution_count": null,
   "metadata": {
    "collapsed": true
   },
   "outputs": [],
   "source": []
  }
 ],
 "metadata": {
  "kernelspec": {
   "display_name": "Spark-DSE Cluster",
   "language": "scala",
   "name": "spark-dse-cluster"
  },
  "language_info": {
   "name": "scala"
  }
 },
 "nbformat": 4,
 "nbformat_minor": 0
}
