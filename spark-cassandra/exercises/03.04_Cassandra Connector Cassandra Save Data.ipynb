{
 "cells": [
  {
   "cell_type": "markdown",
   "metadata": {},
   "source": [
    "![DataStax Academy](https://s3.amazonaws.com/datastaxtraining/vq8Jr36Gk48v/datastax-academy.svg \"DataStax Academy\")"
   ]
  },
  {
   "cell_type": "markdown",
   "metadata": {},
   "source": [
    "# Exercise 03.04 - Cassandra Connector: Cassandra Save Data"
   ]
  },
  {
   "cell_type": "markdown",
   "metadata": {},
   "source": [
    "## Background"
   ]
  },
  {
   "cell_type": "markdown",
   "metadata": {},
   "source": [
    "This exercise will take a look at processing data and saving it back into Cassandra. Data will be from a Cassandra table with the following definition:"
   ]
  },
  {
   "cell_type": "raw",
   "metadata": {},
   "source": [
    "CREATE TABLE killr_video.videos_by_year_title (\n",
    "    added_year INT,\n",
    "    title TEXT,\n",
    "    video_id TIMEUUID,\n",
    "    added_date TIMESTAMP,\n",
    "    avg_rating FLOAT,\n",
    "    description TEXT,\n",
    "    user_id UUID,\n",
    "    PRIMARY KEY (added_year, title, video_id)\n",
    ");"
   ]
  },
  {
   "cell_type": "markdown",
   "metadata": {},
   "source": [
    "Note: There are some columns which may have a null value: `avg_rating` and `description`. Be sure to use the `Option[]` data type for those columns."
   ]
  },
  {
   "cell_type": "markdown",
   "metadata": {},
   "source": [
    "***"
   ]
  },
  {
   "cell_type": "markdown",
   "metadata": {},
   "source": [
    "## Directions"
   ]
  },
  {
   "cell_type": "markdown",
   "metadata": {},
   "source": [
    "#### 1. Create an RDD for videos in the `videos_by_year_title` table from 2014."
   ]
  },
  {
   "cell_type": "code",
   "execution_count": 2,
   "metadata": {
    "collapsed": false
   },
   "outputs": [],
   "source": [
    "case class Video (\n",
    "    added_year: Int,\n",
    "    title: String,\n",
    "    video_id: java.util.UUID,\n",
    "    added_date: java.util.Date,\n",
    "    avg_rating: Option[Float],\n",
    "    description: Option[String],\n",
    "    user_id: java.util.UUID\n",
    ")\n",
    "val video = sc.cassandraTable[Video](\"killr_video\", \"videos_by_year_title\")\n",
    "    .where(\"added_year = 2014\")"
   ]
  },
  {
   "cell_type": "markdown",
   "metadata": {},
   "source": [
    "#### 2. Filter the RDD to select videos that have an average user rating of 4 or lower, and count the number of videos."
   ]
  },
  {
   "cell_type": "code",
   "execution_count": 3,
   "metadata": {
    "collapsed": false
   },
   "outputs": [
    {
     "name": "stdout",
     "output_type": "stream",
     "text": [
      "9\n"
     ]
    }
   ],
   "source": [
    "val videoLowRating = video.filter(video => video.avg_rating.isDefined && video.avg_rating.get <= 4)\n",
    "val videoLowRatingCount = videoLowRating.count\n",
    "println(videoLowRatingCount)"
   ]
  },
  {
   "cell_type": "markdown",
   "metadata": {},
   "source": [
    "#### 3. Save the resulting RDD into a new Cassandra table, `worst_2014_videos`, using the `saveAsCassandraTable` action in the `killr_video` keyspace."
   ]
  },
  {
   "cell_type": "code",
   "execution_count": 4,
   "metadata": {
    "collapsed": false
   },
   "outputs": [],
   "source": [
    "videoLowRating.saveAsCassandraTable(\"killr_video\", \"worst_2014_videos\", SomeColumns(\"added_year\", \n",
    "                                                                                    \"title\",\n",
    "                                                                                   \"video_id\",\n",
    "                                                                                   \"added_date\",\n",
    "                                                                                   \"avg_rating\",\n",
    "                                                                                   \"description\",\n",
    "                                                                                   \"user_id\"))"
   ]
  },
  {
   "cell_type": "markdown",
   "metadata": {},
   "source": [
    "You will need to drop the table, if it exists, before your above code can run. "
   ]
  },
  {
   "cell_type": "markdown",
   "metadata": {},
   "source": [
    "#### 4. Take a look at the schema of the table that was created."
   ]
  },
  {
   "cell_type": "markdown",
   "metadata": {},
   "source": [
    "The kernel that we're using for Jupyter has a special feature to be able to view a table schema using the syntax %%showschema [keyspace][.table]."
   ]
  },
  {
   "cell_type": "code",
   "execution_count": 5,
   "metadata": {
    "collapsed": false
   },
   "outputs": [
    {
     "data": {
      "text/html": [
       "<b>killr_video.worst_2014_videos</b><table><tr><td>added_year</td><td>IntType</td><td>partition key</td></tr><tr><td>added_date</td><td>TimestampType</td><td></td></tr><tr><td>avg_rating</td><td>FloatType</td><td></td></tr><tr><td>description</td><td>VarCharType</td><td></td></tr><tr><td>title</td><td>VarCharType</td><td></td></tr><tr><td>user_id</td><td>UUIDType</td><td></td></tr><tr><td>video_id</td><td>UUIDType</td><td></td></tr></table>"
      ]
     },
     "execution_count": 5,
     "metadata": {},
     "output_type": "execute_result"
    }
   ],
   "source": [
    "%%showschema killr_video.worst_2014_videos"
   ]
  },
  {
   "cell_type": "markdown",
   "metadata": {},
   "source": [
    "#### 5. Try to read all of the rows from the newly created table, selecting the title, added year, and average rating."
   ]
  },
  {
   "cell_type": "code",
   "execution_count": 6,
   "metadata": {
    "collapsed": false
   },
   "outputs": [
    {
     "name": "stdout",
     "output_type": "stream",
     "text": [
      "1\n"
     ]
    }
   ],
   "source": [
    "val worstVideo = sc.cassandraTable(\"killr_video\", \"worst_2014_videos\")\n",
    "    .select(\"title\", \"added_year\", \"avg_rating\")\n",
    "println(worstVideo.count)"
   ]
  },
  {
   "cell_type": "markdown",
   "metadata": {},
   "source": [
    "How many videos were returned? Is this the count that you had prior to saving to the new table?\n",
    "\n",
    "Spark is able to infer the schema, create a new table, and load the table with the contents of the RDD. However only the first column is used as the primary key, which may not be how you'd want to define it."
   ]
  },
  {
   "cell_type": "markdown",
   "metadata": {},
   "source": [
    "#### 6. Save the earlier filtered RDD to Cassandra in a new table `worst_2014_videos_ex`, this time using the `saveAsCassandraTableEx` action. Define the table so that data is partitioned by the title, and sorted by added year."
   ]
  },
  {
   "cell_type": "code",
   "execution_count": 7,
   "metadata": {
    "collapsed": false
   },
   "outputs": [],
   "source": [
    "import com.datastax.spark.connector.cql._;\n",
    "import com.datastax.spark.connector.types._;\n",
    "\n",
    "case class ReOrderVideo (\n",
    "    title: String,\n",
    "    added_year: Int,\n",
    "    video_id: java.util.UUID,\n",
    "    added_date: java.util.Date,\n",
    "    avg_rating: Option[Float],\n",
    "    description: Option[String],\n",
    "    user_id: java.util.UUID\n",
    ")\n",
    "\n",
    "val tableDef = TableDef(\"killr_video\", \"worst_2014_videos_ex\",\n",
    "                        Seq(new ColumnDef(\"title\", PartitionKeyColumn, TextType)),\n",
    "                       Seq(new ColumnDef(\"added_year\", ClusteringColumn(0), IntType)),\n",
    "                       Seq(new ColumnDef(\"video_id\", RegularColumn, UUIDType),\n",
    "                           new ColumnDef(\"added_date\", RegularColumn, TimestampType),\n",
    "                           new ColumnDef(\"avg_rating\", RegularColumn, FloatType),\n",
    "                           new ColumnDef(\"description\", RegularColumn, TextType),\n",
    "                           new ColumnDef(\"user_id\", RegularColumn, UUIDType)))\n",
    "\n",
    "videoLowRating.map(v => new ReOrderVideo(v.title, \n",
    "                                         v.added_year, \n",
    "                                         v.video_id, \n",
    "                                         v.added_date, \n",
    "                                         v.avg_rating, \n",
    "                                         v.description, \n",
    "                                         v.user_id))\n",
    "    .saveAsCassandraTableEx(tableDef)"
   ]
  },
  {
   "cell_type": "markdown",
   "metadata": {},
   "source": [
    "#### 7. Check the schema of this new table."
   ]
  },
  {
   "cell_type": "code",
   "execution_count": 9,
   "metadata": {
    "collapsed": false
   },
   "outputs": [
    {
     "data": {
      "text/html": [
       "<b>killr_video.worst_2014_videos_ex</b><table><tr><td>title</td><td>VarCharType</td><td>partition key</td></tr><tr><td>added_year</td><td>IntType</td><td>cluster key 0</td></tr><tr><td>added_date</td><td>TimestampType</td><td></td></tr><tr><td>avg_rating</td><td>FloatType</td><td></td></tr><tr><td>description</td><td>VarCharType</td><td></td></tr><tr><td>user_id</td><td>UUIDType</td><td></td></tr><tr><td>video_id</td><td>UUIDType</td><td></td></tr></table>"
      ]
     },
     "execution_count": 9,
     "metadata": {},
     "output_type": "execute_result"
    }
   ],
   "source": [
    "%%showschema killr_video.worst_2014_videos_ex"
   ]
  },
  {
   "cell_type": "markdown",
   "metadata": {},
   "source": [
    "#### 8. Read all of the rows from the new table, selecting the title, added year, and average rating."
   ]
  },
  {
   "cell_type": "code",
   "execution_count": 11,
   "metadata": {
    "collapsed": false
   },
   "outputs": [
    {
     "name": "stdout",
     "output_type": "stream",
     "text": [
      "CassandraRow{title: Leprechaun: Origins, added_year: 2014, avg_rating: 4.0}\n",
      "CassandraRow{title: Jinn, added_year: 2014, avg_rating: 4.0}\n",
      "CassandraRow{title: Left Behind, added_year: 2014, avg_rating: 3.8}\n",
      "CassandraRow{title: Monsters: Dark Continent, added_year: 2014, avg_rating: 3.8}\n",
      "CassandraRow{title: Hercules Reborn, added_year: 2014, avg_rating: 3.9}\n",
      "CassandraRow{title: Cymbeline, added_year: 2014, avg_rating: 3.6}\n",
      "CassandraRow{title: Lap Dance, added_year: 2014, avg_rating: 3.6}\n",
      "CassandraRow{title: Sinbad: The Fifth Voyage, added_year: 2014, avg_rating: 3.8}\n",
      "CassandraRow{title: Alien Outpost, added_year: 2014, avg_rating: 3.9}\n"
     ]
    }
   ],
   "source": [
    "sc.cassandraTable(\"killr_video\", \"worst_2014_videos_ex\")\n",
    "    .select(\"title\", \"added_year\", \"avg_rating\")\n",
    "    .collect\n",
    "    .foreach(println)"
   ]
  }
 ],
 "metadata": {
  "kernelspec": {
   "display_name": "Spark-DSE Cluster",
   "language": "scala",
   "name": "spark-dse-cluster"
  },
  "language_info": {
   "name": "scala"
  }
 },
 "nbformat": 4,
 "nbformat_minor": 0
}
