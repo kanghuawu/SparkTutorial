{
 "cells": [
  {
   "cell_type": "markdown",
   "metadata": {},
   "source": [
    "![DataStax Academy](https://s3.amazonaws.com/datastaxtraining/vq8Jr36Gk48v/datastax-academy.svg \"DataStax Academy\")"
   ]
  },
  {
   "cell_type": "markdown",
   "metadata": {},
   "source": [
    "# Exercise 05.03 - Key-Value Pairs: Grouping-Sorting"
   ]
  },
  {
   "cell_type": "markdown",
   "metadata": {},
   "source": [
    "## Background"
   ]
  },
  {
   "cell_type": "markdown",
   "metadata": {},
   "source": [
    "This exercise will have you practicing grouping and sorting a dataset.\n",
    "\n",
    "Data will be from the Cassandra `videos_by_tag` table with the following definition:"
   ]
  },
  {
   "cell_type": "raw",
   "metadata": {},
   "source": [
    "CREATE TABLE killr_video.videos_by_tag (\n",
    "    tag TEXT,\n",
    "    title TEXT,\n",
    "    video_id TIMEUUID,\n",
    "    avg_rating FLOAT,\n",
    "    description TEXT,\n",
    "    genres SET<TEXT>,\n",
    "    mpaa_rating TEXT,\n",
    "    release_date TIMESTAMP,\n",
    "    release_year INT,\n",
    "    user_id UUID,\n",
    "    PRIMARY KEY (tag, title, video_id)\n",
    ");"
   ]
  },
  {
   "cell_type": "markdown",
   "metadata": {},
   "source": [
    "Note: There are some columns which may have a null value: `avg_rating` and `description`. Be sure to use the `Option[]` data type for those columns."
   ]
  },
  {
   "cell_type": "markdown",
   "metadata": {},
   "source": [
    "***"
   ]
  },
  {
   "cell_type": "markdown",
   "metadata": {},
   "source": [
    "## Directions"
   ]
  },
  {
   "cell_type": "markdown",
   "metadata": {},
   "source": [
    "#### 1. Query the `videos_by_tag` table grouping the records into groups of (tag, year), storing the title of the videos within the group. Display at least one result."
   ]
  },
  {
   "cell_type": "code",
   "execution_count": 3,
   "metadata": {
    "collapsed": false
   },
   "outputs": [
    {
     "name": "stdout",
     "output_type": "stream",
     "text": [
      "((high tech,1996),CompactBuffer(Independence Day))\n",
      "((contractor,1989),CompactBuffer(Loverboy))\n",
      "((plant in title,2011),CompactBuffer(The Best Exotic Marigold Hotel))\n",
      "((best friends,2004),CompactBuffer(Envy))\n",
      "((president elections,2008),CompactBuffer(Swing Vote))\n",
      "((yacht,2013),CompactBuffer(All Is Lost))\n",
      "((fear of eating,1990),CompactBuffer(Troll 2))\n",
      "((prison,1958),CompactBuffer(The Defiant Ones))\n",
      "((menace,1988),CompactBuffer(Gorillas in the Mist))\n",
      "((crusade,2006),CompactBuffer(Crusade in Jeans))\n"
     ]
    }
   ],
   "source": [
    "sc.cassandraTable[(String, Int, String)](\"killr_video\", \"videos_by_tag\")\n",
    "    .select(\"tag\", \"release_year\", \"title\")\n",
    "    .map(tu => ((tu._1, tu._2), tu._3))\n",
    "    .groupByKey()\n",
    "    .take(10)\n",
    "    .foreach(println)"
   ]
  },
  {
   "cell_type": "markdown",
   "metadata": {},
   "source": [
    "#### 2. Write a variation of the previous query to count the number of items in each group."
   ]
  },
  {
   "cell_type": "code",
   "execution_count": 6,
   "metadata": {
    "collapsed": false
   },
   "outputs": [
    {
     "name": "stdout",
     "output_type": "stream",
     "text": [
      "((high tech,1996),1)\n",
      "((contractor,1989),1)\n",
      "((plant in title,2011),1)\n",
      "((best friends,2004),1)\n",
      "((president elections,2008),1)\n",
      "((yacht,2013),1)\n",
      "((fear of eating,1990),1)\n",
      "((prison,1958),1)\n",
      "((immigrant,2004),1)\n",
      "((menace,1988),1)\n"
     ]
    }
   ],
   "source": [
    "sc.cassandraTable[(String, Int)](\"killr_video\", \"videos_by_tag\")\n",
    "    .select(\"tag\", \"release_year\")\n",
    "    .map(tu => ((tu._1, tu._2), 1))\n",
    "    .reduceByKey(_ + _)\n",
    "    .take(10)\n",
    "    .foreach(println)"
   ]
  },
  {
   "cell_type": "markdown",
   "metadata": {},
   "source": [
    "#### 3. Sort the results of your previous query to list the groups with the highest number of videos first."
   ]
  },
  {
   "cell_type": "code",
   "execution_count": 8,
   "metadata": {
    "collapsed": false
   },
   "outputs": [
    {
     "name": "stdout",
     "output_type": "stream",
     "text": [
      "((überwachung,2007),1)\n",
      "((Überheblichkeit,2005),1)\n",
      "((Ärzte,2006),1)\n",
      "((Ärzte,2004),1)\n",
      "((Ärzte,2002),1)\n",
      "((Ärzte,1998),1)\n",
      "((Ärzte,1992),1)\n",
      "((Ärzte,1987),1)\n",
      "((Ärger,2005),2)\n",
      "((Ähnlichkeit,2004),1)\n"
     ]
    }
   ],
   "source": [
    "sc.cassandraTable[(String, Int)](\"killr_video\", \"videos_by_tag\")\n",
    "    .select(\"tag\", \"release_year\")\n",
    "    .map(tu => ((tu._1, tu._2), 1))\n",
    "    .reduceByKey(_ + _)\n",
    "    .map(tu => (tu._2, tu._1))\n",
    "    .sortByKey(false)\n",
    "    .take(10)\n",
    "    .foreach(println)"
   ]
  },
  {
   "cell_type": "code",
   "execution_count": null,
   "metadata": {
    "collapsed": true
   },
   "outputs": [],
   "source": []
  }
 ],
 "metadata": {
  "kernelspec": {
   "display_name": "Spark-DSE Cluster",
   "language": "scala",
   "name": "spark-dse-cluster"
  },
  "language_info": {
   "name": "scala"
  }
 },
 "nbformat": 4,
 "nbformat_minor": 0
}
