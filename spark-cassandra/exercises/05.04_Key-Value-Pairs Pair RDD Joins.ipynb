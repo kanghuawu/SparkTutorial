{
 "cells": [
  {
   "cell_type": "markdown",
   "metadata": {},
   "source": [
    "![DataStax Academy](https://s3.amazonaws.com/datastaxtraining/vq8Jr36Gk48v/datastax-academy.svg \"DataStax Academy\")"
   ]
  },
  {
   "cell_type": "markdown",
   "metadata": {},
   "source": [
    "# Exercise 05.04 - Key-Value Pairs: Pair RDD Joins"
   ]
  },
  {
   "cell_type": "markdown",
   "metadata": {},
   "source": [
    "## Background"
   ]
  },
  {
   "cell_type": "markdown",
   "metadata": {},
   "source": [
    "This exercise will look at using pair RDD joins to validate that the data in two separate tables are consistent. \n",
    "\n",
    "Data will be from the Cassandra `videos` table:"
   ]
  },
  {
   "cell_type": "raw",
   "metadata": {},
   "source": [
    "CREATE TABLE killr_video.videos (\n",
    "    video_id TIMEUUID,\n",
    "    avg_rating FLOAT,\n",
    "    description TEXT,\n",
    "    genres SET<TEXT>,\n",
    "    mpaa_rating TEXT,\n",
    "    release_date TIMESTAMP,\n",
    "    release_year INT,\n",
    "    title TEXT,\n",
    "    user_id UUID,\n",
    "    PRIMARY KEY (video_id)\n",
    ");"
   ]
  },
  {
   "cell_type": "markdown",
   "metadata": {},
   "source": [
    "and the `videos_by_tag` table:"
   ]
  },
  {
   "cell_type": "raw",
   "metadata": {},
   "source": [
    "CREATE TABLE killr_video.videos_by_tag (\n",
    "    tag TEXT,\n",
    "    title TEXT,\n",
    "    video_id TIMEUUID,\n",
    "    avg_rating FLOAT,\n",
    "    description TEXT,\n",
    "    genres SET<TEXT>,\n",
    "    mpaa_rating TEXT,\n",
    "    release_date TIMESTAMP,\n",
    "    release_year INT,\n",
    "    user_id UUID,\n",
    "    PRIMARY KEY (tag, title, video_id)\n",
    ");"
   ]
  },
  {
   "cell_type": "markdown",
   "metadata": {},
   "source": [
    "Note: There are some columns which may have a null value: `avg_rating` and `description`. Be sure to use the `Option[]` data type for those columns.\n",
    "\n",
    "Keep in mind that there is a 1-n relationship between the `videos` table and the `videos_by_tag` table, i.e. there are multiple instances of the same video in `videos_by_tag`. "
   ]
  },
  {
   "cell_type": "markdown",
   "metadata": {},
   "source": [
    "***"
   ]
  },
  {
   "cell_type": "markdown",
   "metadata": {},
   "source": [
    "## Directions"
   ]
  },
  {
   "cell_type": "markdown",
   "metadata": {},
   "source": [
    "#### 1. Use a pair RDD join to check that the `title` for videos are consistent between the `videos` table and the `videos_by_tag` table. The output should list the video id and the title of the videos that are not consistent."
   ]
  },
  {
   "cell_type": "code",
   "execution_count": 9,
   "metadata": {
    "collapsed": false
   },
   "outputs": [],
   "source": [
    "val video = sc.cassandraTable(\"killr_video\", \"videos\")\n",
    "    .select(\"video_id\", \"title\")\n",
    "    .as((i: java.util.UUID, t: String) => (i, t))\n",
    "val videoByTag = sc.cassandraTable(\"killr_video\", \"videos_by_tag\")\n",
    "    .select(\"video_id\", \"title\")\n",
    "    .as((i: java.util.UUID, t: String) => (i, t))\n",
    "\n",
    "video.join(videoByTag)\n",
    "    .map{case (id, (t1, t2)) => (id, t1, t2)}\n",
    "    .filter(tu => tu._2 != tu._3)\n",
    "    .take(10)\n",
    "    .foreach(println)"
   ]
  },
  {
   "cell_type": "markdown",
   "metadata": {},
   "source": [
    "There should not be any inconsistent titles in the current data set."
   ]
  },
  {
   "cell_type": "markdown",
   "metadata": {},
   "source": [
    "#### 2. Run the following code box to insert some addtional videos in the two tables. These videos will have inconsistent titles."
   ]
  },
  {
   "cell_type": "code",
   "execution_count": null,
   "metadata": {
    "collapsed": false
   },
   "outputs": [],
   "source": [
    "val inconsistentVideos = sc.parallelize(Seq((\"5ac5ce38-ad94-11e5-bf7f-feff819cdc9f\", \"Finding Nemo 2\", 2017), \n",
    "                                            (\"7c22eb38-ad94-11e5-bf7f-feff819cdc9f\", \"The Lego Batman Movie\", 2017)))\n",
    "\n",
    "val inconsistentVideosByTag = sc.parallelize(Seq((\"nemo\",\"5ac5ce38-ad94-11e5-bf7f-feff819cdc9f\", \"Finding Dory\"), \n",
    "                                                 (\"legos\",\"7c22eb38-ad94-11e5-bf7f-feff819cdc9f\", \"The Lego Movie 2\"),\n",
    "                                                 (\"batman\",\"7c22eb38-ad94-11e5-bf7f-feff819cdc9f\", \"The Lego Movie 2\")))                           \n",
    "                              \n",
    "inconsistentVideos.saveToCassandra(\"killr_video\", \"videos\", SomeColumns(\"video_id\",\"title\",\"release_year\"))\n",
    "inconsistentVideosByTag.saveToCassandra(\"killr_video\", \"videos_by_tag\", SomeColumns(\"tag\",\"video_id\",\"title\"))"
   ]
  },
  {
   "cell_type": "markdown",
   "metadata": {},
   "source": [
    "#### 3. Try running your code again."
   ]
  },
  {
   "cell_type": "code",
   "execution_count": null,
   "metadata": {
    "collapsed": false
   },
   "outputs": [],
   "source": [
    "val video = sc.cassandraTable(\"killr_video\", \"videos\")\n",
    "    .select(\"video_id\", \"title\")\n",
    "    .as((i: java.util.UUID, t: String) => (i, t))\n",
    "val videoByTag = sc.cassandraTable(\"killr_video\", \"videos_by_tag\")\n",
    "    .select(\"video_id\", \"title\")\n",
    "    .as((i: java.util.UUID, t: String) => (i, t))\n",
    "\n",
    "video.join(videoByTag)\n",
    "    .map{case (id, (t1, t2)) => (id, t1, t2)}\n",
    "    .filter(tu => tu._2 != tu._3)\n",
    "    .take(10)\n",
    "    .foreach(println)"
   ]
  }
 ],
 "metadata": {
  "kernelspec": {
   "display_name": "Spark-DSE Cluster",
   "language": "scala",
   "name": "spark-dse-cluster"
  },
  "language_info": {
   "name": "scala"
  }
 },
 "nbformat": 4,
 "nbformat_minor": 0
}
