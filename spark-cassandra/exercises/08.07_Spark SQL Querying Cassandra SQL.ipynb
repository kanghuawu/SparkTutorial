{
 "cells": [
  {
   "cell_type": "markdown",
   "metadata": {},
   "source": [
    "![DataStax Academy](https://s3.amazonaws.com/datastaxtraining/vq8Jr36Gk48v/datastax-academy.svg \"DataStax Academy\")"
   ]
  },
  {
   "cell_type": "markdown",
   "metadata": {},
   "source": [
    "# Exercise 08.07 - Spark SQL: Dataframe Language Integrated"
   ]
  },
  {
   "cell_type": "markdown",
   "metadata": {},
   "source": [
    "## Background"
   ]
  },
  {
   "cell_type": "markdown",
   "metadata": {},
   "source": [
    "In this example we will execute some additional examples of SQL queries."
   ]
  },
  {
   "cell_type": "raw",
   "metadata": {},
   "source": [
    "CREATE TABLE videos_by_actor (\n",
    "  actor_name TEXT,\n",
    "  release_year INT,\n",
    "  character_name TEXT,\n",
    "  video_id TIMEUUID,\n",
    "  title TEXT,\n",
    "  PRIMARY KEY (actor_name, release_year)\n",
    ") ;"
   ]
  },
  {
   "cell_type": "markdown",
   "metadata": {},
   "source": [
    "***"
   ]
  },
  {
   "cell_type": "markdown",
   "metadata": {},
   "source": [
    "## Directions"
   ]
  },
  {
   "cell_type": "markdown",
   "metadata": {
    "collapsed": false
   },
   "source": [
    "A useful tool is the `registerTempTable` method. We will begin by creating a dataframe."
   ]
  },
  {
   "cell_type": "code",
   "execution_count": 5,
   "metadata": {
    "collapsed": false
   },
   "outputs": [
    {
     "name": "stdout",
     "output_type": "stream",
     "text": [
      "+-----------+--------+\n",
      "| actor_name|max_year|\n",
      "+-----------+--------+\n",
      "|Johnny Depp|    2015|\n",
      "+-----------+--------+\n",
      "\n"
     ]
    }
   ],
   "source": [
    "val maxDF = sqlContext.sql(\n",
    "    \"SELECT actor_name, MAX(release_year) as max_year \" + \n",
    "    \"FROM killr_video.videos_by_actor \" +\n",
    "    \"WHERE actor_name = 'Johnny Depp' \" + \n",
    "    \"GROUP BY actor_name\")\n",
    "\n",
    "maxDF.show"
   ]
  },
  {
   "cell_type": "markdown",
   "metadata": {},
   "source": [
    "Now we will register that information as a temp table and use it in a SQL join."
   ]
  },
  {
   "cell_type": "code",
   "execution_count": 6,
   "metadata": {
    "collapsed": false
   },
   "outputs": [],
   "source": [
    "maxDF.registerTempTable(\"max_year\")"
   ]
  },
  {
   "cell_type": "code",
   "execution_count": 10,
   "metadata": {
    "collapsed": false,
    "scrolled": true
   },
   "outputs": [
    {
     "name": "stdout",
     "output_type": "stream",
     "text": [
      "\r",
      "                                                                                \r",
      "+-----------+----------+------------+\n",
      "| actor_name|     title|release_year|\n",
      "+-----------+----------+------------+\n",
      "|Johnny Depp|Black Mass|        2015|\n",
      "+-----------+----------+------------+\n",
      "\n"
     ]
    }
   ],
   "source": [
    "val movieDF = sqlContext.sql(\" SELECT M.actor_name, V.title, V.release_year\" + \n",
    "                             \" FROM max_year as M JOIN killr_video.videos_by_actor as V\" +\n",
    "                             \" ON M.actor_name = V.actor_name\" + \n",
    "                             \" WHERE V.release_year > M.max_year - 1\" + \n",
    "                             \" ORDER BY release_year DESC\")\n",
    "movieDF.show"
   ]
  },
  {
   "cell_type": "markdown",
   "metadata": {},
   "source": [
    "Another interesting method you can use is the `explain` method. This will output the query execution plan, so you can follow the steps Spark is using to complete the task."
   ]
  },
  {
   "cell_type": "code",
   "execution_count": 11,
   "metadata": {
    "collapsed": false,
    "scrolled": true
   },
   "outputs": [
    {
     "name": "stdout",
     "output_type": "stream",
     "text": [
      "== Physical Plan ==\n",
      "Sort [release_year#34 DESC], true\n",
      " Exchange (RangePartitioning 200)\n",
      "  Project [actor_name#7,title#36,release_year#34]\n",
      "   Filter (release_year#34 > (max_year#6 - 1))\n",
      "    ShuffledHashJoin [actor_name#7], [actor_name#33], BuildRight\n",
      "     Aggregate false, [actor_name#7], [actor_name#7,MAX(PartialMax#39) AS max_year#6]\n",
      "      Exchange (HashPartitioning 200)\n",
      "       Aggregate true, [actor_name#7], [actor_name#7,MAX(release_year#8) AS PartialMax#39]\n",
      "        Filter (actor_name#7 = Johnny Depp)\n",
      "         HiveTableScan [actor_name#7,release_year#8], (MetastoreRelation killr_video, videos_by_actor, None), None\n",
      "     Exchange (HashPartitioning 200)\n",
      "      HiveTableScan [actor_name#33,title#36,release_year#34], (MetastoreRelation killr_video, videos_by_actor, Some(V)), None\n"
     ]
    }
   ],
   "source": [
    "movieDF.explain"
   ]
  },
  {
   "cell_type": "code",
   "execution_count": null,
   "metadata": {
    "collapsed": true
   },
   "outputs": [],
   "source": []
  }
 ],
 "metadata": {
  "kernelspec": {
   "display_name": "Spark-DSE Cluster",
   "language": "scala",
   "name": "spark-dse-cluster"
  },
  "language_info": {
   "name": "scala"
  }
 },
 "nbformat": 4,
 "nbformat_minor": 0
}
