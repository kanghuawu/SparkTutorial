{
 "cells": [
  {
   "cell_type": "markdown",
   "metadata": {},
   "source": [
    "![DataStax Academy](https://s3.amazonaws.com/datastaxtraining/vq8Jr36Gk48v/datastax-academy.svg \"DataStax Academy\")"
   ]
  },
  {
   "cell_type": "markdown",
   "metadata": {},
   "source": [
    "# Exercise 20 - Tuning Partitioning: Controlling Partitioning"
   ]
  },
  {
   "cell_type": "markdown",
   "metadata": {},
   "source": [
    "## Background"
   ]
  },
  {
   "cell_type": "markdown",
   "metadata": {},
   "source": [
    "In this exercise, you'll be executing long-running queries and seeing how the code can be optimized. The execution results will also be viewed using the Spark UI.\n",
    "\n",
    "You'll be working with the `videos_by_two_actors` table:"
   ]
  },
  {
   "cell_type": "raw",
   "metadata": {},
   "source": [
    "CREATE TABLE killr_video.videos_by_two_actors (\n",
    "    actor1 TEXT,\n",
    "    actor2 TEXT,\n",
    "    video_id TIMEUUID,\n",
    "    release_year INT,\n",
    "    title TEXT,\n",
    "    PRIMARY KEY (actor1, actor2, video_id)\n",
    ");"
   ]
  },
  {
   "cell_type": "markdown",
   "metadata": {},
   "source": [
    "***"
   ]
  },
  {
   "cell_type": "markdown",
   "metadata": {},
   "source": [
    "## Directions"
   ]
  },
  {
   "cell_type": "markdown",
   "metadata": {},
   "source": [
    "#### 1. Open the Spark web UI tool in a browser at http://localhost:4040. You should see a view similar to this one:"
   ]
  },
  {
   "cell_type": "markdown",
   "metadata": {},
   "source": [
    "![Diagram 1](https://s3.amazonaws.com/datastaxtraining/vq8Jr36Gk48v/20-01.jpg \"Diagram 1\")"
   ]
  },
  {
   "cell_type": "markdown",
   "metadata": {},
   "source": [
    "#### 2.  Run the below code box and refresh the Spark UI browser a few times while the query executes."
   ]
  },
  {
   "cell_type": "code",
   "execution_count": 1,
   "metadata": {
    "collapsed": false
   },
   "outputs": [
    {
     "data": {
      "text/plain": [
       "Long = 37"
      ]
     },
     "execution_count": 1,
     "metadata": {},
     "output_type": "execute_result"
    }
   ],
   "source": [
    "val primaryActor = sc.cassandraTable(\"killr_video\", \"videos_by_two_actors\").select(\"actor1\")\n",
    "primaryActor.map(r => (r.getString(0).substring(0,1), 1)).reduceByKey((x,y) => x + y).count"
   ]
  },
  {
   "cell_type": "markdown",
   "metadata": {},
   "source": [
    "The query pulls the first character from this column and counts the number of times each value appears, before returning the count of the number of records. When evaluated, the query takes a while to execute (20 to 60 seconds depending on your hardware)."
   ]
  },
  {
   "cell_type": "markdown",
   "metadata": {},
   "source": [
    "In your browser, you should see a view similar to this as the query executes:"
   ]
  },
  {
   "cell_type": "markdown",
   "metadata": {},
   "source": [
    "![Diagram 2](https://s3.amazonaws.com/datastaxtraining/vq8Jr36Gk48v/20-02.jpg \"Diagram 2\")"
   ]
  },
  {
   "cell_type": "markdown",
   "metadata": {},
   "source": [
    "When the query completes, you should see a view similar to this:"
   ]
  },
  {
   "cell_type": "markdown",
   "metadata": {},
   "source": [
    "![Diagram 3](https://s3.amazonaws.com/datastaxtraining/vq8Jr36Gk48v/20-03.jpg \"Diagram 3\")"
   ]
  },
  {
   "cell_type": "markdown",
   "metadata": {},
   "source": [
    "#### 3. Click on the job description to view more details about the query's execution. Which of the stages took longer to do?"
   ]
  },
  {
   "cell_type": "markdown",
   "metadata": {},
   "source": [
    "![Diagram 4](https://s3.amazonaws.com/datastaxtraining/vq8Jr36Gk48v/20-04.jpg \"Diagram 4\")"
   ]
  },
  {
   "cell_type": "markdown",
   "metadata": {},
   "source": [
    "#### 4. Now execute the following block of code."
   ]
  },
  {
   "cell_type": "code",
   "execution_count": 2,
   "metadata": {
    "collapsed": false
   },
   "outputs": [
    {
     "name": "stdout",
     "output_type": "stream",
     "text": [
      "\r",
      "                                                                                \r",
      "(Q,1875)\n",
      "(Z,12281)\n",
      "(H,64953)\n"
     ]
    }
   ],
   "source": [
    "primaryActor.map(r => (r.getString(0).substring(0,1), 1)).reduceByKey((x,y) => x + y).take(3).foreach(println)"
   ]
  },
  {
   "cell_type": "markdown",
   "metadata": {},
   "source": [
    "This code prints the first three records instead of counting how many records exist. Notice it takes a long time. Monitor the job in the browser as the query executes."
   ]
  },
  {
   "cell_type": "markdown",
   "metadata": {},
   "source": [
    "#### 5. After the query terminates, review the details in the browser. For this job, which of the stages took longer to do?"
   ]
  },
  {
   "cell_type": "markdown",
   "metadata": {},
   "source": [
    "#### 6. Re-run the query, but this time we will force Spark to create several partitions instead of just a few. Wait for it to complete."
   ]
  },
  {
   "cell_type": "code",
   "execution_count": 3,
   "metadata": {
    "collapsed": false
   },
   "outputs": [],
   "source": [
    "val shuffled = primaryActor.map(r => (r.getString(0).substring(0,1), 1)).reduceByKey((x,y) => x + y, 10000).count"
   ]
  },
  {
   "cell_type": "markdown",
   "metadata": {},
   "source": [
    "#### 7. Open the details of this latest job in the browser. Which of the stages took longer to do?"
   ]
  },
  {
   "cell_type": "markdown",
   "metadata": {},
   "source": [
    "#### 8. Click on the `count` stage link in the description (this page may take a while to load). Then click on the \"Show Additional Metrics option. Which one of the metrics took longer: Duration or Scheduler Delay?"
   ]
  },
  {
   "cell_type": "markdown",
   "metadata": {},
   "source": [
    "![Diagram 8](https://s3.amazonaws.com/datastaxtraining/vq8Jr36Gk48v/20-08.jpg \"Diagram 8\")"
   ]
  }
 ],
 "metadata": {
  "kernelspec": {
   "display_name": "Spark-DSE Cluster",
   "language": "scala",
   "name": "spark-dse-cluster"
  },
  "language_info": {
   "name": "scala"
  }
 },
 "nbformat": 4,
 "nbformat_minor": 0
}
