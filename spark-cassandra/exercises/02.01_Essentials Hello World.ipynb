{
 "cells": [
  {
   "cell_type": "markdown",
   "metadata": {},
   "source": [
    "![DataStax Academy](https://s3.amazonaws.com/datastaxtraining/vq8Jr36Gk48v/datastax-academy.svg \"DataStax Academy\")"
   ]
  },
  {
   "cell_type": "markdown",
   "metadata": {},
   "source": [
    "# Exercise 02.01 - Essentials: Hello World"
   ]
  },
  {
   "cell_type": "markdown",
   "metadata": {},
   "source": [
    "## Background"
   ]
  },
  {
   "cell_type": "markdown",
   "metadata": {},
   "source": [
    "In this exercise we're going over the four steps to our Spark WordCount algorithm:<br>\n",
    "1. Load records from a data source\n",
    "2. Parse records and generate words\n",
    "3. Count how many times each word appears in the dataset\n",
    "4. Output the result\n",
    "\n",
    "A CSV file is provided, _/root/data/video-years.csv_, with the columns in the following order:"
   ]
  },
  {
   "cell_type": "raw",
   "metadata": {},
   "source": [
    "video id, title, release year"
   ]
  },
  {
   "cell_type": "markdown",
   "metadata": {},
   "source": [
    "The contents are:"
   ]
  },
  {
   "cell_type": "raw",
   "metadata": {},
   "source": [
    "b6ea95c5-9aea-11e5-a6ca-8b496c707234,\"Monsters Inc.\",2001\n",
    "b6d734d1-9aea-11e5-a6ca-8b496c707234,\"Stuart Little 2\",2002\n",
    "b6c5cfb5-9aea-11e5-a6ca-8b496c707234,\"Piglet's Big Movie\",2003\n",
    "b6d22bc1-9aea-11e5-a6ca-8b496c707234,\"Jimmy Neutron: Boy Genius\",2001\n",
    "b6c31093-9aea-11e5-a6ca-8b496c707234,\"The Country Bears\",2002\n",
    "b6d89469-9aea-11e5-a6ca-8b496c707234,\"The Jungle Book 2\",2003\n",
    "b6cd70d5-9aea-11e5-a6ca-8b496c707234,\"The Tigger Movie\",2000\n",
    "b6c31095-9aea-11e5-a6ca-8b496c707234,\"Tarzan & Jane\",2002\n",
    "b6d9cce1-9aea-11e5-a6ca-8b496c707234,\"Finding Nemo\",2003"
   ]
  },
  {
   "cell_type": "markdown",
   "metadata": {},
   "source": [
    "***"
   ]
  },
  {
   "cell_type": "markdown",
   "metadata": {},
   "source": [
    "## Directions"
   ]
  },
  {
   "cell_type": "markdown",
   "metadata": {},
   "source": [
    "#### 1. In the CSV content above, there are 4 distinct years. Count the number of movies for each year and make a note of it."
   ]
  },
  {
   "cell_type": "markdown",
   "metadata": {},
   "source": [
    "#### 2. Now let's load the records from our CSV file, `video-years.csv`, using the `textFile` method. Don't forget to press **Ctrl-Enter** to run the code or use the play button at the top of the page!"
   ]
  },
  {
   "cell_type": "code",
   "execution_count": null,
   "metadata": {
    "collapsed": false
   },
   "outputs": [],
   "source": []
  },
  {
   "cell_type": "markdown",
   "metadata": {},
   "source": [
    "#### 3. Parse the records by using the `flatMap` method to create a collection of years. "
   ]
  },
  {
   "cell_type": "code",
   "execution_count": null,
   "metadata": {
    "collapsed": false
   },
   "outputs": [],
   "source": []
  },
  {
   "cell_type": "markdown",
   "metadata": {},
   "source": [
    "#### 4. With the collection of years, create another map that will hold the count for each year. "
   ]
  },
  {
   "cell_type": "code",
   "execution_count": null,
   "metadata": {
    "collapsed": false
   },
   "outputs": [],
   "source": []
  },
  {
   "cell_type": "markdown",
   "metadata": {},
   "source": [
    "#### 5. Now to bring it all together, collect the counts."
   ]
  },
  {
   "cell_type": "code",
   "execution_count": null,
   "metadata": {
    "collapsed": false,
    "scrolled": true
   },
   "outputs": [],
   "source": []
  },
  {
   "cell_type": "markdown",
   "metadata": {},
   "source": [
    "Does the output match what you've counted in Step 1?"
   ]
  }
 ],
 "metadata": {
  "kernelspec": {
   "display_name": "Spark-DSE Cluster",
   "language": "scala",
   "name": "spark-dse-cluster"
  },
  "language_info": {
   "name": "scala"
  }
 },
 "nbformat": 4,
 "nbformat_minor": 0
}
