{
 "cells": [
  {
   "cell_type": "markdown",
   "metadata": {},
   "source": [
    "![DataStax Academy](https://s3.amazonaws.com/datastaxtraining/vq8Jr36Gk48v/datastax-academy.svg \"DataStax Academy\")"
   ]
  },
  {
   "cell_type": "markdown",
   "metadata": {},
   "source": [
    "# Welcome to DS320 - Spark Exercises using Jupyter Notebook\n",
    "\n",
    "You will notice there were two folders available on the 'Home' tab, exercises and solutions. These exercises were created so that you can try them yourself and then review your work in the solutions tab.\n",
    "\n",
    "Using Jupyter Notebook and the Spark DSE kernel does involve a little hands on care and feeding.\n",
    "\n",
    "## Environment\n",
    "+ When you have completed a workbook, use File > Close and Halt to close the workbook and the Spark Context.\n",
    "\n",
    "+ Spark allows only one context at a time. To ensure you don't have multiple worksheets running at a time, click on the 'running' tab, on the home tab. From here you can kill processes.\n",
    "\n",
    "+ If you create a long running process, due to the limitations of the VM and single node environment, you may experience an issue with the Spark Kernel. Try Kernel > Restart. If this does not solve the issue, you may need to open a command prompt and determine if the node is still running, using nodetool status and possibly service dse restart.\n",
    "\n",
    "## Workbook Usage\n",
    "+ Notebooks will execute automatically when opened, so when you review the solutions folder, pages may take a moment to execute. This is normal.\n",
    "\n",
    "+ To execute your own code in the exercises folder, use the play button at the top of the page or click on the box and use Control-Enter to execute that block of code.\n",
    "\n",
    "Let's see an example."
   ]
  },
  {
   "cell_type": "code",
   "execution_count": 4,
   "metadata": {
    "collapsed": true
   },
   "outputs": [],
   "source": [
    "var x = 10"
   ]
  },
  {
   "cell_type": "code",
   "execution_count": 5,
   "metadata": {
    "collapsed": false
   },
   "outputs": [
    {
     "data": {
      "text/plain": [
       "Int = 10"
      ]
     },
     "execution_count": 5,
     "metadata": {},
     "output_type": "execute_result"
    }
   ],
   "source": [
    "x"
   ]
  },
  {
   "cell_type": "markdown",
   "metadata": {},
   "source": [
    "Now on the next line, set x = 45 and run the next two code blocks, did you see the output of x change?"
   ]
  },
  {
   "cell_type": "code",
   "execution_count": 6,
   "metadata": {
    "collapsed": false
   },
   "outputs": [],
   "source": [
    "x = 20"
   ]
  },
  {
   "cell_type": "code",
   "execution_count": 7,
   "metadata": {
    "collapsed": false
   },
   "outputs": [
    {
     "data": {
      "text/plain": [
       "Int = 20"
      ]
     },
     "execution_count": 7,
     "metadata": {},
     "output_type": "execute_result"
    }
   ],
   "source": [
    "x"
   ]
  },
  {
   "cell_type": "markdown",
   "metadata": {},
   "source": [
    "Now, File > Close and Halt this workbook and start your exercises. "
   ]
  }
 ],
 "metadata": {
  "kernelspec": {
   "display_name": "Pyspark DSE Cluster",
   "language": "python",
   "name": "pyspark-dse-cluster"
  },
  "language_info": {
   "codemirror_mode": {
    "name": "ipython",
    "version": 2
   },
   "file_extension": ".py",
   "mimetype": "text/x-python",
   "name": "python",
   "nbconvert_exporter": "python",
   "pygments_lexer": "ipython2",
   "version": "2.7.6"
  }
 },
 "nbformat": 4,
 "nbformat_minor": 0
}
