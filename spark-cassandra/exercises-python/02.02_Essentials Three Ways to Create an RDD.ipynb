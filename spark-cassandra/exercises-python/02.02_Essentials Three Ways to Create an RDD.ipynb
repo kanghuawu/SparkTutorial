{
 "cells": [
  {
   "cell_type": "markdown",
   "metadata": {},
   "source": [
    "![DataStax Academy](https://s3.amazonaws.com/datastaxtraining/vq8Jr36Gk48v/datastax-academy.svg \"DataStax Academy\")"
   ]
  },
  {
   "cell_type": "markdown",
   "metadata": {},
   "source": [
    "# Exercise 02.02 - Essentials: Three Ways to Create an RDD"
   ]
  },
  {
   "cell_type": "markdown",
   "metadata": {},
   "source": [
    "## Background"
   ]
  },
  {
   "cell_type": "markdown",
   "metadata": {},
   "source": [
    "In this exercise you will practice creating an RDD from a few different data sources: \n",
    "\n",
    "1. Parallelizing a collection\n",
    "2. Load data from storage\n",
    "3. Transforming an RDD\n",
    "\n",
    "One of the data sources you'll be working with is a Cassandra table, `killr_video.videos`, with the table definition:"
   ]
  },
  {
   "cell_type": "raw",
   "metadata": {},
   "source": [
    "CREATE TABLE killr_video.videos (\n",
    "   video_id TIMEUUID,\n",
    "   avg_rating FLOAT,\n",
    "   description TEXT,\n",
    "   genres SET<TEXT>,\n",
    "   mpaa_rating TEXT,\n",
    "   release_date TIMESTAMP,\n",
    "   release_year INT,\n",
    "   title TEXT,\n",
    "   user_id UUID,\n",
    "   PRIMARY KEY (video_id)\n",
    ");"
   ]
  },
  {
   "cell_type": "markdown",
   "metadata": {},
   "source": [
    "You'll also be working with a CSV file, `/root/data/video-years.csv`, which contains columns in the following order:"
   ]
  },
  {
   "cell_type": "raw",
   "metadata": {},
   "source": [
    "video_id, title, year"
   ]
  },
  {
   "cell_type": "markdown",
   "metadata": {},
   "source": [
    "***"
   ]
  },
  {
   "cell_type": "markdown",
   "metadata": {},
   "source": [
    "## Directions"
   ]
  },
  {
   "cell_type": "markdown",
   "metadata": {},
   "source": [
    "#### 1. Create a List object with the following movie titles, and set to a `val`:"
   ]
  },
  {
   "cell_type": "raw",
   "metadata": {},
   "source": [
    "Winnie the Pooh\n",
    "The Tigger Movie\n",
    "Pirates of the Caribbean\n",
    "Apollo 13\n",
    "Mallcop\n",
    "Mockingjay - Part 1\n",
    "The Good Dinosaur\n",
    "Lava\n",
    "The Peanuts Movie"
   ]
  },
  {
   "cell_type": "code",
   "execution_count": 2,
   "metadata": {
    "collapsed": false
   },
   "outputs": [],
   "source": [
    "li = [\"Winnie the Pooh\", \"The Tigger Movie\", \"Pirates of the Caribbean\", \"Apollo 13\", \"Mallcop\", \"Mockingjay - Part 1\", \"The Good Dinosaur\", \"Lava\", \"The Peanuts Movie\"]"
   ]
  },
  {
   "cell_type": "markdown",
   "metadata": {},
   "source": [
    "#### 2. From the List object, create an RDD using the `parallelize` method. "
   ]
  },
  {
   "cell_type": "code",
   "execution_count": 3,
   "metadata": {
    "collapsed": false
   },
   "outputs": [
    {
     "data": {
      "text/plain": [
       "ParallelCollectionRDD[1] at parallelize at PythonRDD.scala:396"
      ]
     },
     "execution_count": 3,
     "metadata": {},
     "output_type": "execute_result"
    }
   ],
   "source": [
    "sc.parallelize(li)"
   ]
  },
  {
   "cell_type": "markdown",
   "metadata": {},
   "source": [
    "The output should show that you now have a org.apache.spark.rdd.RDD object!"
   ]
  },
  {
   "cell_type": "markdown",
   "metadata": {},
   "source": [
    "#### 3. Create the RDD again, but use the `take` action to retrieve the first 3 elements of the RDD."
   ]
  },
  {
   "cell_type": "code",
   "execution_count": 4,
   "metadata": {
    "collapsed": false
   },
   "outputs": [
    {
     "data": {
      "text/plain": [
       "['Winnie the Pooh', 'The Tigger Movie', 'Pirates of the Caribbean']"
      ]
     },
     "execution_count": 4,
     "metadata": {},
     "output_type": "execute_result"
    }
   ],
   "source": [
    "sc.parallelize(li).take(3)"
   ]
  },
  {
   "cell_type": "markdown",
   "metadata": {},
   "source": [
    "The `take` action returns an Array with the elements from the RDD, which in this case are Strings."
   ]
  },
  {
   "cell_type": "markdown",
   "metadata": {},
   "source": [
    "#### 4. Now let's create an RDD from the Cassandra `killr_video.videos` table and set that to a `val`. Retrieve the first element in the RDD."
   ]
  },
  {
   "cell_type": "code",
   "execution_count": 5,
   "metadata": {
    "collapsed": false
   },
   "outputs": [
    {
     "data": {
      "text/plain": [
       "[Row(avg_rating=7.0, description=u\"After being wrongfully expelled from Harvard University, American Matt Buckner flees to his sister's home in England. Once there, he is befriended by her charming and dangerous brother-in-law, Pete Dunham, and introduced to the underworld of British football hooliganism. Matt learns to stand his ground through a friendship that develops against the backdrop of this secret and often violent world. 'Green Street Hooligans' is a story of loyalty, trust and the sometimes brutal consequences of living close to the edge.\", genres=set([u'Crime']), mpaa_rating=u'R', release_date=datetime.datetime(2005, 9, 9, 0, 0), release_year=2005, title=u'Green Street Hooligans', user_id=u'6b234a61-faa6-4b4e-bba1-7c283fb8cae5', video_id=u'ece8de8f-a5e2-11e5-ba92-a45e60eb67c5')]"
      ]
     },
     "execution_count": 5,
     "metadata": {},
     "output_type": "execute_result"
    }
   ],
   "source": [
    "tableRDD = sc.cassandraTable(\"killr_video\", \"videos\")\n",
    "tableRDD.take(1)"
   ]
  },
  {
   "cell_type": "markdown",
   "metadata": {},
   "source": [
    "The retrieved Array should contain a CassandraRow with columns and values, the same as the table definition above."
   ]
  },
  {
   "cell_type": "markdown",
   "metadata": {},
   "source": [
    "#### 5. Finally, let's create an RDD using a transformation. Run the next code box, and then filter the resulting `csvRDD` to create an RDD with only the movies released in 2002 or later. Print out the contents of the RDD."
   ]
  },
  {
   "cell_type": "code",
   "execution_count": 6,
   "metadata": {
    "collapsed": false
   },
   "outputs": [],
   "source": [
    "csvArray = sc.textFile(\"file:///root/data/video-years.csv\") \\\n",
    "    .map(lambda line: line.split(\",\")) \\\n",
    "    .map(lambda movie: (movie[0], movie)) \\\n",
    "    .filter(lambda pair: int(pair[1][2]) >= 2002) \\\n",
    "    .collect()"
   ]
  },
  {
   "cell_type": "code",
   "execution_count": 7,
   "metadata": {
    "collapsed": false
   },
   "outputs": [
    {
     "name": "stdout",
     "output_type": "stream",
     "text": [
      "[u'b6d734d1-9aea-11e5-a6ca-8b496c707234', u'\"Stuart Little 2\"', u'2002']\n",
      "[u'b6c5cfb5-9aea-11e5-a6ca-8b496c707234', u'\"Piglet\\'s Big Movie\"', u'2003']\n",
      "[u'b6c31093-9aea-11e5-a6ca-8b496c707234', u'\"The Country Bears\"', u'2002']\n",
      "[u'b6d89469-9aea-11e5-a6ca-8b496c707234', u'\"The Jungle Book 2\"', u'2003']\n",
      "[u'b6c31095-9aea-11e5-a6ca-8b496c707234', u'\"Tarzan & Jane\"', u'2002']\n",
      "[u'b6d9cce1-9aea-11e5-a6ca-8b496c707234', u'\"Finding Nemo\"', u'2003']\n"
     ]
    }
   ],
   "source": [
    "for _, v in csvArray:\n",
    "    print v"
   ]
  }
 ],
 "metadata": {
  "kernelspec": {
   "display_name": "Pyspark DSE Cluster",
   "language": "python",
   "name": "pyspark-dse-cluster"
  },
  "language_info": {
   "codemirror_mode": {
    "name": "ipython",
    "version": 2
   },
   "file_extension": ".py",
   "mimetype": "text/x-python",
   "name": "python",
   "nbconvert_exporter": "python",
   "pygments_lexer": "ipython2",
   "version": "2.7.6"
  }
 },
 "nbformat": 4,
 "nbformat_minor": 0
}
