{
 "cells": [
  {
   "cell_type": "markdown",
   "metadata": {},
   "source": [
    "![DataStax Academy](https://s3.amazonaws.com/datastaxtraining/vq8Jr36Gk48v/datastax-academy.svg \"DataStax Academy\")"
   ]
  },
  {
   "cell_type": "markdown",
   "metadata": {},
   "source": [
    "# Exercise 02.04 - Essentials: RDD Actions"
   ]
  },
  {
   "cell_type": "markdown",
   "metadata": {},
   "source": [
    "## Background"
   ]
  },
  {
   "cell_type": "markdown",
   "metadata": {},
   "source": [
    "This exercise will be reviewing RDD actions by computing some statistics for a user's playlist, which is a list of movies and its attributes.\n",
    "\n",
    "The contents of the playlist include the following:"
   ]
  },
  {
   "cell_type": "raw",
   "metadata": {},
   "source": [
    "Title                        Duration (mins)          User Rating\n",
    "\n",
    "The Martian                              141                  7.6\n",
    "Bridge of Spies                          141                  8.0 \n",
    "The Imitation Game                       113                  8.0          \n",
    "The Wolf of Wall Street                  180                  7.9\n",
    "Creed                                    132                  8.6\n",
    "John Wick                                101                  7.2\n",
    "The Hundred-Foot Journey                 122                  7.3"
   ]
  },
  {
   "cell_type": "markdown",
   "metadata": {},
   "source": [
    "***"
   ]
  },
  {
   "cell_type": "markdown",
   "metadata": {},
   "source": [
    "## Directions"
   ]
  },
  {
   "cell_type": "markdown",
   "metadata": {},
   "source": [
    "#### 1. Run the following code box to load the playlist content as a list of tuples."
   ]
  },
  {
   "cell_type": "code",
   "execution_count": 2,
   "metadata": {
    "collapsed": false
   },
   "outputs": [],
   "source": [
    "playlist = [(\"The Martian\", 141, 7.6),\n",
    "                    (\"Bridge of Spies\", 141, 8.0),\n",
    "                    (\"The Imitation Game\", 113, 8.0),\n",
    "                    (\"The Wolf of Wall Street\", 180, 7.9),\n",
    "                    (\"Creed\", 132, 8.6),\n",
    "                    (\"John Wick\", 101, 7.2),\n",
    "                    (\"The Hundred-Foot Journey\", 122, 7.3)]"
   ]
  },
  {
   "cell_type": "markdown",
   "metadata": {},
   "source": [
    "#### 2. Use the `parallelize` action to create an RDD and set to a `val`."
   ]
  },
  {
   "cell_type": "code",
   "execution_count": 3,
   "metadata": {
    "collapsed": true
   },
   "outputs": [],
   "source": [
    "playlist_rdd = sc.parallelize(playlist)"
   ]
  },
  {
   "cell_type": "markdown",
   "metadata": {},
   "source": [
    "The parallelize method is used to divide the data into a number of partitions which can then be distributed and worked on in parallel across Spark workers. It may not have much meaning in a VM with only one Spark node, but it is an important action to get in the habit of using."
   ]
  },
  {
   "cell_type": "markdown",
   "metadata": {},
   "source": [
    "#### 3. Count the number of movies in the playlist."
   ]
  },
  {
   "cell_type": "code",
   "execution_count": 19,
   "metadata": {
    "collapsed": false
   },
   "outputs": [
    {
     "name": "stdout",
     "output_type": "stream",
     "text": [
      "7\n"
     ]
    }
   ],
   "source": [
    "count = playlist_rdd.count()\n",
    "print(count)"
   ]
  },
  {
   "cell_type": "markdown",
   "metadata": {},
   "source": [
    "#### 4. Calculate the total duration of all of the movies in the playlist."
   ]
  },
  {
   "cell_type": "code",
   "execution_count": 20,
   "metadata": {
    "collapsed": false
   },
   "outputs": [
    {
     "name": "stdout",
     "output_type": "stream",
     "text": [
      "930\n"
     ]
    }
   ],
   "source": [
    "duration = playlist_rdd.map(lambda tup: tup[1]) \\\n",
    "    .reduce(lambda t1, t2: t1 + t2)\n",
    "print(duration)"
   ]
  },
  {
   "cell_type": "markdown",
   "metadata": {},
   "source": [
    "#### 5. Calculate the average user rating for the movies in this playlist."
   ]
  },
  {
   "cell_type": "code",
   "execution_count": 21,
   "metadata": {
    "collapsed": false
   },
   "outputs": [
    {
     "name": "stdout",
     "output_type": "stream",
     "text": [
      "7.8\n"
     ]
    }
   ],
   "source": [
    "rating = playlist_rdd.map(lambda tup: tup[2]) \\\n",
    "    .reduce(lambda t1, t2: t1 + t2)\n",
    "print(rating / count)"
   ]
  },
  {
   "cell_type": "code",
   "execution_count": null,
   "metadata": {
    "collapsed": true
   },
   "outputs": [],
   "source": []
  }
 ],
 "metadata": {
  "kernelspec": {
   "display_name": "Pyspark DSE Cluster",
   "language": "python",
   "name": "pyspark-dse-cluster"
  },
  "language_info": {
   "codemirror_mode": {
    "name": "ipython",
    "version": 2
   },
   "file_extension": ".py",
   "mimetype": "text/x-python",
   "name": "python",
   "nbconvert_exporter": "python",
   "pygments_lexer": "ipython2",
   "version": "2.7.6"
  }
 },
 "nbformat": 4,
 "nbformat_minor": 0
}
