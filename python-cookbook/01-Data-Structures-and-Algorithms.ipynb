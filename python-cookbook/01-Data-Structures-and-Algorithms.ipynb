{
 "cells": [
  {
   "cell_type": "markdown",
   "metadata": {},
   "source": [
    "1.1 Unpacking a Sequence into Separate Variables"
   ]
  },
  {
   "cell_type": "code",
   "execution_count": 1,
   "metadata": {},
   "outputs": [],
   "source": [
    "p = (10, 20)\n",
    "a, b = p"
   ]
  },
  {
   "cell_type": "code",
   "execution_count": 2,
   "metadata": {},
   "outputs": [
    {
     "name": "stdout",
     "output_type": "stream",
     "text": [
      "10 20\n"
     ]
    }
   ],
   "source": [
    "print(a, b)"
   ]
  },
  {
   "cell_type": "markdown",
   "metadata": {},
   "source": [
    "1.2. Unpacking Elements from Iterables of Arbitrary Length"
   ]
  },
  {
   "cell_type": "code",
   "execution_count": 3,
   "metadata": {},
   "outputs": [],
   "source": [
    "p = (1, 2, 3, 4, 5)\n",
    "a, *b, c = p"
   ]
  },
  {
   "cell_type": "code",
   "execution_count": 4,
   "metadata": {},
   "outputs": [
    {
     "name": "stdout",
     "output_type": "stream",
     "text": [
      "a: 1, b: [2, 3, 4], c: 5\n"
     ]
    }
   ],
   "source": [
    "print('a: {0}, b: {1}, c: {2}'.format(a, b, c))"
   ]
  },
  {
   "cell_type": "markdown",
   "metadata": {},
   "source": [
    "1.3. Keeping the Last N Items"
   ]
  },
  {
   "cell_type": "code",
   "execution_count": 8,
   "metadata": {},
   "outputs": [
    {
     "name": "stdout",
     "output_type": "stream",
     "text": [
      "deque([5, 6, 7, 8, 9], maxlen=5)\n"
     ]
    }
   ],
   "source": [
    "from collections import deque\n",
    "keep_last_five = deque(maxlen=5)\n",
    "for x in range(10):\n",
    "    keep_last_five.append(x)\n",
    "print(keep_last_five)"
   ]
  },
  {
   "cell_type": "markdown",
   "metadata": {},
   "source": [
    "1.4. Finding the Largest or Smallest N Items"
   ]
  },
  {
   "cell_type": "code",
   "execution_count": 21,
   "metadata": {},
   "outputs": [
    {
     "name": "stdout",
     "output_type": "stream",
     "text": [
      "[19, 17, 13, 13, 13]\n",
      "[2, 3, 3, 4, 5]\n"
     ]
    }
   ],
   "source": [
    "import heapq\n",
    "import random\n",
    "random_num = [random.randrange(20) for _ in range(20)]\n",
    "print(heapq.nlargest(5, random_num))\n",
    "print(heapq.nsmallest(5, random_num))"
   ]
  },
  {
   "cell_type": "markdown",
   "metadata": {},
   "source": [
    "1.5. Implementing a Priority Queue"
   ]
  },
  {
   "cell_type": "code",
   "execution_count": 45,
   "metadata": {},
   "outputs": [],
   "source": [
    "class PQ:\n",
    "    def __init__(self):\n",
    "        self._queue = []\n",
    "        self._idx = 0\n",
    "    def push(self, item, priority):\n",
    "        heapq.heappush(self._queue, (priority, self._idx, item))\n",
    "        self._idx += 1\n",
    "    def pop(self):\n",
    "        return heapq.heappop(self._queue)[-1]"
   ]
  },
  {
   "cell_type": "code",
   "execution_count": 46,
   "metadata": {},
   "outputs": [],
   "source": [
    "class Item:\n",
    "    def __init__(self, name):\n",
    "        self._name = name\n",
    "    def __repr__(self):\n",
    "        return 'Item({!r})'.format(self._name)"
   ]
  },
  {
   "cell_type": "code",
   "execution_count": 48,
   "metadata": {},
   "outputs": [
    {
     "name": "stdout",
     "output_type": "stream",
     "text": [
      "Item('test1') Item('test11') Item('test2') Item('test3') "
     ]
    }
   ],
   "source": [
    "q = PQ()\n",
    "q.push(Item('test1'),1)\n",
    "q.push(Item('test2'),2)\n",
    "q.push(Item('test3'),3)\n",
    "q.push(Item('test11'),1)\n",
    "for _ in range(4):\n",
    "    print(q.pop(), end=\" \")"
   ]
  },
  {
   "cell_type": "markdown",
   "metadata": {},
   "source": [
    "1.6. Mapping Keys to Multiple Values in a Dictionary"
   ]
  },
  {
   "cell_type": "code",
   "execution_count": 49,
   "metadata": {},
   "outputs": [
    {
     "name": "stdout",
     "output_type": "stream",
     "text": [
      "defaultdict(<class 'list'>, {'a': [1, 2], 'b': [3]})\n"
     ]
    }
   ],
   "source": [
    "from collections import defaultdict\n",
    "d = defaultdict(list)\n",
    "d['a'].append(1)\n",
    "d['a'].append(2)\n",
    "d['b'].append(3)\n",
    "print(d)"
   ]
  },
  {
   "cell_type": "markdown",
   "metadata": {},
   "source": [
    "1.7. Keeping Dictionaries in Order"
   ]
  },
  {
   "cell_type": "code",
   "execution_count": 51,
   "metadata": {},
   "outputs": [
    {
     "name": "stdout",
     "output_type": "stream",
     "text": [
      "k: first, v: 1\n",
      "k: second, v: 2\n",
      "k: third, v: 0\n"
     ]
    }
   ],
   "source": [
    "from collections import OrderedDict\n",
    "d = OrderedDict()\n",
    "d['first'] = 1\n",
    "d['second'] = 2\n",
    "d['third'] = 0\n",
    "for k, v in d.items():\n",
    "    print('k: {!s}, v: {:d}'.format(k, v))"
   ]
  },
  {
   "cell_type": "markdown",
   "metadata": {},
   "source": [
    "1.8. Calculating with Dictionaries"
   ]
  },
  {
   "cell_type": "code",
   "execution_count": 68,
   "metadata": {},
   "outputs": [
    {
     "name": "stdout",
     "output_type": "stream",
     "text": [
      "a\n",
      "('a', 5)\n",
      "(2, 'b')\n",
      "a\n",
      "b\n"
     ]
    }
   ],
   "source": [
    "d = {'a': 5, 'b': 2, 'c': 3, 'd': 4}\n",
    "print(min(d))\n",
    "min_d_key = min(zip(d.keys(), d.values()))\n",
    "print(min_d_key)\n",
    "min_d_value = min(zip(d.values(), d.keys()))\n",
    "print(min_d_value)\n",
    "print(min(d, key=lambda x: x))\n",
    "print(min(d, key=lambda x: d[x]))"
   ]
  },
  {
   "cell_type": "markdown",
   "metadata": {},
   "source": [
    "1.9. Finding Commonalities in Two Dictionaries"
   ]
  },
  {
   "cell_type": "code",
   "execution_count": 67,
   "metadata": {},
   "outputs": [
    {
     "name": "stdout",
     "output_type": "stream",
     "text": [
      "{'a', 'b'}\n",
      "{'c', 'd'}\n",
      "set()\n"
     ]
    }
   ],
   "source": [
    "a = {'a': 5, 'b': 2, 'c': 3, 'd': 4}\n",
    "b = {'a': 4, 'b': 1, 'k': 3, 'l': 4}\n",
    "print(a.keys() & b.keys())\n",
    "print(a.keys() - b.keys())\n",
    "print(a.items() & b.items())"
   ]
  },
  {
   "cell_type": "markdown",
   "metadata": {},
   "source": [
    "1.10. Removing Duplicates from a Sequence while Maintaining Order"
   ]
  },
  {
   "cell_type": "code",
   "execution_count": 79,
   "metadata": {},
   "outputs": [
    {
     "name": "stdout",
     "output_type": "stream",
     "text": [
      "[1, 2, 3, 4, 5]\n",
      "[{'x': 1, 'y': 2}, {'x': 1, 'y': 3}, {'x': 2, 'y': 4}]\n"
     ]
    }
   ],
   "source": [
    "def dedupe(items, key=None):\n",
    "    seen = set()\n",
    "    for item in items:\n",
    "        val = item if key is None else key(item)\n",
    "        if val not in seen:\n",
    "            yield item\n",
    "            seen.add(val)\n",
    "p = [1, 2, 3, 4, 5, 2, 1]\n",
    "removed_dup = [x for x in dedupe(p)]\n",
    "print(removed_dup)\n",
    "a = [ {'x':1, 'y':2}, {'x':1, 'y':3}, {'x':1, 'y':2}, {'x':2, 'y':4}]\n",
    "removed_dup_d = [x for x in dedupe(a, key=lambda d: (d['x'], d['y']))]\n",
    "print(removed_dup_d)"
   ]
  },
  {
   "cell_type": "markdown",
   "metadata": {},
   "source": [
    "1.11. Naming a Slice"
   ]
  },
  {
   "cell_type": "code",
   "execution_count": 80,
   "metadata": {},
   "outputs": [
    {
     "name": "stdout",
     "output_type": "stream",
     "text": [
      "100 513.25\n"
     ]
    }
   ],
   "source": [
    "######    0123456789012345678901234567890123456789012345678901234567890'\n",
    "record = '....................100          .......513.25     ..........'\n",
    "SHARE_SLICE = slice(20,32)\n",
    "PRICE_SLICE = slice(40,48)\n",
    "share = int(record[SHARE_SLICE])\n",
    "price = float(record[PRICE_SLICE])\n",
    "print(share, price)"
   ]
  },
  {
   "cell_type": "markdown",
   "metadata": {},
   "source": [
    "1.12. Determining the Most Frequently Occurring Items in a Sequence"
   ]
  },
  {
   "cell_type": "code",
   "execution_count": 96,
   "metadata": {},
   "outputs": [
    {
     "name": "stdout",
     "output_type": "stream",
     "text": [
      "around 2\n",
      "don't 1\n",
      "eyes 8\n",
      "into 3\n",
      "look 4\n",
      "my 3\n",
      "not 1\n",
      "the 5\n",
      "under 1\n",
      "you're 1\n",
      "[('eyes', 8), ('the', 5), ('look', 4)]\n",
      "[('eyes', 9), ('the', 5), ('look', 4)]\n"
     ]
    }
   ],
   "source": [
    "words = [\n",
    "       'look', 'into', 'my', 'eyes', 'look', 'into', 'my', 'eyes',\n",
    "       'the', 'eyes', 'the', 'eyes', 'the', 'eyes', 'not', 'around', 'the',\n",
    "       'eyes', \"don't\", 'look', 'around', 'the', 'eyes', 'look', 'into',\n",
    "       'my', 'eyes', \"you're\", 'under'\n",
    "]\n",
    "import itertools\n",
    "for word, same_word in itertools.groupby(sorted(words), key=lambda w: w):\n",
    "    print(word, len(list(same_word)))\n",
    "\n",
    "from collections import Counter\n",
    "word_counts = Counter(words)\n",
    "print(word_counts.most_common(3))\n",
    "morewords = ['why','are','you','not','looking','in','my','eyes']\n",
    "word_counts.update(morewords)\n",
    "print(word_counts.most_common(3))"
   ]
  },
  {
   "cell_type": "markdown",
   "metadata": {},
   "source": [
    "1.13. Sorting a List of Dictionaries by a Common Key"
   ]
  },
  {
   "cell_type": "code",
   "execution_count": 105,
   "metadata": {},
   "outputs": [
    {
     "name": "stdout",
     "output_type": "stream",
     "text": [
      "[\n",
      "  {\n",
      "    \"fname\": \"Big\",\n",
      "    \"lname\": \"Jones\",\n",
      "    \"uid\": 1004\n",
      "  },\n",
      "  {\n",
      "    \"fname\": \"Brian\",\n",
      "    \"lname\": \"Jones\",\n",
      "    \"uid\": 1003\n",
      "  },\n",
      "  {\n",
      "    \"fname\": \"David\",\n",
      "    \"lname\": \"Beazley\",\n",
      "    \"uid\": 1002\n",
      "  },\n",
      "  {\n",
      "    \"fname\": \"John\",\n",
      "    \"lname\": \"Cleese\",\n",
      "    \"uid\": 1001\n",
      "  }\n",
      "]\n",
      "[\n",
      "  {\n",
      "    \"fname\": \"David\",\n",
      "    \"lname\": \"Beazley\",\n",
      "    \"uid\": 1002\n",
      "  },\n",
      "  {\n",
      "    \"fname\": \"John\",\n",
      "    \"lname\": \"Cleese\",\n",
      "    \"uid\": 1001\n",
      "  },\n",
      "  {\n",
      "    \"fname\": \"Brian\",\n",
      "    \"lname\": \"Jones\",\n",
      "    \"uid\": 1003\n",
      "  },\n",
      "  {\n",
      "    \"fname\": \"Big\",\n",
      "    \"lname\": \"Jones\",\n",
      "    \"uid\": 1004\n",
      "  }\n",
      "]\n",
      "[\n",
      "  {\n",
      "    \"fname\": \"David\",\n",
      "    \"lname\": \"Beazley\",\n",
      "    \"uid\": 1002\n",
      "  },\n",
      "  {\n",
      "    \"fname\": \"John\",\n",
      "    \"lname\": \"Cleese\",\n",
      "    \"uid\": 1001\n",
      "  },\n",
      "  {\n",
      "    \"fname\": \"Brian\",\n",
      "    \"lname\": \"Jones\",\n",
      "    \"uid\": 1003\n",
      "  },\n",
      "  {\n",
      "    \"fname\": \"Big\",\n",
      "    \"lname\": \"Jones\",\n",
      "    \"uid\": 1004\n",
      "  }\n",
      "]\n"
     ]
    }
   ],
   "source": [
    "rows = [\n",
    "        {'fname': 'Brian', 'lname': 'Jones', 'uid': 1003},\n",
    "        {'fname': 'David', 'lname': 'Beazley', 'uid': 1002},\n",
    "        {'fname': 'John', 'lname': 'Cleese', 'uid': 1001},\n",
    "        {'fname': 'Big', 'lname': 'Jones', 'uid': 1004}\n",
    "]\n",
    "import json\n",
    "print(json.dumps(sorted(rows, key=lambda d: d['fname']), indent=2))\n",
    "print(json.dumps(sorted(rows, key=lambda d: d['lname']), indent=2))\n",
    "\n",
    "from operator import itemgetter\n",
    "print(json.dumps(sorted(rows, key=itemgetter('lname')), indent=2))"
   ]
  },
  {
   "cell_type": "markdown",
   "metadata": {},
   "source": [
    "1.14. Sorting Objects Without Native Comparison Support"
   ]
  },
  {
   "cell_type": "code",
   "execution_count": 116,
   "metadata": {},
   "outputs": [
    {
     "name": "stdout",
     "output_type": "stream",
     "text": [
      "[User(99), User(23), User(3)]\n"
     ]
    },
    {
     "data": {
      "text/plain": [
       "[User(3), User(23), User(99)]"
      ]
     },
     "execution_count": 116,
     "metadata": {},
     "output_type": "execute_result"
    }
   ],
   "source": [
    "class User:\n",
    "    def __init__(self, user_id):\n",
    "        self.user_id = user_id\n",
    "    def __repr__(self):\n",
    "        return 'User({})'.format(self.user_id)\n",
    "users = [User(23), User(3), User(99)]\n",
    "print(sorted(users, key=lambda u: u.user_id, reverse=True))\n",
    "\n",
    "from operator import attrgetter\n",
    "sorted(users, key=attrgetter('user_id'))"
   ]
  },
  {
   "cell_type": "markdown",
   "metadata": {},
   "source": [
    "1.15. Grouping Records Together Based on a Field"
   ]
  },
  {
   "cell_type": "code",
   "execution_count": 122,
   "metadata": {},
   "outputs": [
    {
     "name": "stdout",
     "output_type": "stream",
     "text": [
      "07/01/2012 \n",
      " [\n",
      "  {\n",
      "    \"address\": \"5412 N CLARK\",\n",
      "    \"date\": \"07/01/2012\"\n",
      "  },\n",
      "  {\n",
      "    \"address\": \"4801 N BROADWAY\",\n",
      "    \"date\": \"07/01/2012\"\n",
      "  }\n",
      "]\n",
      "07/02/2012 \n",
      " [\n",
      "  {\n",
      "    \"address\": \"5800 E 58TH\",\n",
      "    \"date\": \"07/02/2012\"\n",
      "  },\n",
      "  {\n",
      "    \"address\": \"5645 N RAVENSWOOD\",\n",
      "    \"date\": \"07/02/2012\"\n",
      "  },\n",
      "  {\n",
      "    \"address\": \"1060 W ADDISON\",\n",
      "    \"date\": \"07/02/2012\"\n",
      "  }\n",
      "]\n",
      "07/03/2012 \n",
      " [\n",
      "  {\n",
      "    \"address\": \"2122 N CLARK\",\n",
      "    \"date\": \"07/03/2012\"\n",
      "  }\n",
      "]\n",
      "07/04/2012 \n",
      " [\n",
      "  {\n",
      "    \"address\": \"5148 N CLARK\",\n",
      "    \"date\": \"07/04/2012\"\n",
      "  },\n",
      "  {\n",
      "    \"address\": \"1039 W GRANVILLE\",\n",
      "    \"date\": \"07/04/2012\"\n",
      "  }\n",
      "]\n"
     ]
    }
   ],
   "source": [
    "rows = [\n",
    "        {'address': '5412 N CLARK', 'date': '07/01/2012'},\n",
    "        {'address': '5148 N CLARK', 'date': '07/04/2012'},\n",
    "        {'address': '5800 E 58TH', 'date': '07/02/2012'},\n",
    "        {'address': '2122 N CLARK', 'date': '07/03/2012'},\n",
    "        {'address': '5645 N RAVENSWOOD', 'date': '07/02/2012'},\n",
    "        {'address': '1060 W ADDISON', 'date': '07/02/2012'},\n",
    "        {'address': '4801 N BROADWAY', 'date': '07/01/2012'},\n",
    "        {'address': '1039 W GRANVILLE', 'date': '07/04/2012'},\n",
    "]\n",
    "import itertools\n",
    "attri_date = lambda x: x['date']\n",
    "rows.sort(key=attri_date)\n",
    "for date, row in itertools.groupby(rows, key=attri_date):\n",
    "    print(date,'\\n', json.dumps(list(row), indent=2))"
   ]
  },
  {
   "cell_type": "markdown",
   "metadata": {},
   "source": [
    "1.16. Filtering Sequence Elements"
   ]
  },
  {
   "cell_type": "code",
   "execution_count": 130,
   "metadata": {},
   "outputs": [
    {
     "name": "stdout",
     "output_type": "stream",
     "text": [
      "[4, 10, 3]\n",
      "[0, 4, 0, 10, 0, 0, 3, 0]\n"
     ]
    }
   ],
   "source": [
    "a = [1, 4, -5, 10, -7, 2, 3, -1]\n",
    "print([x for x in a if x > 2])\n",
    "print([x if x > 2 else 0 for x in a])"
   ]
  },
  {
   "cell_type": "code",
   "execution_count": 126,
   "metadata": {},
   "outputs": [
    {
     "name": "stdout",
     "output_type": "stream",
     "text": [
      "1 -5 -7 2 -1 "
     ]
    }
   ],
   "source": [
    "gen = (x for x in a if x < 3)\n",
    "for x in gen:\n",
    "    print(x, end=' ')"
   ]
  },
  {
   "cell_type": "markdown",
   "metadata": {},
   "source": [
    "1.17. Extracting a Subset of a Dictionary"
   ]
  },
  {
   "cell_type": "code",
   "execution_count": 133,
   "metadata": {},
   "outputs": [
    {
     "name": "stdout",
     "output_type": "stream",
     "text": [
      "{'AAPL': 612.78, 'IBM': 205.55}\n"
     ]
    }
   ],
   "source": [
    "prices = {\n",
    "       'ACME': 45.23,\n",
    "       'AAPL': 612.78,\n",
    "       'IBM': 205.55,\n",
    "       'HPQ': 37.20,\n",
    "       'FB': 10.75\n",
    "}\n",
    "print({key: value for key, value in prices.items() if value > 70})"
   ]
  },
  {
   "cell_type": "markdown",
   "metadata": {},
   "source": [
    "1.18. Mapping Names to Sequence Elements"
   ]
  },
  {
   "cell_type": "code",
   "execution_count": 143,
   "metadata": {},
   "outputs": [
    {
     "name": "stdout",
     "output_type": "stream",
     "text": [
      "Subscriber(addr='test1@test.com', joined='2011-10-10')\n",
      "test1@test.com\n",
      "test1@test.com 2011-10-10\n",
      "Subscriber(addr='test3@test.com', joined='2011-10-10')\n"
     ]
    }
   ],
   "source": [
    "from collections import namedtuple\n",
    "Subscriber = namedtuple('Subscriber', ['addr', 'joined'])\n",
    "sub = Subscriber('test1@test.com', '2011-10-10')\n",
    "print(sub)\n",
    "print(sub.addr)\n",
    "addr, joined = sub\n",
    "print(addr, joined)\n",
    "sub = sub._replace(addr='test3@test.com')\n",
    "print(sub)"
   ]
  },
  {
   "cell_type": "markdown",
   "metadata": {},
   "source": [
    "1.19. Transforming and Reducing Data at the Same Time"
   ]
  },
  {
   "cell_type": "code",
   "execution_count": 144,
   "metadata": {},
   "outputs": [
    {
     "name": "stdout",
     "output_type": "stream",
     "text": [
      "15\n"
     ]
    }
   ],
   "source": [
    "nums = [1, 2, 3, 4, 5]\n",
    "print(sum(n for n in nums))"
   ]
  },
  {
   "cell_type": "markdown",
   "metadata": {},
   "source": [
    "1.20. Combining Multiple Mappings into a Single Sum"
   ]
  },
  {
   "cell_type": "code",
   "execution_count": 149,
   "metadata": {},
   "outputs": [
    {
     "name": "stdout",
     "output_type": "stream",
     "text": [
      "{'x': 1, 'z': 3} {'y': 2, 'z': 4} ChainMap({'x': 1, 'z': 3}, {'y': 2, 'z': 4})\n",
      "{'x': 1} {'y': 2, 'z': 4} 4\n"
     ]
    }
   ],
   "source": [
    "from collections import ChainMap\n",
    "a = {'x': 1, 'z': 3 }\n",
    "b = {'y': 2, 'z': 4 }\n",
    "c = ChainMap(a, b)\n",
    "print(a, b, c)\n",
    "del a['z']\n",
    "print(a, b, c['z'])"
   ]
  },
  {
   "cell_type": "code",
   "execution_count": 150,
   "metadata": {},
   "outputs": [
    {
     "name": "stdout",
     "output_type": "stream",
     "text": [
      "{'x': 1, 'y': 2, 'z': 4} {'y': 2, 'z': 4}\n"
     ]
    }
   ],
   "source": [
    "a.update(b)\n",
    "print(a, b)"
   ]
  }
 ],
 "metadata": {
  "kernelspec": {
   "display_name": "Python 3",
   "language": "python",
   "name": "python3"
  },
  "language_info": {
   "codemirror_mode": {
    "name": "ipython",
    "version": 3
   },
   "file_extension": ".py",
   "mimetype": "text/x-python",
   "name": "python",
   "nbconvert_exporter": "python",
   "pygments_lexer": "ipython3",
   "version": "3.6.4"
  }
 },
 "nbformat": 4,
 "nbformat_minor": 2
}
